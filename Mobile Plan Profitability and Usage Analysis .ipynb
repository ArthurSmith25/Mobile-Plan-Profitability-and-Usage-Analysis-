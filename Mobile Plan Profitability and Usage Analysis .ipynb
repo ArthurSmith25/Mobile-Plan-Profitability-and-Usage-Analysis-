{
 "cells": [
  {
   "cell_type": "markdown",
   "metadata": {
    "id": "3rYiDeEH0q0f"
   },
   "source": [
    "# 📞 Mobile Plan Profitability and Usage Analysis  (Megaline) #\n",
    "\n",
    "**Proyecto:** Análisis de rentabilidad y comportamiento por plan móvil\n",
    "**Autor:** Carlos Arturo Crespo Smith\n",
    "**Fecha:** Junio 2025\n",
    "\n",
    "*Descripción del Proyecto:*\n",
    "Este proyecto se centra en el **análisis del comportamiento de los clientes y la determinación de la tarifa de prepago más rentable (Surf vs. Ultimate)** para el operador de telecomunicaciones Megaline. Utilizando un conjunto de datos que incluye información de 500 clientes sobre su uso de llamadas, mensajes e internet, se investiga cómo estos patrones de consumo impactan en los ingresos generados por cada plan. El proyecto aborda el desafío de trabajar con datos brutos, incluyendo la necesidad de preprocesamiento, y aplica técnicas de análisis exploratorio y pruebas estadísticas para validar hipótesis de negocio.\n",
    "\n",
    "*🎯 Objetivos Clave:*\n",
    "- **Preprocesamiento y Limpieza de Datos:** Preparar y estandarizar datos de múltiples fuentes (usuarios, llamadas, mensajes, internet y planes) para asegurar su calidad y consistencia.\n",
    "- **Ingeniería de Características:** Calcular el uso mensual de servicios (minutos, mensajes, GB) y derivar el ingreso total generado por cada cliente, incluyendo los costos por excedentes.\n",
    "- **Análisis Exploratorio de Datos (EDA):** Comparar el comportamiento de uso y los ingresos entre los planes tarifarios Surf y Ultimate, identificando tendencias y distribuciones clave.\n",
    "- **Prueba de Hipótesis Estadística:** Validar si existen diferencias significativas en los ingresos promedio entre los planes y entre distintas regiones geográficas.\n",
    "- **Recomendaciones de Negocio:** Proporcionar insights basados en datos para ayudar al departamento comercial a ajustar el presupuesto de publicidad y optimizar las estrategias de tarifas.\n",
    "\n",
    "*🛠️ Habilidades Demostradas:*\n",
    "- **Python:** Dominio en la manipulación de DataFrames (pandas) para la integración, agregación y transformación de datos.\n",
    "- **Análisis Exploratorio de Datos (EDA):** Capacidad para inspeccionar, resumir y visualizar datos para descubrir patrones y anomalías.\n",
    "- **Preprocesamiento de Datos:** Experiencia en la gestión de valores ausentes, corrección de tipos de datos y estandarización de columnas en conjuntos de datos diversos.\n",
    "- **Estadística Aplicada:** Habilidad para formular y ejecutar pruebas de hipótesis (t-test, Levene) para la inferencia estadística.\n",
    "- **Visualización de Datos:** Creación de gráficos informativos (histogramas, diagramas de caja, gráficos de barras) para comunicar hallazgos clave.\n",
    "- **Resolución de Problemas:** Habilidad para abordar desafíos de datos y traducir la lógica de negocio en cálculos precisos.\n",
    "- **Atención al Detalle:** Rigor en cada etapa del procesamiento y análisis para asegurar la precisión de los resultados.\n",
    "\n",
    "---\n",
    "\n",
    "**Contexto del Análisis:**\n",
    "Como analista para el operador de telecomunicaciones Megaline, este proyecto surge de la necesidad del departamento comercial de entender mejor la rentabilidad de sus tarifas de prepago, Surf y Ultimate. El objetivo es proporcionar un análisis preliminar del comportamiento de los clientes y los ingresos generados, sirviendo como base para futuras decisiones estratégicas de publicidad y desarrollo de planes."
   ]
  },
  {
   "cell_type": "markdown",
   "metadata": {
    "id": "MQi4IPy70q0y"
   },
   "source": [
    "### **1. Inicialización**\n",
    "\n",
    "En esta sección, se importarán todas las librerías necesarias para el análisis y se cargarán los conjuntos de datos proporcionados por Megaline."
   ]
  },
  {
   "cell_type": "code",
   "execution_count": 5,
   "metadata": {
    "id": "MtYIuBxu0q0z",
    "trusted": true
   },
   "outputs": [],
   "source": [
    "# Importando librerias\n",
    "from scipy import stats as st\n",
    "from scipy.stats import levene\n",
    "import numpy as np\n",
    "import pandas as pd\n",
    "from matplotlib import pyplot as plt\n",
    "import seaborn as sns"
   ]
  },
  {
   "cell_type": "code",
   "execution_count": 6,
   "metadata": {
    "id": "CCqPW7rS0q01",
    "trusted": true
   },
   "outputs": [],
   "source": [
    "# Cargando datos en distintos Dataframes\n",
    "users= pd.read_csv('megaline_users.csv')\n",
    "calls= pd.read_csv('megaline_calls.csv')\n",
    "internet= pd.read_csv('megaline_internet.csv')\n",
    "messages= pd.read_csv('megaline_messages.csv')\n",
    "plans= pd.read_csv('megaline_plans.csv')\n"
   ]
  },
  {
   "cell_type": "markdown",
   "metadata": {
    "id": "69qqoJ3r0q01"
   },
   "source": [
    "### **2. Preparación de los Datos**\n",
    "\n",
    "En esta etapa, se realizará una exploración inicial de cada DataFrame para entender su estructura, identificar tipos de datos, valores ausentes y posibles anomalías. Luego, se procederá a corregir y enriquecer los datos para garantizar su calidad y adecuación para el análisis.\n",
    "\n",
    "#### **2.1. Exploración Inicial y Observaciones**\n",
    "\n",
    "Se revisará la información general, los valores nulos y una muestra de los datos para cada uno de los DataFrames: `users`, `calls`, `messages`, `internet` y `plans`.\n",
    "\n",
    "\n",
    "**`users` DataFrame**"
   ]
  },
  {
   "cell_type": "code",
   "execution_count": 7,
   "metadata": {
    "trusted": true
   },
   "outputs": [
    {
     "name": "stdout",
     "output_type": "stream",
     "text": [
      "Información general de dataframe 'users': \n",
      "\n",
      "<class 'pandas.core.frame.DataFrame'>\n",
      "RangeIndex: 500 entries, 0 to 499\n",
      "Data columns (total 8 columns):\n",
      " #   Column      Non-Null Count  Dtype \n",
      "---  ------      --------------  ----- \n",
      " 0   user_id     500 non-null    int64 \n",
      " 1   first_name  500 non-null    object\n",
      " 2   last_name   500 non-null    object\n",
      " 3   age         500 non-null    int64 \n",
      " 4   city        500 non-null    object\n",
      " 5   reg_date    500 non-null    object\n",
      " 6   plan        500 non-null    object\n",
      " 7   churn_date  34 non-null     object\n",
      "dtypes: int64(2), object(6)\n",
      "memory usage: 31.4+ KB\n",
      "\n",
      " Valores nulos en dataframe 'users':\n"
     ]
    },
    {
     "data": {
      "text/plain": [
       "user_id         0\n",
       "first_name      0\n",
       "last_name       0\n",
       "age             0\n",
       "city            0\n",
       "reg_date        0\n",
       "plan            0\n",
       "churn_date    466\n",
       "dtype: int64"
      ]
     },
     "execution_count": 7,
     "metadata": {},
     "output_type": "execute_result"
    }
   ],
   "source": [
    "print(\"Información general de dataframe 'users': \\n\")\n",
    "users.info()\n",
    "print(\"\\n Valores nulos en dataframe 'users':\")\n",
    "users.isna().sum()"
   ]
  },
  {
   "cell_type": "markdown",
   "metadata": {},
   "source": [
    "**Observaciones:**\n",
    "\n",
    "Se detecta que la columna `churn_date` tiene 466 valores ausentes. Un valor ausente en dicha columna significa que la tarifa se estaba usando al momento del corte de la información.\n",
    "\n",
    "**`calls` DataFrame**"
   ]
  },
  {
   "cell_type": "code",
   "execution_count": 8,
   "metadata": {
    "trusted": true
   },
   "outputs": [
    {
     "name": "stdout",
     "output_type": "stream",
     "text": [
      "Información general de dataframe 'calls': \n",
      "\n",
      "<class 'pandas.core.frame.DataFrame'>\n",
      "RangeIndex: 137735 entries, 0 to 137734\n",
      "Data columns (total 4 columns):\n",
      " #   Column     Non-Null Count   Dtype  \n",
      "---  ------     --------------   -----  \n",
      " 0   id         137735 non-null  object \n",
      " 1   user_id    137735 non-null  int64  \n",
      " 2   call_date  137735 non-null  object \n",
      " 3   duration   137735 non-null  float64\n",
      "dtypes: float64(1), int64(1), object(2)\n",
      "memory usage: 4.2+ MB\n",
      "\n",
      " Valores nulos en dataframe 'calls':\n"
     ]
    },
    {
     "data": {
      "text/plain": [
       "id           0\n",
       "user_id      0\n",
       "call_date    0\n",
       "duration     0\n",
       "dtype: int64"
      ]
     },
     "execution_count": 8,
     "metadata": {},
     "output_type": "execute_result"
    }
   ],
   "source": [
    "print(\"Información general de dataframe 'calls': \\n\")\n",
    "calls.info()\n",
    "print(\"\\n Valores nulos en dataframe 'calls':\")\n",
    "calls.isna().sum()"
   ]
  },
  {
   "cell_type": "markdown",
   "metadata": {},
   "source": [
    "**Observaciones:**\n",
    "\n",
    "El `user_id` está catalogado como `int64`, y `call_date` como `object`.\n",
    "\n",
    "\n",
    "**`internet` DataFrame**"
   ]
  },
  {
   "cell_type": "code",
   "execution_count": null,
   "metadata": {
    "trusted": true
   },
   "outputs": [
    {
     "name": "stdout",
     "output_type": "stream",
     "text": [
      "\n",
      " Valores nulos en dataframe 'internet':\n",
      "<class 'pandas.core.frame.DataFrame'>\n",
      "RangeIndex: 104825 entries, 0 to 104824\n",
      "Data columns (total 4 columns):\n",
      " #   Column        Non-Null Count   Dtype  \n",
      "---  ------        --------------   -----  \n",
      " 0   id            104825 non-null  object \n",
      " 1   user_id       104825 non-null  int64  \n",
      " 2   session_date  104825 non-null  object \n",
      " 3   mb_used       104825 non-null  float64\n",
      "dtypes: float64(1), int64(1), object(2)\n",
      "memory usage: 3.2+ MB\n",
      "\n",
      " Valores nulos en dataframe 'internet':\n"
     ]
    },
    {
     "data": {
      "text/plain": [
       "id              0\n",
       "user_id         0\n",
       "session_date    0\n",
       "mb_used         0\n",
       "dtype: int64"
      ]
     },
     "execution_count": 9,
     "metadata": {},
     "output_type": "execute_result"
    }
   ],
   "source": [
    "print(\"\\n Valores nulos en dataframe 'internet':\")\n",
    "internet.info()\n",
    "print(\"\\n Valores nulos en dataframe 'internet':\")\n",
    "internet.isna().sum() "
   ]
  },
  {
   "cell_type": "markdown",
   "metadata": {},
   "source": [
    "**Observaciones:**\n",
    "\n",
    "La columna de `user_id` se encuentra como tipo `int` y `session_date` como tipo `object`.\n",
    "\n",
    "**`messages` DataFrame**"
   ]
  },
  {
   "cell_type": "code",
   "execution_count": 10,
   "metadata": {
    "trusted": true
   },
   "outputs": [
    {
     "name": "stdout",
     "output_type": "stream",
     "text": [
      "\n",
      " Valores nulos en dataframe 'messages':\n",
      "<class 'pandas.core.frame.DataFrame'>\n",
      "RangeIndex: 76051 entries, 0 to 76050\n",
      "Data columns (total 3 columns):\n",
      " #   Column        Non-Null Count  Dtype \n",
      "---  ------        --------------  ----- \n",
      " 0   id            76051 non-null  object\n",
      " 1   user_id       76051 non-null  int64 \n",
      " 2   message_date  76051 non-null  object\n",
      "dtypes: int64(1), object(2)\n",
      "memory usage: 1.7+ MB\n",
      "\n",
      " Valores nulos en dataframe 'messages':\n"
     ]
    },
    {
     "data": {
      "text/plain": [
       "id              0\n",
       "user_id         0\n",
       "message_date    0\n",
       "dtype: int64"
      ]
     },
     "execution_count": 10,
     "metadata": {},
     "output_type": "execute_result"
    }
   ],
   "source": [
    "print(\"\\n Valores nulos en dataframe 'messages':\")\n",
    "messages.info()\n",
    "print(\"\\n Valores nulos en dataframe 'messages':\")\n",
    "messages.isna().sum()"
   ]
  },
  {
   "cell_type": "markdown",
   "metadata": {},
   "source": [
    "**Observaciones:**\n",
    "\n",
    "La columna de `user_id` se encuentra como tipo `int` y `message_date` como tipo `object`.\n",
    "\n",
    "**`plans` DataFrame**"
   ]
  },
  {
   "cell_type": "code",
   "execution_count": 11,
   "metadata": {
    "trusted": true
   },
   "outputs": [
    {
     "name": "stdout",
     "output_type": "stream",
     "text": [
      "\n",
      " Valores nulos en dataframe 'plans':\n",
      "<class 'pandas.core.frame.DataFrame'>\n",
      "RangeIndex: 2 entries, 0 to 1\n",
      "Data columns (total 8 columns):\n",
      " #   Column                 Non-Null Count  Dtype  \n",
      "---  ------                 --------------  -----  \n",
      " 0   messages_included      2 non-null      int64  \n",
      " 1   mb_per_month_included  2 non-null      int64  \n",
      " 2   minutes_included       2 non-null      int64  \n",
      " 3   usd_monthly_pay        2 non-null      int64  \n",
      " 4   usd_per_gb             2 non-null      int64  \n",
      " 5   usd_per_message        2 non-null      float64\n",
      " 6   usd_per_minute         2 non-null      float64\n",
      " 7   plan_name              2 non-null      object \n",
      "dtypes: float64(2), int64(5), object(1)\n",
      "memory usage: 260.0+ bytes\n",
      "\n",
      " Valores nulos en dataframe 'plans':\n"
     ]
    },
    {
     "data": {
      "text/plain": [
       "messages_included        0\n",
       "mb_per_month_included    0\n",
       "minutes_included         0\n",
       "usd_monthly_pay          0\n",
       "usd_per_gb               0\n",
       "usd_per_message          0\n",
       "usd_per_minute           0\n",
       "plan_name                0\n",
       "dtype: int64"
      ]
     },
     "execution_count": 11,
     "metadata": {},
     "output_type": "execute_result"
    }
   ],
   "source": [
    "print(\"\\n Valores nulos en dataframe 'plans':\")\n",
    "plans.info()\n",
    "\n",
    "print(\"\\n Valores nulos en dataframe 'plans':\")\n",
    "plans.isna().sum()"
   ]
  },
  {
   "cell_type": "markdown",
   "metadata": {
    "id": "ohBhimvH0q01"
   },
   "source": [
    "**Observaciones**:\n",
    "\n",
    "Se observa que todos los campos del dataframe `plans` son numéricos, en su mayoría de tipo `int64`. Únicamente aquellos que establecen la tarifa individual de cobro para mensajes y llamadas por minuto son de tipo `float64`. Las categorías de las tarifas, que solo son dos, son de tipo `object`, ya que es una nomenclatura para dichos planes. No se observan valores ausentes ni se perciben escenarios donde se deba adecuar la información."
   ]
  },
  {
   "cell_type": "markdown",
   "metadata": {},
   "source": [
    "#### **2.2. Corrección de Datos**\n",
    "\n",
    "Se aplicarán las correcciones necesarias para los tipos de datos y el manejo de valores ausentes, según las observaciones anteriores.\n",
    "\n",
    "**`users` DataFrame**"
   ]
  },
  {
   "cell_type": "code",
   "execution_count": 14,
   "metadata": {
    "id": "2NgjWFqx0q05",
    "trusted": true
   },
   "outputs": [
    {
     "name": "stdout",
     "output_type": "stream",
     "text": [
      "Información general de dataframe 'users': \n",
      "\n"
     ]
    },
    {
     "data": {
      "text/html": [
       "<div>\n",
       "<style scoped>\n",
       "    .dataframe tbody tr th:only-of-type {\n",
       "        vertical-align: middle;\n",
       "    }\n",
       "\n",
       "    .dataframe tbody tr th {\n",
       "        vertical-align: top;\n",
       "    }\n",
       "\n",
       "    .dataframe thead th {\n",
       "        text-align: right;\n",
       "    }\n",
       "</style>\n",
       "<table border=\"1\" class=\"dataframe\">\n",
       "  <thead>\n",
       "    <tr style=\"text-align: right;\">\n",
       "      <th></th>\n",
       "      <th>user_id</th>\n",
       "      <th>first_name</th>\n",
       "      <th>last_name</th>\n",
       "      <th>age</th>\n",
       "      <th>city</th>\n",
       "      <th>reg_date</th>\n",
       "      <th>plan</th>\n",
       "      <th>churn_date</th>\n",
       "    </tr>\n",
       "  </thead>\n",
       "  <tbody>\n",
       "    <tr>\n",
       "      <th>count</th>\n",
       "      <td>500.000000</td>\n",
       "      <td>500</td>\n",
       "      <td>500</td>\n",
       "      <td>500.000000</td>\n",
       "      <td>500</td>\n",
       "      <td>500</td>\n",
       "      <td>500</td>\n",
       "      <td>34</td>\n",
       "    </tr>\n",
       "    <tr>\n",
       "      <th>unique</th>\n",
       "      <td>NaN</td>\n",
       "      <td>458</td>\n",
       "      <td>399</td>\n",
       "      <td>NaN</td>\n",
       "      <td>73</td>\n",
       "      <td>266</td>\n",
       "      <td>2</td>\n",
       "      <td>29</td>\n",
       "    </tr>\n",
       "    <tr>\n",
       "      <th>top</th>\n",
       "      <td>NaN</td>\n",
       "      <td>Leonila</td>\n",
       "      <td>Conley</td>\n",
       "      <td>NaN</td>\n",
       "      <td>New York-Newark-Jersey City, NY-NJ-PA MSA</td>\n",
       "      <td>2018-11-29</td>\n",
       "      <td>surf</td>\n",
       "      <td>2018-12-18</td>\n",
       "    </tr>\n",
       "    <tr>\n",
       "      <th>freq</th>\n",
       "      <td>NaN</td>\n",
       "      <td>3</td>\n",
       "      <td>3</td>\n",
       "      <td>NaN</td>\n",
       "      <td>80</td>\n",
       "      <td>5</td>\n",
       "      <td>339</td>\n",
       "      <td>3</td>\n",
       "    </tr>\n",
       "    <tr>\n",
       "      <th>mean</th>\n",
       "      <td>1249.500000</td>\n",
       "      <td>NaN</td>\n",
       "      <td>NaN</td>\n",
       "      <td>45.486000</td>\n",
       "      <td>NaN</td>\n",
       "      <td>NaN</td>\n",
       "      <td>NaN</td>\n",
       "      <td>NaN</td>\n",
       "    </tr>\n",
       "    <tr>\n",
       "      <th>std</th>\n",
       "      <td>144.481833</td>\n",
       "      <td>NaN</td>\n",
       "      <td>NaN</td>\n",
       "      <td>16.972269</td>\n",
       "      <td>NaN</td>\n",
       "      <td>NaN</td>\n",
       "      <td>NaN</td>\n",
       "      <td>NaN</td>\n",
       "    </tr>\n",
       "    <tr>\n",
       "      <th>min</th>\n",
       "      <td>1000.000000</td>\n",
       "      <td>NaN</td>\n",
       "      <td>NaN</td>\n",
       "      <td>18.000000</td>\n",
       "      <td>NaN</td>\n",
       "      <td>NaN</td>\n",
       "      <td>NaN</td>\n",
       "      <td>NaN</td>\n",
       "    </tr>\n",
       "    <tr>\n",
       "      <th>25%</th>\n",
       "      <td>1124.750000</td>\n",
       "      <td>NaN</td>\n",
       "      <td>NaN</td>\n",
       "      <td>30.000000</td>\n",
       "      <td>NaN</td>\n",
       "      <td>NaN</td>\n",
       "      <td>NaN</td>\n",
       "      <td>NaN</td>\n",
       "    </tr>\n",
       "    <tr>\n",
       "      <th>50%</th>\n",
       "      <td>1249.500000</td>\n",
       "      <td>NaN</td>\n",
       "      <td>NaN</td>\n",
       "      <td>46.000000</td>\n",
       "      <td>NaN</td>\n",
       "      <td>NaN</td>\n",
       "      <td>NaN</td>\n",
       "      <td>NaN</td>\n",
       "    </tr>\n",
       "    <tr>\n",
       "      <th>75%</th>\n",
       "      <td>1374.250000</td>\n",
       "      <td>NaN</td>\n",
       "      <td>NaN</td>\n",
       "      <td>61.000000</td>\n",
       "      <td>NaN</td>\n",
       "      <td>NaN</td>\n",
       "      <td>NaN</td>\n",
       "      <td>NaN</td>\n",
       "    </tr>\n",
       "    <tr>\n",
       "      <th>max</th>\n",
       "      <td>1499.000000</td>\n",
       "      <td>NaN</td>\n",
       "      <td>NaN</td>\n",
       "      <td>75.000000</td>\n",
       "      <td>NaN</td>\n",
       "      <td>NaN</td>\n",
       "      <td>NaN</td>\n",
       "      <td>NaN</td>\n",
       "    </tr>\n",
       "  </tbody>\n",
       "</table>\n",
       "</div>"
      ],
      "text/plain": [
       "            user_id first_name last_name         age  \\\n",
       "count    500.000000        500       500  500.000000   \n",
       "unique          NaN        458       399         NaN   \n",
       "top             NaN    Leonila    Conley         NaN   \n",
       "freq            NaN          3         3         NaN   \n",
       "mean    1249.500000        NaN       NaN   45.486000   \n",
       "std      144.481833        NaN       NaN   16.972269   \n",
       "min     1000.000000        NaN       NaN   18.000000   \n",
       "25%     1124.750000        NaN       NaN   30.000000   \n",
       "50%     1249.500000        NaN       NaN   46.000000   \n",
       "75%     1374.250000        NaN       NaN   61.000000   \n",
       "max     1499.000000        NaN       NaN   75.000000   \n",
       "\n",
       "                                             city    reg_date  plan  \\\n",
       "count                                         500         500   500   \n",
       "unique                                         73         266     2   \n",
       "top     New York-Newark-Jersey City, NY-NJ-PA MSA  2018-11-29  surf   \n",
       "freq                                           80           5   339   \n",
       "mean                                          NaN         NaN   NaN   \n",
       "std                                           NaN         NaN   NaN   \n",
       "min                                           NaN         NaN   NaN   \n",
       "25%                                           NaN         NaN   NaN   \n",
       "50%                                           NaN         NaN   NaN   \n",
       "75%                                           NaN         NaN   NaN   \n",
       "max                                           NaN         NaN   NaN   \n",
       "\n",
       "        churn_date  \n",
       "count           34  \n",
       "unique          29  \n",
       "top     2018-12-18  \n",
       "freq             3  \n",
       "mean           NaN  \n",
       "std            NaN  \n",
       "min            NaN  \n",
       "25%            NaN  \n",
       "50%            NaN  \n",
       "75%            NaN  \n",
       "max            NaN  "
      ]
     },
     "execution_count": 14,
     "metadata": {},
     "output_type": "execute_result"
    }
   ],
   "source": [
    "# Información general/resumida sobre el DataFrame de las tarifas\n",
    "print(\"Información general de dataframe 'users': \\n\")\n",
    "users.describe(include='all')"
   ]
  },
  {
   "cell_type": "code",
   "execution_count": 15,
   "metadata": {
    "id": "1IN1L9uh0q05",
    "trusted": true
   },
   "outputs": [
    {
     "data": {
      "text/html": [
       "<div>\n",
       "<style scoped>\n",
       "    .dataframe tbody tr th:only-of-type {\n",
       "        vertical-align: middle;\n",
       "    }\n",
       "\n",
       "    .dataframe tbody tr th {\n",
       "        vertical-align: top;\n",
       "    }\n",
       "\n",
       "    .dataframe thead th {\n",
       "        text-align: right;\n",
       "    }\n",
       "</style>\n",
       "<table border=\"1\" class=\"dataframe\">\n",
       "  <thead>\n",
       "    <tr style=\"text-align: right;\">\n",
       "      <th></th>\n",
       "      <th>user_id</th>\n",
       "      <th>first_name</th>\n",
       "      <th>last_name</th>\n",
       "      <th>age</th>\n",
       "      <th>city</th>\n",
       "      <th>reg_date</th>\n",
       "      <th>plan</th>\n",
       "      <th>churn_date</th>\n",
       "    </tr>\n",
       "  </thead>\n",
       "  <tbody>\n",
       "    <tr>\n",
       "      <th>269</th>\n",
       "      <td>1269</td>\n",
       "      <td>Irving</td>\n",
       "      <td>Thompson</td>\n",
       "      <td>39</td>\n",
       "      <td>Dallas-Fort Worth-Arlington, TX MSA</td>\n",
       "      <td>2018-09-13</td>\n",
       "      <td>ultimate</td>\n",
       "      <td>2018-12-15</td>\n",
       "    </tr>\n",
       "    <tr>\n",
       "      <th>165</th>\n",
       "      <td>1165</td>\n",
       "      <td>Nigel</td>\n",
       "      <td>Huber</td>\n",
       "      <td>20</td>\n",
       "      <td>Philadelphia-Camden-Wilmington, PA-NJ-DE-MD MSA</td>\n",
       "      <td>2018-10-27</td>\n",
       "      <td>surf</td>\n",
       "      <td>NaN</td>\n",
       "    </tr>\n",
       "    <tr>\n",
       "      <th>397</th>\n",
       "      <td>1397</td>\n",
       "      <td>Willow</td>\n",
       "      <td>Steele</td>\n",
       "      <td>70</td>\n",
       "      <td>Oklahoma City, OK MSA</td>\n",
       "      <td>2018-06-01</td>\n",
       "      <td>surf</td>\n",
       "      <td>NaN</td>\n",
       "    </tr>\n",
       "    <tr>\n",
       "      <th>470</th>\n",
       "      <td>1470</td>\n",
       "      <td>Gerald</td>\n",
       "      <td>Reese</td>\n",
       "      <td>45</td>\n",
       "      <td>Washington-Arlington-Alexandria, DC-VA-MD-WV MSA</td>\n",
       "      <td>2018-04-21</td>\n",
       "      <td>surf</td>\n",
       "      <td>NaN</td>\n",
       "    </tr>\n",
       "    <tr>\n",
       "      <th>33</th>\n",
       "      <td>1033</td>\n",
       "      <td>Latoyia</td>\n",
       "      <td>Moran</td>\n",
       "      <td>28</td>\n",
       "      <td>Oklahoma City, OK MSA</td>\n",
       "      <td>2018-05-30</td>\n",
       "      <td>ultimate</td>\n",
       "      <td>NaN</td>\n",
       "    </tr>\n",
       "    <tr>\n",
       "      <th>132</th>\n",
       "      <td>1132</td>\n",
       "      <td>Edward</td>\n",
       "      <td>Roberts</td>\n",
       "      <td>39</td>\n",
       "      <td>San Francisco-Oakland-Berkeley, CA MSA</td>\n",
       "      <td>2018-04-14</td>\n",
       "      <td>ultimate</td>\n",
       "      <td>NaN</td>\n",
       "    </tr>\n",
       "    <tr>\n",
       "      <th>462</th>\n",
       "      <td>1462</td>\n",
       "      <td>Lesley</td>\n",
       "      <td>Workman</td>\n",
       "      <td>20</td>\n",
       "      <td>Las Vegas-Henderson-Paradise, NV MSA</td>\n",
       "      <td>2018-09-05</td>\n",
       "      <td>ultimate</td>\n",
       "      <td>NaN</td>\n",
       "    </tr>\n",
       "    <tr>\n",
       "      <th>140</th>\n",
       "      <td>1140</td>\n",
       "      <td>Randolph</td>\n",
       "      <td>Graves</td>\n",
       "      <td>53</td>\n",
       "      <td>New York-Newark-Jersey City, NY-NJ-PA MSA</td>\n",
       "      <td>2018-03-26</td>\n",
       "      <td>surf</td>\n",
       "      <td>NaN</td>\n",
       "    </tr>\n",
       "    <tr>\n",
       "      <th>318</th>\n",
       "      <td>1318</td>\n",
       "      <td>Huey</td>\n",
       "      <td>Walsh</td>\n",
       "      <td>54</td>\n",
       "      <td>Atlanta-Sandy Springs-Roswell, GA MSA</td>\n",
       "      <td>2018-09-29</td>\n",
       "      <td>surf</td>\n",
       "      <td>NaN</td>\n",
       "    </tr>\n",
       "    <tr>\n",
       "      <th>497</th>\n",
       "      <td>1497</td>\n",
       "      <td>Donte</td>\n",
       "      <td>Barrera</td>\n",
       "      <td>49</td>\n",
       "      <td>Los Angeles-Long Beach-Anaheim, CA MSA</td>\n",
       "      <td>2018-12-10</td>\n",
       "      <td>ultimate</td>\n",
       "      <td>NaN</td>\n",
       "    </tr>\n",
       "  </tbody>\n",
       "</table>\n",
       "</div>"
      ],
      "text/plain": [
       "     user_id first_name last_name  age  \\\n",
       "269     1269     Irving  Thompson   39   \n",
       "165     1165      Nigel     Huber   20   \n",
       "397     1397     Willow    Steele   70   \n",
       "470     1470     Gerald     Reese   45   \n",
       "33      1033    Latoyia     Moran   28   \n",
       "132     1132     Edward   Roberts   39   \n",
       "462     1462     Lesley   Workman   20   \n",
       "140     1140   Randolph    Graves   53   \n",
       "318     1318       Huey     Walsh   54   \n",
       "497     1497      Donte   Barrera   49   \n",
       "\n",
       "                                                 city    reg_date      plan  \\\n",
       "269               Dallas-Fort Worth-Arlington, TX MSA  2018-09-13  ultimate   \n",
       "165   Philadelphia-Camden-Wilmington, PA-NJ-DE-MD MSA  2018-10-27      surf   \n",
       "397                             Oklahoma City, OK MSA  2018-06-01      surf   \n",
       "470  Washington-Arlington-Alexandria, DC-VA-MD-WV MSA  2018-04-21      surf   \n",
       "33                              Oklahoma City, OK MSA  2018-05-30  ultimate   \n",
       "132            San Francisco-Oakland-Berkeley, CA MSA  2018-04-14  ultimate   \n",
       "462              Las Vegas-Henderson-Paradise, NV MSA  2018-09-05  ultimate   \n",
       "140         New York-Newark-Jersey City, NY-NJ-PA MSA  2018-03-26      surf   \n",
       "318             Atlanta-Sandy Springs-Roswell, GA MSA  2018-09-29      surf   \n",
       "497            Los Angeles-Long Beach-Anaheim, CA MSA  2018-12-10  ultimate   \n",
       "\n",
       "     churn_date  \n",
       "269  2018-12-15  \n",
       "165         NaN  \n",
       "397         NaN  \n",
       "470         NaN  \n",
       "33          NaN  \n",
       "132         NaN  \n",
       "462         NaN  \n",
       "140         NaN  \n",
       "318         NaN  \n",
       "497         NaN  "
      ]
     },
     "execution_count": 15,
     "metadata": {},
     "output_type": "execute_result"
    }
   ],
   "source": [
    "# Imprime una muestra de datos para usuarios\n",
    "users.sample(10)\n"
   ]
  },
  {
   "cell_type": "markdown",
   "metadata": {
    "id": "8OdKMwJv0q06"
   },
   "source": [
    "Convertiremos las columnas `churn_date` y `reg_date` a tipo `datetime`."
   ]
  },
  {
   "cell_type": "code",
   "execution_count": 16,
   "metadata": {
    "id": "yUqX-K0C0q07",
    "trusted": true
   },
   "outputs": [
    {
     "name": "stdout",
     "output_type": "stream",
     "text": [
      "\n",
      " Comprobación de conversión de datos a datetime64: \n",
      "\n",
      "<class 'pandas.core.frame.DataFrame'>\n",
      "RangeIndex: 500 entries, 0 to 499\n",
      "Data columns (total 8 columns):\n",
      " #   Column      Non-Null Count  Dtype         \n",
      "---  ------      --------------  -----         \n",
      " 0   user_id     500 non-null    int64         \n",
      " 1   first_name  500 non-null    object        \n",
      " 2   last_name   500 non-null    object        \n",
      " 3   age         500 non-null    int64         \n",
      " 4   city        500 non-null    object        \n",
      " 5   reg_date    500 non-null    datetime64[ns]\n",
      " 6   plan        500 non-null    object        \n",
      " 7   churn_date  34 non-null     datetime64[ns]\n",
      "dtypes: datetime64[ns](2), int64(2), object(4)\n",
      "memory usage: 31.4+ KB\n"
     ]
    },
    {
     "data": {
      "text/html": [
       "<div>\n",
       "<style scoped>\n",
       "    .dataframe tbody tr th:only-of-type {\n",
       "        vertical-align: middle;\n",
       "    }\n",
       "\n",
       "    .dataframe tbody tr th {\n",
       "        vertical-align: top;\n",
       "    }\n",
       "\n",
       "    .dataframe thead th {\n",
       "        text-align: right;\n",
       "    }\n",
       "</style>\n",
       "<table border=\"1\" class=\"dataframe\">\n",
       "  <thead>\n",
       "    <tr style=\"text-align: right;\">\n",
       "      <th></th>\n",
       "      <th>user_id</th>\n",
       "      <th>first_name</th>\n",
       "      <th>last_name</th>\n",
       "      <th>age</th>\n",
       "      <th>city</th>\n",
       "      <th>reg_date</th>\n",
       "      <th>plan</th>\n",
       "      <th>churn_date</th>\n",
       "    </tr>\n",
       "  </thead>\n",
       "  <tbody>\n",
       "    <tr>\n",
       "      <th>129</th>\n",
       "      <td>1129</td>\n",
       "      <td>Marin</td>\n",
       "      <td>Bolton</td>\n",
       "      <td>70</td>\n",
       "      <td>Baton Rouge, LA MSA</td>\n",
       "      <td>2018-11-10</td>\n",
       "      <td>surf</td>\n",
       "      <td>2018-12-27</td>\n",
       "    </tr>\n",
       "    <tr>\n",
       "      <th>468</th>\n",
       "      <td>1468</td>\n",
       "      <td>Johana</td>\n",
       "      <td>Kim</td>\n",
       "      <td>55</td>\n",
       "      <td>Denver-Aurora-Lakewood, CO MSA</td>\n",
       "      <td>2018-09-08</td>\n",
       "      <td>surf</td>\n",
       "      <td>NaT</td>\n",
       "    </tr>\n",
       "    <tr>\n",
       "      <th>296</th>\n",
       "      <td>1296</td>\n",
       "      <td>Weston</td>\n",
       "      <td>Conley</td>\n",
       "      <td>36</td>\n",
       "      <td>Miami-Fort Lauderdale-West Palm Beach, FL MSA</td>\n",
       "      <td>2018-10-20</td>\n",
       "      <td>ultimate</td>\n",
       "      <td>2018-12-18</td>\n",
       "    </tr>\n",
       "    <tr>\n",
       "      <th>252</th>\n",
       "      <td>1252</td>\n",
       "      <td>Mitsue</td>\n",
       "      <td>York</td>\n",
       "      <td>27</td>\n",
       "      <td>Detroit-Warren-Dearborn, MI MSA</td>\n",
       "      <td>2018-06-10</td>\n",
       "      <td>surf</td>\n",
       "      <td>NaT</td>\n",
       "    </tr>\n",
       "    <tr>\n",
       "      <th>448</th>\n",
       "      <td>1448</td>\n",
       "      <td>Elayne</td>\n",
       "      <td>Foley</td>\n",
       "      <td>33</td>\n",
       "      <td>Urban Honolulu, HI MSA</td>\n",
       "      <td>2018-10-17</td>\n",
       "      <td>surf</td>\n",
       "      <td>NaT</td>\n",
       "    </tr>\n",
       "  </tbody>\n",
       "</table>\n",
       "</div>"
      ],
      "text/plain": [
       "     user_id first_name last_name  age  \\\n",
       "129     1129      Marin    Bolton   70   \n",
       "468     1468     Johana       Kim   55   \n",
       "296     1296     Weston    Conley   36   \n",
       "252     1252     Mitsue      York   27   \n",
       "448     1448     Elayne     Foley   33   \n",
       "\n",
       "                                              city   reg_date      plan  \\\n",
       "129                            Baton Rouge, LA MSA 2018-11-10      surf   \n",
       "468                 Denver-Aurora-Lakewood, CO MSA 2018-09-08      surf   \n",
       "296  Miami-Fort Lauderdale-West Palm Beach, FL MSA 2018-10-20  ultimate   \n",
       "252                Detroit-Warren-Dearborn, MI MSA 2018-06-10      surf   \n",
       "448                         Urban Honolulu, HI MSA 2018-10-17      surf   \n",
       "\n",
       "    churn_date  \n",
       "129 2018-12-27  \n",
       "468        NaT  \n",
       "296 2018-12-18  \n",
       "252        NaT  \n",
       "448        NaT  "
      ]
     },
     "execution_count": 16,
     "metadata": {},
     "output_type": "execute_result"
    }
   ],
   "source": [
    "#Convirtiendo columnas a tipo datetime\n",
    "users['reg_date']=pd.to_datetime(users['reg_date'], format='%Y-%m-%d')\n",
    "users['churn_date']=pd.to_datetime(users['churn_date'], format='%Y-%m-%d')\n",
    "\n",
    "#Comprobando conversión \n",
    "print(\"\\n Comprobación de conversión de datos a datetime64: \\n\")\n",
    "users.info()\n",
    "\n",
    "#Imprimir muestra de datos\n",
    "users.sample(5)"
   ]
  },
  {
   "cell_type": "markdown",
   "metadata": {
    "id": "o7MeKCid0q08"
   },
   "source": [
    "**`calls` DataFrame**"
   ]
  },
  {
   "cell_type": "code",
   "execution_count": 17,
   "metadata": {
    "id": "6dDlnoDm0q08",
    "trusted": true
   },
   "outputs": [
    {
     "name": "stdout",
     "output_type": "stream",
     "text": [
      "Información general de dataframe 'calls': \n",
      "\n"
     ]
    },
    {
     "data": {
      "text/html": [
       "<div>\n",
       "<style scoped>\n",
       "    .dataframe tbody tr th:only-of-type {\n",
       "        vertical-align: middle;\n",
       "    }\n",
       "\n",
       "    .dataframe tbody tr th {\n",
       "        vertical-align: top;\n",
       "    }\n",
       "\n",
       "    .dataframe thead th {\n",
       "        text-align: right;\n",
       "    }\n",
       "</style>\n",
       "<table border=\"1\" class=\"dataframe\">\n",
       "  <thead>\n",
       "    <tr style=\"text-align: right;\">\n",
       "      <th></th>\n",
       "      <th>id</th>\n",
       "      <th>user_id</th>\n",
       "      <th>call_date</th>\n",
       "      <th>duration</th>\n",
       "    </tr>\n",
       "  </thead>\n",
       "  <tbody>\n",
       "    <tr>\n",
       "      <th>count</th>\n",
       "      <td>137735</td>\n",
       "      <td>137735.000000</td>\n",
       "      <td>137735</td>\n",
       "      <td>137735.000000</td>\n",
       "    </tr>\n",
       "    <tr>\n",
       "      <th>unique</th>\n",
       "      <td>137735</td>\n",
       "      <td>NaN</td>\n",
       "      <td>351</td>\n",
       "      <td>NaN</td>\n",
       "    </tr>\n",
       "    <tr>\n",
       "      <th>top</th>\n",
       "      <td>1000_93</td>\n",
       "      <td>NaN</td>\n",
       "      <td>2018-12-27</td>\n",
       "      <td>NaN</td>\n",
       "    </tr>\n",
       "    <tr>\n",
       "      <th>freq</th>\n",
       "      <td>1</td>\n",
       "      <td>NaN</td>\n",
       "      <td>1091</td>\n",
       "      <td>NaN</td>\n",
       "    </tr>\n",
       "    <tr>\n",
       "      <th>mean</th>\n",
       "      <td>NaN</td>\n",
       "      <td>1247.658046</td>\n",
       "      <td>NaN</td>\n",
       "      <td>6.745927</td>\n",
       "    </tr>\n",
       "    <tr>\n",
       "      <th>std</th>\n",
       "      <td>NaN</td>\n",
       "      <td>139.416268</td>\n",
       "      <td>NaN</td>\n",
       "      <td>5.839241</td>\n",
       "    </tr>\n",
       "    <tr>\n",
       "      <th>min</th>\n",
       "      <td>NaN</td>\n",
       "      <td>1000.000000</td>\n",
       "      <td>NaN</td>\n",
       "      <td>0.000000</td>\n",
       "    </tr>\n",
       "    <tr>\n",
       "      <th>25%</th>\n",
       "      <td>NaN</td>\n",
       "      <td>1128.000000</td>\n",
       "      <td>NaN</td>\n",
       "      <td>1.290000</td>\n",
       "    </tr>\n",
       "    <tr>\n",
       "      <th>50%</th>\n",
       "      <td>NaN</td>\n",
       "      <td>1247.000000</td>\n",
       "      <td>NaN</td>\n",
       "      <td>5.980000</td>\n",
       "    </tr>\n",
       "    <tr>\n",
       "      <th>75%</th>\n",
       "      <td>NaN</td>\n",
       "      <td>1365.000000</td>\n",
       "      <td>NaN</td>\n",
       "      <td>10.690000</td>\n",
       "    </tr>\n",
       "    <tr>\n",
       "      <th>max</th>\n",
       "      <td>NaN</td>\n",
       "      <td>1499.000000</td>\n",
       "      <td>NaN</td>\n",
       "      <td>37.600000</td>\n",
       "    </tr>\n",
       "  </tbody>\n",
       "</table>\n",
       "</div>"
      ],
      "text/plain": [
       "             id        user_id   call_date       duration\n",
       "count    137735  137735.000000      137735  137735.000000\n",
       "unique   137735            NaN         351            NaN\n",
       "top     1000_93            NaN  2018-12-27            NaN\n",
       "freq          1            NaN        1091            NaN\n",
       "mean        NaN    1247.658046         NaN       6.745927\n",
       "std         NaN     139.416268         NaN       5.839241\n",
       "min         NaN    1000.000000         NaN       0.000000\n",
       "25%         NaN    1128.000000         NaN       1.290000\n",
       "50%         NaN    1247.000000         NaN       5.980000\n",
       "75%         NaN    1365.000000         NaN      10.690000\n",
       "max         NaN    1499.000000         NaN      37.600000"
      ]
     },
     "execution_count": 17,
     "metadata": {},
     "output_type": "execute_result"
    }
   ],
   "source": [
    "# Información general/resumida sobre el DataFrame de las tarifas\n",
    "print(\"Información general de dataframe 'calls': \\n\")\n",
    "calls.describe(include='all')"
   ]
  },
  {
   "cell_type": "code",
   "execution_count": 18,
   "metadata": {
    "id": "kuh1vlNB0q09",
    "trusted": true
   },
   "outputs": [
    {
     "data": {
      "text/html": [
       "<div>\n",
       "<style scoped>\n",
       "    .dataframe tbody tr th:only-of-type {\n",
       "        vertical-align: middle;\n",
       "    }\n",
       "\n",
       "    .dataframe tbody tr th {\n",
       "        vertical-align: top;\n",
       "    }\n",
       "\n",
       "    .dataframe thead th {\n",
       "        text-align: right;\n",
       "    }\n",
       "</style>\n",
       "<table border=\"1\" class=\"dataframe\">\n",
       "  <thead>\n",
       "    <tr style=\"text-align: right;\">\n",
       "      <th></th>\n",
       "      <th>id</th>\n",
       "      <th>user_id</th>\n",
       "      <th>call_date</th>\n",
       "      <th>duration</th>\n",
       "    </tr>\n",
       "  </thead>\n",
       "  <tbody>\n",
       "    <tr>\n",
       "      <th>93253</th>\n",
       "      <td>1334_621</td>\n",
       "      <td>1334</td>\n",
       "      <td>2018-10-31</td>\n",
       "      <td>12.92</td>\n",
       "    </tr>\n",
       "    <tr>\n",
       "      <th>11093</th>\n",
       "      <td>1049_260</td>\n",
       "      <td>1049</td>\n",
       "      <td>2018-05-28</td>\n",
       "      <td>0.00</td>\n",
       "    </tr>\n",
       "    <tr>\n",
       "      <th>19683</th>\n",
       "      <td>1075_28</td>\n",
       "      <td>1075</td>\n",
       "      <td>2018-10-24</td>\n",
       "      <td>12.62</td>\n",
       "    </tr>\n",
       "    <tr>\n",
       "      <th>47523</th>\n",
       "      <td>1172_114</td>\n",
       "      <td>1172</td>\n",
       "      <td>2018-10-29</td>\n",
       "      <td>13.83</td>\n",
       "    </tr>\n",
       "    <tr>\n",
       "      <th>62602</th>\n",
       "      <td>1226_1</td>\n",
       "      <td>1226</td>\n",
       "      <td>2018-12-04</td>\n",
       "      <td>6.45</td>\n",
       "    </tr>\n",
       "    <tr>\n",
       "      <th>115129</th>\n",
       "      <td>1403_203</td>\n",
       "      <td>1403</td>\n",
       "      <td>2018-11-29</td>\n",
       "      <td>17.37</td>\n",
       "    </tr>\n",
       "    <tr>\n",
       "      <th>49179</th>\n",
       "      <td>1178_2</td>\n",
       "      <td>1178</td>\n",
       "      <td>2018-10-26</td>\n",
       "      <td>9.04</td>\n",
       "    </tr>\n",
       "    <tr>\n",
       "      <th>87321</th>\n",
       "      <td>1320_990</td>\n",
       "      <td>1320</td>\n",
       "      <td>2018-07-01</td>\n",
       "      <td>16.07</td>\n",
       "    </tr>\n",
       "    <tr>\n",
       "      <th>107879</th>\n",
       "      <td>1382_797</td>\n",
       "      <td>1382</td>\n",
       "      <td>2018-08-29</td>\n",
       "      <td>8.34</td>\n",
       "    </tr>\n",
       "    <tr>\n",
       "      <th>100481</th>\n",
       "      <td>1359_362</td>\n",
       "      <td>1359</td>\n",
       "      <td>2018-10-07</td>\n",
       "      <td>0.00</td>\n",
       "    </tr>\n",
       "  </tbody>\n",
       "</table>\n",
       "</div>"
      ],
      "text/plain": [
       "              id  user_id   call_date  duration\n",
       "93253   1334_621     1334  2018-10-31     12.92\n",
       "11093   1049_260     1049  2018-05-28      0.00\n",
       "19683    1075_28     1075  2018-10-24     12.62\n",
       "47523   1172_114     1172  2018-10-29     13.83\n",
       "62602     1226_1     1226  2018-12-04      6.45\n",
       "115129  1403_203     1403  2018-11-29     17.37\n",
       "49179     1178_2     1178  2018-10-26      9.04\n",
       "87321   1320_990     1320  2018-07-01     16.07\n",
       "107879  1382_797     1382  2018-08-29      8.34\n",
       "100481  1359_362     1359  2018-10-07      0.00"
      ]
     },
     "execution_count": 18,
     "metadata": {},
     "output_type": "execute_result"
    }
   ],
   "source": [
    "# Muestra de datos para las llamadas\n",
    "calls.sample(10)"
   ]
  },
  {
   "cell_type": "markdown",
   "metadata": {
    "id": "YxWyAjD20q0-"
   },
   "source": [
    "Unificaremos los `user_id` a tipo `object` (ya que no se harán operaciones aritméticas con los identificadores) y convertiremos las columnas de fecha a tipo `datetime`."
   ]
  },
  {
   "cell_type": "code",
   "execution_count": 19,
   "metadata": {
    "id": "S2r8xA4f0q0-",
    "trusted": true
   },
   "outputs": [
    {
     "name": "stdout",
     "output_type": "stream",
     "text": [
      "<class 'pandas.core.frame.DataFrame'>\n",
      "RangeIndex: 137735 entries, 0 to 137734\n",
      "Data columns (total 4 columns):\n",
      " #   Column     Non-Null Count   Dtype         \n",
      "---  ------     --------------   -----         \n",
      " 0   id         137735 non-null  object        \n",
      " 1   user_id    137735 non-null  object        \n",
      " 2   call_date  137735 non-null  datetime64[ns]\n",
      " 3   duration   137735 non-null  float64       \n",
      "dtypes: datetime64[ns](1), float64(1), object(2)\n",
      "memory usage: 4.2+ MB\n"
     ]
    }
   ],
   "source": [
    "# Convirtiendo user_id a tipo object\n",
    "calls[\"user_id\"]=calls[\"user_id\"].astype(object)\n",
    "\n",
    "# Convirtiendo call_date a tipo date_time\n",
    "calls[\"call_date\"]=pd.to_datetime(calls[\"call_date\"], format='%Y-%m-%d')\n",
    "\n",
    "#Comprobando conversión de tipo de datos\n",
    "calls.info()"
   ]
  },
  {
   "cell_type": "markdown",
   "metadata": {
    "id": "mOUZSi180q0_"
   },
   "source": [
    "**`messages` DataFrame**"
   ]
  },
  {
   "cell_type": "code",
   "execution_count": 60,
   "metadata": {
    "id": "R-bYJpdV0q1A",
    "trusted": true
   },
   "outputs": [
    {
     "name": "stdout",
     "output_type": "stream",
     "text": [
      "Información general de dataframe 'messages': \n",
      "\n"
     ]
    },
    {
     "data": {
      "text/html": [
       "<div>\n",
       "<style scoped>\n",
       "    .dataframe tbody tr th:only-of-type {\n",
       "        vertical-align: middle;\n",
       "    }\n",
       "\n",
       "    .dataframe tbody tr th {\n",
       "        vertical-align: top;\n",
       "    }\n",
       "\n",
       "    .dataframe thead th {\n",
       "        text-align: right;\n",
       "    }\n",
       "</style>\n",
       "<table border=\"1\" class=\"dataframe\">\n",
       "  <thead>\n",
       "    <tr style=\"text-align: right;\">\n",
       "      <th></th>\n",
       "      <th>id</th>\n",
       "      <th>user_id</th>\n",
       "      <th>message_date</th>\n",
       "      <th>month</th>\n",
       "    </tr>\n",
       "  </thead>\n",
       "  <tbody>\n",
       "    <tr>\n",
       "      <th>count</th>\n",
       "      <td>76051</td>\n",
       "      <td>76051.0</td>\n",
       "      <td>76051</td>\n",
       "      <td>76051.000000</td>\n",
       "    </tr>\n",
       "    <tr>\n",
       "      <th>unique</th>\n",
       "      <td>76051</td>\n",
       "      <td>402.0</td>\n",
       "      <td>NaN</td>\n",
       "      <td>NaN</td>\n",
       "    </tr>\n",
       "    <tr>\n",
       "      <th>top</th>\n",
       "      <td>1000_125</td>\n",
       "      <td>1132.0</td>\n",
       "      <td>NaN</td>\n",
       "      <td>NaN</td>\n",
       "    </tr>\n",
       "    <tr>\n",
       "      <th>freq</th>\n",
       "      <td>1</td>\n",
       "      <td>1288.0</td>\n",
       "      <td>NaN</td>\n",
       "      <td>NaN</td>\n",
       "    </tr>\n",
       "    <tr>\n",
       "      <th>mean</th>\n",
       "      <td>NaN</td>\n",
       "      <td>NaN</td>\n",
       "      <td>2018-10-03 23:51:32.172358144</td>\n",
       "      <td>9.584016</td>\n",
       "    </tr>\n",
       "    <tr>\n",
       "      <th>min</th>\n",
       "      <td>NaN</td>\n",
       "      <td>NaN</td>\n",
       "      <td>2018-01-15 00:00:00</td>\n",
       "      <td>1.000000</td>\n",
       "    </tr>\n",
       "    <tr>\n",
       "      <th>25%</th>\n",
       "      <td>NaN</td>\n",
       "      <td>NaN</td>\n",
       "      <td>2018-08-22 00:00:00</td>\n",
       "      <td>8.000000</td>\n",
       "    </tr>\n",
       "    <tr>\n",
       "      <th>50%</th>\n",
       "      <td>NaN</td>\n",
       "      <td>NaN</td>\n",
       "      <td>2018-10-20 00:00:00</td>\n",
       "      <td>10.000000</td>\n",
       "    </tr>\n",
       "    <tr>\n",
       "      <th>75%</th>\n",
       "      <td>NaN</td>\n",
       "      <td>NaN</td>\n",
       "      <td>2018-12-01 00:00:00</td>\n",
       "      <td>12.000000</td>\n",
       "    </tr>\n",
       "    <tr>\n",
       "      <th>max</th>\n",
       "      <td>NaN</td>\n",
       "      <td>NaN</td>\n",
       "      <td>2018-12-31 00:00:00</td>\n",
       "      <td>12.000000</td>\n",
       "    </tr>\n",
       "    <tr>\n",
       "      <th>std</th>\n",
       "      <td>NaN</td>\n",
       "      <td>NaN</td>\n",
       "      <td>NaN</td>\n",
       "      <td>2.276392</td>\n",
       "    </tr>\n",
       "  </tbody>\n",
       "</table>\n",
       "</div>"
      ],
      "text/plain": [
       "              id  user_id                   message_date         month\n",
       "count      76051  76051.0                          76051  76051.000000\n",
       "unique     76051    402.0                            NaN           NaN\n",
       "top     1000_125   1132.0                            NaN           NaN\n",
       "freq           1   1288.0                            NaN           NaN\n",
       "mean         NaN      NaN  2018-10-03 23:51:32.172358144      9.584016\n",
       "min          NaN      NaN            2018-01-15 00:00:00      1.000000\n",
       "25%          NaN      NaN            2018-08-22 00:00:00      8.000000\n",
       "50%          NaN      NaN            2018-10-20 00:00:00     10.000000\n",
       "75%          NaN      NaN            2018-12-01 00:00:00     12.000000\n",
       "max          NaN      NaN            2018-12-31 00:00:00     12.000000\n",
       "std          NaN      NaN                            NaN      2.276392"
      ]
     },
     "execution_count": 60,
     "metadata": {},
     "output_type": "execute_result"
    }
   ],
   "source": [
    "# Información general/resumida sobre el DataFrame de los mensajes\n",
    "print(\"Información general de dataframe 'messages': \\n\")\n",
    "messages.describe(include=\"all\")"
   ]
  },
  {
   "cell_type": "code",
   "execution_count": null,
   "metadata": {
    "id": "mCEl2iGE0q1A",
    "trusted": true
   },
   "outputs": [
    {
     "data": {
      "text/html": [
       "<div>\n",
       "<style scoped>\n",
       "    .dataframe tbody tr th:only-of-type {\n",
       "        vertical-align: middle;\n",
       "    }\n",
       "\n",
       "    .dataframe tbody tr th {\n",
       "        vertical-align: top;\n",
       "    }\n",
       "\n",
       "    .dataframe thead th {\n",
       "        text-align: right;\n",
       "    }\n",
       "</style>\n",
       "<table border=\"1\" class=\"dataframe\">\n",
       "  <thead>\n",
       "    <tr style=\"text-align: right;\">\n",
       "      <th></th>\n",
       "      <th>id</th>\n",
       "      <th>user_id</th>\n",
       "      <th>message_date</th>\n",
       "    </tr>\n",
       "  </thead>\n",
       "  <tbody>\n",
       "    <tr>\n",
       "      <th>44233</th>\n",
       "      <td>1294_14</td>\n",
       "      <td>1294</td>\n",
       "      <td>2018-10-17</td>\n",
       "    </tr>\n",
       "    <tr>\n",
       "      <th>64022</th>\n",
       "      <td>1408_147</td>\n",
       "      <td>1408</td>\n",
       "      <td>2018-08-27</td>\n",
       "    </tr>\n",
       "    <tr>\n",
       "      <th>47995</th>\n",
       "      <td>1324_724</td>\n",
       "      <td>1324</td>\n",
       "      <td>2018-09-26</td>\n",
       "    </tr>\n",
       "    <tr>\n",
       "      <th>59216</th>\n",
       "      <td>1374_390</td>\n",
       "      <td>1374</td>\n",
       "      <td>2018-11-09</td>\n",
       "    </tr>\n",
       "    <tr>\n",
       "      <th>63826</th>\n",
       "      <td>1407_8</td>\n",
       "      <td>1407</td>\n",
       "      <td>2018-12-18</td>\n",
       "    </tr>\n",
       "    <tr>\n",
       "      <th>63109</th>\n",
       "      <td>1401_22</td>\n",
       "      <td>1401</td>\n",
       "      <td>2018-10-28</td>\n",
       "    </tr>\n",
       "    <tr>\n",
       "      <th>20678</th>\n",
       "      <td>1131_17</td>\n",
       "      <td>1131</td>\n",
       "      <td>2018-10-12</td>\n",
       "    </tr>\n",
       "    <tr>\n",
       "      <th>7202</th>\n",
       "      <td>1059_73</td>\n",
       "      <td>1059</td>\n",
       "      <td>2018-06-15</td>\n",
       "    </tr>\n",
       "    <tr>\n",
       "      <th>28843</th>\n",
       "      <td>1175_256</td>\n",
       "      <td>1175</td>\n",
       "      <td>2018-10-27</td>\n",
       "    </tr>\n",
       "    <tr>\n",
       "      <th>50549</th>\n",
       "      <td>1329_620</td>\n",
       "      <td>1329</td>\n",
       "      <td>2018-10-05</td>\n",
       "    </tr>\n",
       "  </tbody>\n",
       "</table>\n",
       "</div>"
      ],
      "text/plain": [
       "             id  user_id message_date\n",
       "44233   1294_14     1294   2018-10-17\n",
       "64022  1408_147     1408   2018-08-27\n",
       "47995  1324_724     1324   2018-09-26\n",
       "59216  1374_390     1374   2018-11-09\n",
       "63826    1407_8     1407   2018-12-18\n",
       "63109   1401_22     1401   2018-10-28\n",
       "20678   1131_17     1131   2018-10-12\n",
       "7202    1059_73     1059   2018-06-15\n",
       "28843  1175_256     1175   2018-10-27\n",
       "50549  1329_620     1329   2018-10-05"
      ]
     },
     "execution_count": 21,
     "metadata": {},
     "output_type": "execute_result"
    }
   ],
   "source": [
    "# Muestra de datos para los mensajes\n",
    "messages.sample(10)"
   ]
  },
  {
   "cell_type": "markdown",
   "metadata": {
    "id": "eGw7d9j10q1B"
   },
   "source": [
    "Unificaremos los `user_id` a tipo `object` y convertiremos la columna `message_date` a tipo `datetime`."
   ]
  },
  {
   "cell_type": "code",
   "execution_count": 22,
   "metadata": {
    "id": "vsllvkoa0q1B",
    "trusted": true
   },
   "outputs": [
    {
     "name": "stdout",
     "output_type": "stream",
     "text": [
      "<class 'pandas.core.frame.DataFrame'>\n",
      "RangeIndex: 76051 entries, 0 to 76050\n",
      "Data columns (total 3 columns):\n",
      " #   Column        Non-Null Count  Dtype         \n",
      "---  ------        --------------  -----         \n",
      " 0   id            76051 non-null  object        \n",
      " 1   user_id       76051 non-null  object        \n",
      " 2   message_date  76051 non-null  datetime64[ns]\n",
      "dtypes: datetime64[ns](1), object(2)\n",
      "memory usage: 1.7+ MB\n"
     ]
    }
   ],
   "source": [
    "# Convirtiendo user_id a tipo object\n",
    "messages[\"user_id\"]=messages[\"user_id\"].astype(object)\n",
    "\n",
    "# Convirtiendo call_date a tipo date_time\n",
    "messages[\"message_date\"]=pd.to_datetime(messages[\"message_date\"], format='%Y-%m-%d')\n",
    "\n",
    "#Comprobando conversión de tipo de datos\n",
    "messages.info()\n",
    "\n"
   ]
  },
  {
   "cell_type": "markdown",
   "metadata": {
    "id": "bStkaxn40q1C"
   },
   "source": [
    "**`internet` DataFrame**"
   ]
  },
  {
   "cell_type": "code",
   "execution_count": null,
   "metadata": {
    "id": "e-Uz5qyn0q1C",
    "trusted": true
   },
   "outputs": [
    {
     "data": {
      "text/html": [
       "<div>\n",
       "<style scoped>\n",
       "    .dataframe tbody tr th:only-of-type {\n",
       "        vertical-align: middle;\n",
       "    }\n",
       "\n",
       "    .dataframe tbody tr th {\n",
       "        vertical-align: top;\n",
       "    }\n",
       "\n",
       "    .dataframe thead th {\n",
       "        text-align: right;\n",
       "    }\n",
       "</style>\n",
       "<table border=\"1\" class=\"dataframe\">\n",
       "  <thead>\n",
       "    <tr style=\"text-align: right;\">\n",
       "      <th></th>\n",
       "      <th>id</th>\n",
       "      <th>user_id</th>\n",
       "      <th>session_date</th>\n",
       "      <th>mb_used</th>\n",
       "    </tr>\n",
       "  </thead>\n",
       "  <tbody>\n",
       "    <tr>\n",
       "      <th>count</th>\n",
       "      <td>104825</td>\n",
       "      <td>104825.000000</td>\n",
       "      <td>104825</td>\n",
       "      <td>104825.000000</td>\n",
       "    </tr>\n",
       "    <tr>\n",
       "      <th>unique</th>\n",
       "      <td>104825</td>\n",
       "      <td>NaN</td>\n",
       "      <td>351</td>\n",
       "      <td>NaN</td>\n",
       "    </tr>\n",
       "    <tr>\n",
       "      <th>top</th>\n",
       "      <td>1000_13</td>\n",
       "      <td>NaN</td>\n",
       "      <td>2018-12-24</td>\n",
       "      <td>NaN</td>\n",
       "    </tr>\n",
       "    <tr>\n",
       "      <th>freq</th>\n",
       "      <td>1</td>\n",
       "      <td>NaN</td>\n",
       "      <td>851</td>\n",
       "      <td>NaN</td>\n",
       "    </tr>\n",
       "    <tr>\n",
       "      <th>mean</th>\n",
       "      <td>NaN</td>\n",
       "      <td>1242.496361</td>\n",
       "      <td>NaN</td>\n",
       "      <td>366.713701</td>\n",
       "    </tr>\n",
       "    <tr>\n",
       "      <th>std</th>\n",
       "      <td>NaN</td>\n",
       "      <td>142.053913</td>\n",
       "      <td>NaN</td>\n",
       "      <td>277.170542</td>\n",
       "    </tr>\n",
       "    <tr>\n",
       "      <th>min</th>\n",
       "      <td>NaN</td>\n",
       "      <td>1000.000000</td>\n",
       "      <td>NaN</td>\n",
       "      <td>0.000000</td>\n",
       "    </tr>\n",
       "    <tr>\n",
       "      <th>25%</th>\n",
       "      <td>NaN</td>\n",
       "      <td>1122.000000</td>\n",
       "      <td>NaN</td>\n",
       "      <td>136.080000</td>\n",
       "    </tr>\n",
       "    <tr>\n",
       "      <th>50%</th>\n",
       "      <td>NaN</td>\n",
       "      <td>1236.000000</td>\n",
       "      <td>NaN</td>\n",
       "      <td>343.980000</td>\n",
       "    </tr>\n",
       "    <tr>\n",
       "      <th>75%</th>\n",
       "      <td>NaN</td>\n",
       "      <td>1367.000000</td>\n",
       "      <td>NaN</td>\n",
       "      <td>554.610000</td>\n",
       "    </tr>\n",
       "    <tr>\n",
       "      <th>max</th>\n",
       "      <td>NaN</td>\n",
       "      <td>1499.000000</td>\n",
       "      <td>NaN</td>\n",
       "      <td>1693.470000</td>\n",
       "    </tr>\n",
       "  </tbody>\n",
       "</table>\n",
       "</div>"
      ],
      "text/plain": [
       "             id        user_id session_date        mb_used\n",
       "count    104825  104825.000000       104825  104825.000000\n",
       "unique   104825            NaN          351            NaN\n",
       "top     1000_13            NaN   2018-12-24            NaN\n",
       "freq          1            NaN          851            NaN\n",
       "mean        NaN    1242.496361          NaN     366.713701\n",
       "std         NaN     142.053913          NaN     277.170542\n",
       "min         NaN    1000.000000          NaN       0.000000\n",
       "25%         NaN    1122.000000          NaN     136.080000\n",
       "50%         NaN    1236.000000          NaN     343.980000\n",
       "75%         NaN    1367.000000          NaN     554.610000\n",
       "max         NaN    1499.000000          NaN    1693.470000"
      ]
     },
     "execution_count": 23,
     "metadata": {},
     "output_type": "execute_result"
    }
   ],
   "source": [
    "# Información general/resumida sobre el DataFrame de internet\n",
    "internet.describe(include=\"all\")\n"
   ]
  },
  {
   "cell_type": "code",
   "execution_count": 24,
   "metadata": {
    "id": "9r3x_XLw0q1C",
    "trusted": true
   },
   "outputs": [
    {
     "data": {
      "text/html": [
       "<div>\n",
       "<style scoped>\n",
       "    .dataframe tbody tr th:only-of-type {\n",
       "        vertical-align: middle;\n",
       "    }\n",
       "\n",
       "    .dataframe tbody tr th {\n",
       "        vertical-align: top;\n",
       "    }\n",
       "\n",
       "    .dataframe thead th {\n",
       "        text-align: right;\n",
       "    }\n",
       "</style>\n",
       "<table border=\"1\" class=\"dataframe\">\n",
       "  <thead>\n",
       "    <tr style=\"text-align: right;\">\n",
       "      <th></th>\n",
       "      <th>id</th>\n",
       "      <th>user_id</th>\n",
       "      <th>session_date</th>\n",
       "      <th>mb_used</th>\n",
       "    </tr>\n",
       "  </thead>\n",
       "  <tbody>\n",
       "    <tr>\n",
       "      <th>81348</th>\n",
       "      <td>1381_27</td>\n",
       "      <td>1381</td>\n",
       "      <td>2018-11-05</td>\n",
       "      <td>801.12</td>\n",
       "    </tr>\n",
       "    <tr>\n",
       "      <th>5103</th>\n",
       "      <td>1028_683</td>\n",
       "      <td>1028</td>\n",
       "      <td>2018-04-16</td>\n",
       "      <td>356.78</td>\n",
       "    </tr>\n",
       "    <tr>\n",
       "      <th>16792</th>\n",
       "      <td>1076_296</td>\n",
       "      <td>1076</td>\n",
       "      <td>2018-08-29</td>\n",
       "      <td>36.37</td>\n",
       "    </tr>\n",
       "    <tr>\n",
       "      <th>46219</th>\n",
       "      <td>1205_34</td>\n",
       "      <td>1205</td>\n",
       "      <td>2018-12-21</td>\n",
       "      <td>319.70</td>\n",
       "    </tr>\n",
       "    <tr>\n",
       "      <th>46567</th>\n",
       "      <td>1206_495</td>\n",
       "      <td>1206</td>\n",
       "      <td>2018-08-24</td>\n",
       "      <td>191.83</td>\n",
       "    </tr>\n",
       "    <tr>\n",
       "      <th>86095</th>\n",
       "      <td>1400_229</td>\n",
       "      <td>1400</td>\n",
       "      <td>2018-08-06</td>\n",
       "      <td>0.00</td>\n",
       "    </tr>\n",
       "    <tr>\n",
       "      <th>79392</th>\n",
       "      <td>1370_50</td>\n",
       "      <td>1370</td>\n",
       "      <td>2018-10-25</td>\n",
       "      <td>376.92</td>\n",
       "    </tr>\n",
       "    <tr>\n",
       "      <th>53802</th>\n",
       "      <td>1243_104</td>\n",
       "      <td>1243</td>\n",
       "      <td>2018-12-04</td>\n",
       "      <td>211.72</td>\n",
       "    </tr>\n",
       "    <tr>\n",
       "      <th>52571</th>\n",
       "      <td>1236_441</td>\n",
       "      <td>1236</td>\n",
       "      <td>2018-06-02</td>\n",
       "      <td>887.36</td>\n",
       "    </tr>\n",
       "    <tr>\n",
       "      <th>52607</th>\n",
       "      <td>1236_478</td>\n",
       "      <td>1236</td>\n",
       "      <td>2018-09-09</td>\n",
       "      <td>328.37</td>\n",
       "    </tr>\n",
       "  </tbody>\n",
       "</table>\n",
       "</div>"
      ],
      "text/plain": [
       "             id  user_id session_date  mb_used\n",
       "81348   1381_27     1381   2018-11-05   801.12\n",
       "5103   1028_683     1028   2018-04-16   356.78\n",
       "16792  1076_296     1076   2018-08-29    36.37\n",
       "46219   1205_34     1205   2018-12-21   319.70\n",
       "46567  1206_495     1206   2018-08-24   191.83\n",
       "86095  1400_229     1400   2018-08-06     0.00\n",
       "79392   1370_50     1370   2018-10-25   376.92\n",
       "53802  1243_104     1243   2018-12-04   211.72\n",
       "52571  1236_441     1236   2018-06-02   887.36\n",
       "52607  1236_478     1236   2018-09-09   328.37"
      ]
     },
     "execution_count": 24,
     "metadata": {},
     "output_type": "execute_result"
    }
   ],
   "source": [
    "# Muestra de datos para el tráfico de internet\n",
    "internet.sample(10)\n"
   ]
  },
  {
   "cell_type": "markdown",
   "metadata": {
    "id": "zlZMuIEK0q1D"
   },
   "source": [
    "Unificaremos los `user_id` a tipo `object` y convertiremos la columna `session_date` a tipo `datetime`."
   ]
  },
  {
   "cell_type": "code",
   "execution_count": 25,
   "metadata": {
    "id": "zVeanzdd0q1E",
    "trusted": true
   },
   "outputs": [
    {
     "name": "stdout",
     "output_type": "stream",
     "text": [
      "<class 'pandas.core.frame.DataFrame'>\n",
      "RangeIndex: 104825 entries, 0 to 104824\n",
      "Data columns (total 4 columns):\n",
      " #   Column        Non-Null Count   Dtype         \n",
      "---  ------        --------------   -----         \n",
      " 0   id            104825 non-null  object        \n",
      " 1   user_id       104825 non-null  object        \n",
      " 2   session_date  104825 non-null  datetime64[ns]\n",
      " 3   mb_used       104825 non-null  float64       \n",
      "dtypes: datetime64[ns](1), float64(1), object(2)\n",
      "memory usage: 3.2+ MB\n"
     ]
    }
   ],
   "source": [
    "#Convirtiendo user_id a tipo object\n",
    "internet[\"user_id\"]=internet[\"user_id\"].astype(object)\n",
    "\n",
    "#Convirtiendo sessión_date a tipo date_time\n",
    "internet[\"session_date\"]=pd.to_datetime(internet[\"session_date\"], format=\"%Y-%m-%d\")\n",
    "\n",
    "# Comprobando conversión de tipo de datos\n",
    "internet.info()"
   ]
  },
  {
   "cell_type": "markdown",
   "metadata": {
    "id": "3UA2cqIW0q1E"
   },
   "source": [
    "#### **2.3. Enriquecimiento de Datos**\n",
    "Se añadirán factores adicionales a los datos que puedan ser útiles para el análisis, como el mes de la actividad y el cálculo de usos mensuales.\n",
    "\n",
    "**2.3.1. Cálculo de Llamadas por Usuario al Mes**\n",
    "\n",
    "Calculamos el número de llamadas hechas por cada usuario al mes."
   ]
  },
  {
   "cell_type": "code",
   "execution_count": null,
   "metadata": {
    "id": "i409op8p0q1F",
    "trusted": true
   },
   "outputs": [
    {
     "data": {
      "text/html": [
       "<div>\n",
       "<style scoped>\n",
       "    .dataframe tbody tr th:only-of-type {\n",
       "        vertical-align: middle;\n",
       "    }\n",
       "\n",
       "    .dataframe tbody tr th {\n",
       "        vertical-align: top;\n",
       "    }\n",
       "\n",
       "    .dataframe thead th {\n",
       "        text-align: right;\n",
       "    }\n",
       "</style>\n",
       "<table border=\"1\" class=\"dataframe\">\n",
       "  <thead>\n",
       "    <tr style=\"text-align: right;\">\n",
       "      <th></th>\n",
       "      <th>messages_included</th>\n",
       "      <th>mb_per_month_included</th>\n",
       "      <th>minutes_included</th>\n",
       "      <th>usd_monthly_pay</th>\n",
       "      <th>usd_per_gb</th>\n",
       "      <th>usd_per_message</th>\n",
       "      <th>usd_per_minute</th>\n",
       "      <th>plan_name</th>\n",
       "    </tr>\n",
       "  </thead>\n",
       "  <tbody>\n",
       "    <tr>\n",
       "      <th>0</th>\n",
       "      <td>50</td>\n",
       "      <td>15360</td>\n",
       "      <td>500</td>\n",
       "      <td>20</td>\n",
       "      <td>10</td>\n",
       "      <td>0.03</td>\n",
       "      <td>0.03</td>\n",
       "      <td>surf</td>\n",
       "    </tr>\n",
       "    <tr>\n",
       "      <th>1</th>\n",
       "      <td>1000</td>\n",
       "      <td>30720</td>\n",
       "      <td>3000</td>\n",
       "      <td>70</td>\n",
       "      <td>7</td>\n",
       "      <td>0.01</td>\n",
       "      <td>0.01</td>\n",
       "      <td>ultimate</td>\n",
       "    </tr>\n",
       "  </tbody>\n",
       "</table>\n",
       "</div>"
      ],
      "text/plain": [
       "   messages_included  mb_per_month_included  minutes_included  \\\n",
       "0                 50                  15360               500   \n",
       "1               1000                  30720              3000   \n",
       "\n",
       "   usd_monthly_pay  usd_per_gb  usd_per_message  usd_per_minute plan_name  \n",
       "0               20          10             0.03            0.03      surf  \n",
       "1               70           7             0.01            0.01  ultimate  "
      ]
     },
     "execution_count": 26,
     "metadata": {},
     "output_type": "execute_result"
    }
   ],
   "source": [
    "# Condiciones de la tarifa\n",
    "plans.head()"
   ]
  },
  {
   "cell_type": "code",
   "execution_count": 27,
   "metadata": {
    "id": "A332cedB0q1G",
    "trusted": true
   },
   "outputs": [
    {
     "data": {
      "text/html": [
       "<div>\n",
       "<style scoped>\n",
       "    .dataframe tbody tr th:only-of-type {\n",
       "        vertical-align: middle;\n",
       "    }\n",
       "\n",
       "    .dataframe tbody tr th {\n",
       "        vertical-align: top;\n",
       "    }\n",
       "\n",
       "    .dataframe thead th {\n",
       "        text-align: right;\n",
       "    }\n",
       "</style>\n",
       "<table border=\"1\" class=\"dataframe\">\n",
       "  <thead>\n",
       "    <tr style=\"text-align: right;\">\n",
       "      <th></th>\n",
       "      <th>user_id</th>\n",
       "      <th>month</th>\n",
       "      <th>num_calls</th>\n",
       "    </tr>\n",
       "  </thead>\n",
       "  <tbody>\n",
       "    <tr>\n",
       "      <th>0</th>\n",
       "      <td>1000</td>\n",
       "      <td>12</td>\n",
       "      <td>16</td>\n",
       "    </tr>\n",
       "    <tr>\n",
       "      <th>1</th>\n",
       "      <td>1001</td>\n",
       "      <td>8</td>\n",
       "      <td>27</td>\n",
       "    </tr>\n",
       "    <tr>\n",
       "      <th>2</th>\n",
       "      <td>1001</td>\n",
       "      <td>9</td>\n",
       "      <td>49</td>\n",
       "    </tr>\n",
       "    <tr>\n",
       "      <th>3</th>\n",
       "      <td>1001</td>\n",
       "      <td>10</td>\n",
       "      <td>65</td>\n",
       "    </tr>\n",
       "    <tr>\n",
       "      <th>4</th>\n",
       "      <td>1001</td>\n",
       "      <td>11</td>\n",
       "      <td>64</td>\n",
       "    </tr>\n",
       "    <tr>\n",
       "      <th>5</th>\n",
       "      <td>1001</td>\n",
       "      <td>12</td>\n",
       "      <td>56</td>\n",
       "    </tr>\n",
       "    <tr>\n",
       "      <th>6</th>\n",
       "      <td>1002</td>\n",
       "      <td>10</td>\n",
       "      <td>11</td>\n",
       "    </tr>\n",
       "    <tr>\n",
       "      <th>7</th>\n",
       "      <td>1002</td>\n",
       "      <td>11</td>\n",
       "      <td>55</td>\n",
       "    </tr>\n",
       "    <tr>\n",
       "      <th>8</th>\n",
       "      <td>1002</td>\n",
       "      <td>12</td>\n",
       "      <td>47</td>\n",
       "    </tr>\n",
       "    <tr>\n",
       "      <th>9</th>\n",
       "      <td>1003</td>\n",
       "      <td>12</td>\n",
       "      <td>149</td>\n",
       "    </tr>\n",
       "  </tbody>\n",
       "</table>\n",
       "</div>"
      ],
      "text/plain": [
       "   user_id  month  num_calls\n",
       "0     1000     12         16\n",
       "1     1001      8         27\n",
       "2     1001      9         49\n",
       "3     1001     10         65\n",
       "4     1001     11         64\n",
       "5     1001     12         56\n",
       "6     1002     10         11\n",
       "7     1002     11         55\n",
       "8     1002     12         47\n",
       "9     1003     12        149"
      ]
     },
     "execution_count": 27,
     "metadata": {},
     "output_type": "execute_result"
    }
   ],
   "source": [
    "# Calcula el número de llamadas hechas por cada usuario al mes. \n",
    "# Añadiendo columna con el mes\n",
    "calls['month']=calls['call_date'].dt.month\n",
    "# Agrupando por user_id y por mes\n",
    "calls_per_month= calls.groupby(['user_id','month'])['id'].count().reset_index()\n",
    "# Renombrando columna para mayor practicidad\n",
    "calls_per_month.rename(columns={'id':'num_calls'}, inplace=True)\n",
    "\n",
    "# Comprobando agrupación de valores\n",
    "calls_per_month.head(10)"
   ]
  },
  {
   "cell_type": "markdown",
   "metadata": {},
   "source": [
    "**2.3.2. Cálculo de Minutos Usados por Usuario al Mes**\n",
    "\n",
    "Calculamos la cantidad de minutos usados por cada usuario al mes."
   ]
  },
  {
   "cell_type": "code",
   "execution_count": 28,
   "metadata": {
    "id": "aw2cmuql0q1G",
    "trusted": true
   },
   "outputs": [
    {
     "data": {
      "text/html": [
       "<div>\n",
       "<style scoped>\n",
       "    .dataframe tbody tr th:only-of-type {\n",
       "        vertical-align: middle;\n",
       "    }\n",
       "\n",
       "    .dataframe tbody tr th {\n",
       "        vertical-align: top;\n",
       "    }\n",
       "\n",
       "    .dataframe thead th {\n",
       "        text-align: right;\n",
       "    }\n",
       "</style>\n",
       "<table border=\"1\" class=\"dataframe\">\n",
       "  <thead>\n",
       "    <tr style=\"text-align: right;\">\n",
       "      <th></th>\n",
       "      <th>user_id</th>\n",
       "      <th>month</th>\n",
       "      <th>min_per_month</th>\n",
       "    </tr>\n",
       "  </thead>\n",
       "  <tbody>\n",
       "    <tr>\n",
       "      <th>0</th>\n",
       "      <td>1000</td>\n",
       "      <td>12</td>\n",
       "      <td>117</td>\n",
       "    </tr>\n",
       "    <tr>\n",
       "      <th>1</th>\n",
       "      <td>1001</td>\n",
       "      <td>8</td>\n",
       "      <td>172</td>\n",
       "    </tr>\n",
       "    <tr>\n",
       "      <th>2</th>\n",
       "      <td>1001</td>\n",
       "      <td>9</td>\n",
       "      <td>298</td>\n",
       "    </tr>\n",
       "    <tr>\n",
       "      <th>3</th>\n",
       "      <td>1001</td>\n",
       "      <td>10</td>\n",
       "      <td>375</td>\n",
       "    </tr>\n",
       "    <tr>\n",
       "      <th>4</th>\n",
       "      <td>1001</td>\n",
       "      <td>11</td>\n",
       "      <td>405</td>\n",
       "    </tr>\n",
       "    <tr>\n",
       "      <th>5</th>\n",
       "      <td>1001</td>\n",
       "      <td>12</td>\n",
       "      <td>393</td>\n",
       "    </tr>\n",
       "    <tr>\n",
       "      <th>6</th>\n",
       "      <td>1002</td>\n",
       "      <td>10</td>\n",
       "      <td>55</td>\n",
       "    </tr>\n",
       "    <tr>\n",
       "      <th>7</th>\n",
       "      <td>1002</td>\n",
       "      <td>11</td>\n",
       "      <td>360</td>\n",
       "    </tr>\n",
       "    <tr>\n",
       "      <th>8</th>\n",
       "      <td>1002</td>\n",
       "      <td>12</td>\n",
       "      <td>364</td>\n",
       "    </tr>\n",
       "    <tr>\n",
       "      <th>9</th>\n",
       "      <td>1003</td>\n",
       "      <td>12</td>\n",
       "      <td>1041</td>\n",
       "    </tr>\n",
       "  </tbody>\n",
       "</table>\n",
       "</div>"
      ],
      "text/plain": [
       "   user_id  month  min_per_month\n",
       "0     1000     12            117\n",
       "1     1001      8            172\n",
       "2     1001      9            298\n",
       "3     1001     10            375\n",
       "4     1001     11            405\n",
       "5     1001     12            393\n",
       "6     1002     10             55\n",
       "7     1002     11            360\n",
       "8     1002     12            364\n",
       "9     1003     12           1041"
      ]
     },
     "execution_count": 28,
     "metadata": {},
     "output_type": "execute_result"
    }
   ],
   "source": [
    "# Calcula la cantidad de minutos usados por cada usuario al mes. Guarda el resultado.\n",
    "# Agrupando por user_id y por mes\n",
    "minutes_per_month= calls.groupby(['user_id','month'])['duration'].sum().reset_index()\n",
    "# Renombrando columna para mayor practicidad\n",
    "minutes_per_month.rename(columns={'duration':'min_per_month'}, inplace=True)\n",
    "# Redondeando conteo de minutos por mes\n",
    "minutes_per_month['min_per_month']=np.ceil(minutes_per_month['min_per_month']).astype(int)\n",
    "\n",
    "# Comprobando agrupación de valores\n",
    "minutes_per_month.head(10)\n"
   ]
  },
  {
   "cell_type": "markdown",
   "metadata": {},
   "source": [
    "**2.3.3. Cálculo de Mensajes Enviados por Usuario al Mes**\n",
    "Calculamos el número de mensajes enviados por cada usuario al mes."
   ]
  },
  {
   "cell_type": "code",
   "execution_count": 29,
   "metadata": {
    "id": "CcQvNHn60q1G",
    "trusted": true
   },
   "outputs": [
    {
     "data": {
      "text/html": [
       "<div>\n",
       "<style scoped>\n",
       "    .dataframe tbody tr th:only-of-type {\n",
       "        vertical-align: middle;\n",
       "    }\n",
       "\n",
       "    .dataframe tbody tr th {\n",
       "        vertical-align: top;\n",
       "    }\n",
       "\n",
       "    .dataframe thead th {\n",
       "        text-align: right;\n",
       "    }\n",
       "</style>\n",
       "<table border=\"1\" class=\"dataframe\">\n",
       "  <thead>\n",
       "    <tr style=\"text-align: right;\">\n",
       "      <th></th>\n",
       "      <th>user_id</th>\n",
       "      <th>month</th>\n",
       "      <th>msg_per_month</th>\n",
       "    </tr>\n",
       "  </thead>\n",
       "  <tbody>\n",
       "    <tr>\n",
       "      <th>0</th>\n",
       "      <td>1000</td>\n",
       "      <td>12</td>\n",
       "      <td>11</td>\n",
       "    </tr>\n",
       "    <tr>\n",
       "      <th>1</th>\n",
       "      <td>1001</td>\n",
       "      <td>8</td>\n",
       "      <td>30</td>\n",
       "    </tr>\n",
       "    <tr>\n",
       "      <th>2</th>\n",
       "      <td>1001</td>\n",
       "      <td>9</td>\n",
       "      <td>44</td>\n",
       "    </tr>\n",
       "    <tr>\n",
       "      <th>3</th>\n",
       "      <td>1001</td>\n",
       "      <td>10</td>\n",
       "      <td>53</td>\n",
       "    </tr>\n",
       "    <tr>\n",
       "      <th>4</th>\n",
       "      <td>1001</td>\n",
       "      <td>11</td>\n",
       "      <td>36</td>\n",
       "    </tr>\n",
       "    <tr>\n",
       "      <th>5</th>\n",
       "      <td>1001</td>\n",
       "      <td>12</td>\n",
       "      <td>44</td>\n",
       "    </tr>\n",
       "    <tr>\n",
       "      <th>6</th>\n",
       "      <td>1002</td>\n",
       "      <td>10</td>\n",
       "      <td>15</td>\n",
       "    </tr>\n",
       "    <tr>\n",
       "      <th>7</th>\n",
       "      <td>1002</td>\n",
       "      <td>11</td>\n",
       "      <td>32</td>\n",
       "    </tr>\n",
       "    <tr>\n",
       "      <th>8</th>\n",
       "      <td>1002</td>\n",
       "      <td>12</td>\n",
       "      <td>41</td>\n",
       "    </tr>\n",
       "    <tr>\n",
       "      <th>9</th>\n",
       "      <td>1003</td>\n",
       "      <td>12</td>\n",
       "      <td>50</td>\n",
       "    </tr>\n",
       "  </tbody>\n",
       "</table>\n",
       "</div>"
      ],
      "text/plain": [
       "   user_id  month  msg_per_month\n",
       "0     1000     12             11\n",
       "1     1001      8             30\n",
       "2     1001      9             44\n",
       "3     1001     10             53\n",
       "4     1001     11             36\n",
       "5     1001     12             44\n",
       "6     1002     10             15\n",
       "7     1002     11             32\n",
       "8     1002     12             41\n",
       "9     1003     12             50"
      ]
     },
     "execution_count": 29,
     "metadata": {},
     "output_type": "execute_result"
    }
   ],
   "source": [
    "# Calcula el número de mensajes enviados por cada usuario al mes. Guarda el resultado.\n",
    "\n",
    "# Añadiendo columna con el mes\n",
    "messages['month']=messages['message_date'].dt.month\n",
    "#Agrupando por user_id y por mes\n",
    "messages_per_month=messages.groupby(['user_id','month'])['id'].count().reset_index()\n",
    "# Renombrando columna para mayor practicidad\n",
    "messages_per_month.rename(columns={'id':'msg_per_month'}, inplace=True)\n",
    "\n",
    "\n",
    "# Comprobando agrupación de valores\n",
    "messages_per_month.head(10)"
   ]
  },
  {
   "cell_type": "markdown",
   "metadata": {},
   "source": [
    "**2.3.4. Cálculo del Volumen de Tráfico de Internet Usado por Usuario al Mes**\n",
    "\n",
    "Calculamos el volumen del tráfico de Internet usado por cada usuario al mes en GB, redondeando hacia arriba."
   ]
  },
  {
   "cell_type": "code",
   "execution_count": 30,
   "metadata": {
    "id": "H1AqN2eG0q1H",
    "trusted": true
   },
   "outputs": [
    {
     "data": {
      "text/html": [
       "<div>\n",
       "<style scoped>\n",
       "    .dataframe tbody tr th:only-of-type {\n",
       "        vertical-align: middle;\n",
       "    }\n",
       "\n",
       "    .dataframe tbody tr th {\n",
       "        vertical-align: top;\n",
       "    }\n",
       "\n",
       "    .dataframe thead th {\n",
       "        text-align: right;\n",
       "    }\n",
       "</style>\n",
       "<table border=\"1\" class=\"dataframe\">\n",
       "  <thead>\n",
       "    <tr style=\"text-align: right;\">\n",
       "      <th></th>\n",
       "      <th>user_id</th>\n",
       "      <th>month</th>\n",
       "      <th>gb_used</th>\n",
       "    </tr>\n",
       "  </thead>\n",
       "  <tbody>\n",
       "    <tr>\n",
       "      <th>0</th>\n",
       "      <td>1000</td>\n",
       "      <td>12</td>\n",
       "      <td>2</td>\n",
       "    </tr>\n",
       "    <tr>\n",
       "      <th>1</th>\n",
       "      <td>1001</td>\n",
       "      <td>8</td>\n",
       "      <td>7</td>\n",
       "    </tr>\n",
       "    <tr>\n",
       "      <th>2</th>\n",
       "      <td>1001</td>\n",
       "      <td>9</td>\n",
       "      <td>14</td>\n",
       "    </tr>\n",
       "    <tr>\n",
       "      <th>3</th>\n",
       "      <td>1001</td>\n",
       "      <td>10</td>\n",
       "      <td>22</td>\n",
       "    </tr>\n",
       "    <tr>\n",
       "      <th>4</th>\n",
       "      <td>1001</td>\n",
       "      <td>11</td>\n",
       "      <td>19</td>\n",
       "    </tr>\n",
       "    <tr>\n",
       "      <th>5</th>\n",
       "      <td>1001</td>\n",
       "      <td>12</td>\n",
       "      <td>19</td>\n",
       "    </tr>\n",
       "    <tr>\n",
       "      <th>6</th>\n",
       "      <td>1002</td>\n",
       "      <td>10</td>\n",
       "      <td>7</td>\n",
       "    </tr>\n",
       "    <tr>\n",
       "      <th>7</th>\n",
       "      <td>1002</td>\n",
       "      <td>11</td>\n",
       "      <td>19</td>\n",
       "    </tr>\n",
       "    <tr>\n",
       "      <th>8</th>\n",
       "      <td>1002</td>\n",
       "      <td>12</td>\n",
       "      <td>15</td>\n",
       "    </tr>\n",
       "    <tr>\n",
       "      <th>9</th>\n",
       "      <td>1003</td>\n",
       "      <td>12</td>\n",
       "      <td>27</td>\n",
       "    </tr>\n",
       "  </tbody>\n",
       "</table>\n",
       "</div>"
      ],
      "text/plain": [
       "   user_id  month  gb_used\n",
       "0     1000     12        2\n",
       "1     1001      8        7\n",
       "2     1001      9       14\n",
       "3     1001     10       22\n",
       "4     1001     11       19\n",
       "5     1001     12       19\n",
       "6     1002     10        7\n",
       "7     1002     11       19\n",
       "8     1002     12       15\n",
       "9     1003     12       27"
      ]
     },
     "execution_count": 30,
     "metadata": {},
     "output_type": "execute_result"
    }
   ],
   "source": [
    "# Calcula el volumen del tráfico de Internet usado por cada usuario al mes. Guarda el resultado.\n",
    "\n",
    "# Añadiendo columna con el mes\n",
    "internet['month']=internet['session_date'].dt.month\n",
    "# Agrupando por user_id y por mes\n",
    "internet_per_month= internet.groupby(['user_id','month'])['mb_used'].sum().reset_index()\n",
    "# Renombrando columna para mayor practicidad\n",
    "internet_per_month.rename(columns={'mb_used':'gb_used'}, inplace=True)\n",
    "# Redondeando conteo de minutos por mes\n",
    "internet_per_month['gb_used']=internet_per_month['gb_used']/1024\n",
    "internet_per_month['gb_used']= np.ceil(internet_per_month['gb_used']).astype(int)\n",
    "\n",
    "# Comprobando agrupación de valores\n",
    "internet_per_month.head(10)\n"
   ]
  },
  {
   "cell_type": "markdown",
   "metadata": {
    "id": "VDfYXnj80q1H"
   },
   "source": [
    "### **3. Agregación y Cálculo de Ingresos por Usuario**\n",
    "\n",
    "En esta sección, se compilarán todos los datos mensuales de uso por usuario en un único DataFrame y se calcularán los ingresos generados por cada cliente, considerando el costo base del plan y los cargos adicionales por excedentes.\n",
    "\n",
    "#### **3.1. Compilación de Datos Mensuales**\n",
    "Fusionamos los DataFrames de uso mensual (`calls_per_month`, `minutes_per_month`, `messages_per_month`, `internet_per_month`) y añadimos la información del plan de cada usuario."
   ]
  },
  {
   "cell_type": "code",
   "execution_count": 64,
   "metadata": {
    "id": "FW99ykyf0q1H",
    "trusted": true
   },
   "outputs": [
    {
     "data": {
      "text/html": [
       "<div>\n",
       "<style scoped>\n",
       "    .dataframe tbody tr th:only-of-type {\n",
       "        vertical-align: middle;\n",
       "    }\n",
       "\n",
       "    .dataframe tbody tr th {\n",
       "        vertical-align: top;\n",
       "    }\n",
       "\n",
       "    .dataframe thead th {\n",
       "        text-align: right;\n",
       "    }\n",
       "</style>\n",
       "<table border=\"1\" class=\"dataframe\">\n",
       "  <thead>\n",
       "    <tr style=\"text-align: right;\">\n",
       "      <th></th>\n",
       "      <th>user_id</th>\n",
       "      <th>month</th>\n",
       "      <th>num_calls</th>\n",
       "      <th>min_per_month</th>\n",
       "      <th>msg_per_month</th>\n",
       "      <th>gb_used</th>\n",
       "    </tr>\n",
       "  </thead>\n",
       "  <tbody>\n",
       "    <tr>\n",
       "      <th>0</th>\n",
       "      <td>1000</td>\n",
       "      <td>12</td>\n",
       "      <td>16</td>\n",
       "      <td>117</td>\n",
       "      <td>11</td>\n",
       "      <td>2</td>\n",
       "    </tr>\n",
       "    <tr>\n",
       "      <th>1</th>\n",
       "      <td>1001</td>\n",
       "      <td>8</td>\n",
       "      <td>27</td>\n",
       "      <td>172</td>\n",
       "      <td>30</td>\n",
       "      <td>7</td>\n",
       "    </tr>\n",
       "    <tr>\n",
       "      <th>2</th>\n",
       "      <td>1001</td>\n",
       "      <td>9</td>\n",
       "      <td>49</td>\n",
       "      <td>298</td>\n",
       "      <td>44</td>\n",
       "      <td>14</td>\n",
       "    </tr>\n",
       "    <tr>\n",
       "      <th>3</th>\n",
       "      <td>1001</td>\n",
       "      <td>10</td>\n",
       "      <td>65</td>\n",
       "      <td>375</td>\n",
       "      <td>53</td>\n",
       "      <td>22</td>\n",
       "    </tr>\n",
       "    <tr>\n",
       "      <th>4</th>\n",
       "      <td>1001</td>\n",
       "      <td>11</td>\n",
       "      <td>64</td>\n",
       "      <td>405</td>\n",
       "      <td>36</td>\n",
       "      <td>19</td>\n",
       "    </tr>\n",
       "  </tbody>\n",
       "</table>\n",
       "</div>"
      ],
      "text/plain": [
       "   user_id  month  num_calls  min_per_month  msg_per_month  gb_used\n",
       "0     1000     12         16            117             11        2\n",
       "1     1001      8         27            172             30        7\n",
       "2     1001      9         49            298             44       14\n",
       "3     1001     10         65            375             53       22\n",
       "4     1001     11         64            405             36       19"
      ]
     },
     "execution_count": 64,
     "metadata": {},
     "output_type": "execute_result"
    }
   ],
   "source": [
    "\n",
    "#Fusionando calls_per_month, minutes_per month, messages_per_month e internet_per_month, todos con base en user_id y month\n",
    "df_proces= calls_per_month.merge(minutes_per_month, on=[\"user_id\", \"month\"])\\\n",
    "                                .merge(messages_per_month, on=[\"user_id\", \"month\"])\\\n",
    "                                .merge(internet_per_month, on=[\"user_id\", \"month\"])\n",
    "\n",
    "# Comprobando la fusión de los DataFrames\n",
    "df_proces.head()"
   ]
  },
  {
   "cell_type": "code",
   "execution_count": 32,
   "metadata": {
    "id": "0dNOXHag0q1H",
    "trusted": true
   },
   "outputs": [
    {
     "data": {
      "text/html": [
       "<div>\n",
       "<style scoped>\n",
       "    .dataframe tbody tr th:only-of-type {\n",
       "        vertical-align: middle;\n",
       "    }\n",
       "\n",
       "    .dataframe tbody tr th {\n",
       "        vertical-align: top;\n",
       "    }\n",
       "\n",
       "    .dataframe thead th {\n",
       "        text-align: right;\n",
       "    }\n",
       "</style>\n",
       "<table border=\"1\" class=\"dataframe\">\n",
       "  <thead>\n",
       "    <tr style=\"text-align: right;\">\n",
       "      <th></th>\n",
       "      <th>user_id</th>\n",
       "      <th>month</th>\n",
       "      <th>num_calls</th>\n",
       "      <th>min_per_month</th>\n",
       "      <th>msg_per_month</th>\n",
       "      <th>gb_used</th>\n",
       "      <th>plan</th>\n",
       "    </tr>\n",
       "  </thead>\n",
       "  <tbody>\n",
       "    <tr>\n",
       "      <th>0</th>\n",
       "      <td>1000</td>\n",
       "      <td>12</td>\n",
       "      <td>16</td>\n",
       "      <td>117</td>\n",
       "      <td>11</td>\n",
       "      <td>2</td>\n",
       "      <td>ultimate</td>\n",
       "    </tr>\n",
       "    <tr>\n",
       "      <th>1</th>\n",
       "      <td>1001</td>\n",
       "      <td>8</td>\n",
       "      <td>27</td>\n",
       "      <td>172</td>\n",
       "      <td>30</td>\n",
       "      <td>7</td>\n",
       "      <td>surf</td>\n",
       "    </tr>\n",
       "    <tr>\n",
       "      <th>2</th>\n",
       "      <td>1001</td>\n",
       "      <td>9</td>\n",
       "      <td>49</td>\n",
       "      <td>298</td>\n",
       "      <td>44</td>\n",
       "      <td>14</td>\n",
       "      <td>surf</td>\n",
       "    </tr>\n",
       "    <tr>\n",
       "      <th>3</th>\n",
       "      <td>1001</td>\n",
       "      <td>10</td>\n",
       "      <td>65</td>\n",
       "      <td>375</td>\n",
       "      <td>53</td>\n",
       "      <td>22</td>\n",
       "      <td>surf</td>\n",
       "    </tr>\n",
       "    <tr>\n",
       "      <th>4</th>\n",
       "      <td>1001</td>\n",
       "      <td>11</td>\n",
       "      <td>64</td>\n",
       "      <td>405</td>\n",
       "      <td>36</td>\n",
       "      <td>19</td>\n",
       "      <td>surf</td>\n",
       "    </tr>\n",
       "  </tbody>\n",
       "</table>\n",
       "</div>"
      ],
      "text/plain": [
       "   user_id  month  num_calls  min_per_month  msg_per_month  gb_used      plan\n",
       "0     1000     12         16            117             11        2  ultimate\n",
       "1     1001      8         27            172             30        7      surf\n",
       "2     1001      9         49            298             44       14      surf\n",
       "3     1001     10         65            375             53       22      surf\n",
       "4     1001     11         64            405             36       19      surf"
      ]
     },
     "execution_count": 32,
     "metadata": {},
     "output_type": "execute_result"
    }
   ],
   "source": [
    "# Añade la información de la tarifa\n",
    "df_proces= df_proces.merge(users[['user_id', 'plan']], on='user_id', how='left')\n",
    "df_proces.head()"
   ]
  },
  {
   "cell_type": "markdown",
   "metadata": {
    "id": "1IwGo4wg0q1I"
   },
   "source": [
    "#### **3.2. Cálculo de Excesos y Costos Adicionales**\n",
    "\n",
    "Se determinarán los minutos, mensajes y gigabytes que exceden los límites de cada plan, y se calcularán los costos adicionales asociados."
   ]
  },
  {
   "cell_type": "code",
   "execution_count": 33,
   "metadata": {
    "id": "5FGCf_c60q1I",
    "trusted": true
   },
   "outputs": [
    {
     "data": {
      "text/html": [
       "<div>\n",
       "<style scoped>\n",
       "    .dataframe tbody tr th:only-of-type {\n",
       "        vertical-align: middle;\n",
       "    }\n",
       "\n",
       "    .dataframe tbody tr th {\n",
       "        vertical-align: top;\n",
       "    }\n",
       "\n",
       "    .dataframe thead th {\n",
       "        text-align: right;\n",
       "    }\n",
       "</style>\n",
       "<table border=\"1\" class=\"dataframe\">\n",
       "  <thead>\n",
       "    <tr style=\"text-align: right;\">\n",
       "      <th></th>\n",
       "      <th>messages_included</th>\n",
       "      <th>mb_per_month_included</th>\n",
       "      <th>minutes_included</th>\n",
       "      <th>usd_monthly_pay</th>\n",
       "      <th>usd_per_gb</th>\n",
       "      <th>usd_per_message</th>\n",
       "      <th>usd_per_minute</th>\n",
       "      <th>plan_name</th>\n",
       "    </tr>\n",
       "  </thead>\n",
       "  <tbody>\n",
       "    <tr>\n",
       "      <th>0</th>\n",
       "      <td>50</td>\n",
       "      <td>15360</td>\n",
       "      <td>500</td>\n",
       "      <td>20</td>\n",
       "      <td>10</td>\n",
       "      <td>0.03</td>\n",
       "      <td>0.03</td>\n",
       "      <td>surf</td>\n",
       "    </tr>\n",
       "    <tr>\n",
       "      <th>1</th>\n",
       "      <td>1000</td>\n",
       "      <td>30720</td>\n",
       "      <td>3000</td>\n",
       "      <td>70</td>\n",
       "      <td>7</td>\n",
       "      <td>0.01</td>\n",
       "      <td>0.01</td>\n",
       "      <td>ultimate</td>\n",
       "    </tr>\n",
       "  </tbody>\n",
       "</table>\n",
       "</div>"
      ],
      "text/plain": [
       "   messages_included  mb_per_month_included  minutes_included  \\\n",
       "0                 50                  15360               500   \n",
       "1               1000                  30720              3000   \n",
       "\n",
       "   usd_monthly_pay  usd_per_gb  usd_per_message  usd_per_minute plan_name  \n",
       "0               20          10             0.03            0.03      surf  \n",
       "1               70           7             0.01            0.01  ultimate  "
      ]
     },
     "execution_count": 33,
     "metadata": {},
     "output_type": "execute_result"
    }
   ],
   "source": [
    "#Recordatorio de tarifas\n",
    "plans.head()"
   ]
  },
  {
   "cell_type": "code",
   "execution_count": 34,
   "metadata": {
    "trusted": true
   },
   "outputs": [
    {
     "data": {
      "text/html": [
       "<div>\n",
       "<style scoped>\n",
       "    .dataframe tbody tr th:only-of-type {\n",
       "        vertical-align: middle;\n",
       "    }\n",
       "\n",
       "    .dataframe tbody tr th {\n",
       "        vertical-align: top;\n",
       "    }\n",
       "\n",
       "    .dataframe thead th {\n",
       "        text-align: right;\n",
       "    }\n",
       "</style>\n",
       "<table border=\"1\" class=\"dataframe\">\n",
       "  <thead>\n",
       "    <tr style=\"text-align: right;\">\n",
       "      <th></th>\n",
       "      <th>user_id</th>\n",
       "      <th>month</th>\n",
       "      <th>num_calls</th>\n",
       "      <th>min_per_month</th>\n",
       "      <th>msg_per_month</th>\n",
       "      <th>gb_used</th>\n",
       "      <th>plan</th>\n",
       "      <th>messages_included</th>\n",
       "      <th>mb_per_month_included</th>\n",
       "      <th>minutes_included</th>\n",
       "      <th>usd_monthly_pay</th>\n",
       "      <th>usd_per_gb</th>\n",
       "      <th>usd_per_message</th>\n",
       "      <th>usd_per_minute</th>\n",
       "      <th>plan_name</th>\n",
       "      <th>reg_date</th>\n",
       "      <th>churn_date</th>\n",
       "      <th>reg_month</th>\n",
       "      <th>churn_month</th>\n",
       "    </tr>\n",
       "  </thead>\n",
       "  <tbody>\n",
       "    <tr>\n",
       "      <th>0</th>\n",
       "      <td>1000</td>\n",
       "      <td>12</td>\n",
       "      <td>16</td>\n",
       "      <td>117</td>\n",
       "      <td>11</td>\n",
       "      <td>2</td>\n",
       "      <td>ultimate</td>\n",
       "      <td>1000</td>\n",
       "      <td>30720</td>\n",
       "      <td>3000</td>\n",
       "      <td>70</td>\n",
       "      <td>7</td>\n",
       "      <td>0.01</td>\n",
       "      <td>0.01</td>\n",
       "      <td>ultimate</td>\n",
       "      <td>2018-12-24</td>\n",
       "      <td>NaT</td>\n",
       "      <td>12</td>\n",
       "      <td>NaN</td>\n",
       "    </tr>\n",
       "    <tr>\n",
       "      <th>1</th>\n",
       "      <td>1001</td>\n",
       "      <td>8</td>\n",
       "      <td>27</td>\n",
       "      <td>172</td>\n",
       "      <td>30</td>\n",
       "      <td>7</td>\n",
       "      <td>surf</td>\n",
       "      <td>50</td>\n",
       "      <td>15360</td>\n",
       "      <td>500</td>\n",
       "      <td>20</td>\n",
       "      <td>10</td>\n",
       "      <td>0.03</td>\n",
       "      <td>0.03</td>\n",
       "      <td>surf</td>\n",
       "      <td>2018-08-13</td>\n",
       "      <td>NaT</td>\n",
       "      <td>8</td>\n",
       "      <td>NaN</td>\n",
       "    </tr>\n",
       "    <tr>\n",
       "      <th>2</th>\n",
       "      <td>1001</td>\n",
       "      <td>9</td>\n",
       "      <td>49</td>\n",
       "      <td>298</td>\n",
       "      <td>44</td>\n",
       "      <td>14</td>\n",
       "      <td>surf</td>\n",
       "      <td>50</td>\n",
       "      <td>15360</td>\n",
       "      <td>500</td>\n",
       "      <td>20</td>\n",
       "      <td>10</td>\n",
       "      <td>0.03</td>\n",
       "      <td>0.03</td>\n",
       "      <td>surf</td>\n",
       "      <td>2018-08-13</td>\n",
       "      <td>NaT</td>\n",
       "      <td>8</td>\n",
       "      <td>NaN</td>\n",
       "    </tr>\n",
       "    <tr>\n",
       "      <th>3</th>\n",
       "      <td>1001</td>\n",
       "      <td>10</td>\n",
       "      <td>65</td>\n",
       "      <td>375</td>\n",
       "      <td>53</td>\n",
       "      <td>22</td>\n",
       "      <td>surf</td>\n",
       "      <td>50</td>\n",
       "      <td>15360</td>\n",
       "      <td>500</td>\n",
       "      <td>20</td>\n",
       "      <td>10</td>\n",
       "      <td>0.03</td>\n",
       "      <td>0.03</td>\n",
       "      <td>surf</td>\n",
       "      <td>2018-08-13</td>\n",
       "      <td>NaT</td>\n",
       "      <td>8</td>\n",
       "      <td>NaN</td>\n",
       "    </tr>\n",
       "    <tr>\n",
       "      <th>4</th>\n",
       "      <td>1001</td>\n",
       "      <td>11</td>\n",
       "      <td>64</td>\n",
       "      <td>405</td>\n",
       "      <td>36</td>\n",
       "      <td>19</td>\n",
       "      <td>surf</td>\n",
       "      <td>50</td>\n",
       "      <td>15360</td>\n",
       "      <td>500</td>\n",
       "      <td>20</td>\n",
       "      <td>10</td>\n",
       "      <td>0.03</td>\n",
       "      <td>0.03</td>\n",
       "      <td>surf</td>\n",
       "      <td>2018-08-13</td>\n",
       "      <td>NaT</td>\n",
       "      <td>8</td>\n",
       "      <td>NaN</td>\n",
       "    </tr>\n",
       "  </tbody>\n",
       "</table>\n",
       "</div>"
      ],
      "text/plain": [
       "   user_id  month  num_calls  min_per_month  msg_per_month  gb_used      plan  \\\n",
       "0     1000     12         16            117             11        2  ultimate   \n",
       "1     1001      8         27            172             30        7      surf   \n",
       "2     1001      9         49            298             44       14      surf   \n",
       "3     1001     10         65            375             53       22      surf   \n",
       "4     1001     11         64            405             36       19      surf   \n",
       "\n",
       "   messages_included  mb_per_month_included  minutes_included  \\\n",
       "0               1000                  30720              3000   \n",
       "1                 50                  15360               500   \n",
       "2                 50                  15360               500   \n",
       "3                 50                  15360               500   \n",
       "4                 50                  15360               500   \n",
       "\n",
       "   usd_monthly_pay  usd_per_gb  usd_per_message  usd_per_minute plan_name  \\\n",
       "0               70           7             0.01            0.01  ultimate   \n",
       "1               20          10             0.03            0.03      surf   \n",
       "2               20          10             0.03            0.03      surf   \n",
       "3               20          10             0.03            0.03      surf   \n",
       "4               20          10             0.03            0.03      surf   \n",
       "\n",
       "    reg_date churn_date  reg_month  churn_month  \n",
       "0 2018-12-24        NaT         12          NaN  \n",
       "1 2018-08-13        NaT          8          NaN  \n",
       "2 2018-08-13        NaT          8          NaN  \n",
       "3 2018-08-13        NaT          8          NaN  \n",
       "4 2018-08-13        NaT          8          NaN  "
      ]
     },
     "execution_count": 34,
     "metadata": {},
     "output_type": "execute_result"
    }
   ],
   "source": [
    "# Fusionando dataframes df_proces y plans y fusionando también con users (para incluir fechas)\n",
    "df=df_proces.merge(plans,left_on=\"plan\",right_on=\"plan_name\", how=\"left\")\\\n",
    "            .merge(users[['user_id','reg_date','churn_date']],on='user_id',how='left')\n",
    "\n",
    "# Extrayendo month de reg_date y churn_date\n",
    "df['reg_month']=df['reg_date'].dt.month\n",
    "df['churn_month']=df['churn_date'].dt.month\n",
    "\n",
    "df.head()"
   ]
  },
  {
   "cell_type": "code",
   "execution_count": 35,
   "metadata": {
    "trusted": true
   },
   "outputs": [
    {
     "data": {
      "text/html": [
       "<div>\n",
       "<style scoped>\n",
       "    .dataframe tbody tr th:only-of-type {\n",
       "        vertical-align: middle;\n",
       "    }\n",
       "\n",
       "    .dataframe tbody tr th {\n",
       "        vertical-align: top;\n",
       "    }\n",
       "\n",
       "    .dataframe thead th {\n",
       "        text-align: right;\n",
       "    }\n",
       "</style>\n",
       "<table border=\"1\" class=\"dataframe\">\n",
       "  <thead>\n",
       "    <tr style=\"text-align: right;\">\n",
       "      <th></th>\n",
       "      <th>user_id</th>\n",
       "      <th>month</th>\n",
       "      <th>plan</th>\n",
       "      <th>usd_monthly_pay</th>\n",
       "      <th>extra_cost</th>\n",
       "      <th>total_revenue</th>\n",
       "    </tr>\n",
       "  </thead>\n",
       "  <tbody>\n",
       "    <tr>\n",
       "      <th>0</th>\n",
       "      <td>1000</td>\n",
       "      <td>12</td>\n",
       "      <td>ultimate</td>\n",
       "      <td>70</td>\n",
       "      <td>0.00</td>\n",
       "      <td>70.00</td>\n",
       "    </tr>\n",
       "    <tr>\n",
       "      <th>1</th>\n",
       "      <td>1001</td>\n",
       "      <td>8</td>\n",
       "      <td>surf</td>\n",
       "      <td>20</td>\n",
       "      <td>0.00</td>\n",
       "      <td>20.00</td>\n",
       "    </tr>\n",
       "    <tr>\n",
       "      <th>2</th>\n",
       "      <td>1001</td>\n",
       "      <td>9</td>\n",
       "      <td>surf</td>\n",
       "      <td>20</td>\n",
       "      <td>0.00</td>\n",
       "      <td>20.00</td>\n",
       "    </tr>\n",
       "    <tr>\n",
       "      <th>3</th>\n",
       "      <td>1001</td>\n",
       "      <td>10</td>\n",
       "      <td>surf</td>\n",
       "      <td>20</td>\n",
       "      <td>70.09</td>\n",
       "      <td>90.09</td>\n",
       "    </tr>\n",
       "    <tr>\n",
       "      <th>4</th>\n",
       "      <td>1001</td>\n",
       "      <td>11</td>\n",
       "      <td>surf</td>\n",
       "      <td>20</td>\n",
       "      <td>40.00</td>\n",
       "      <td>60.00</td>\n",
       "    </tr>\n",
       "    <tr>\n",
       "      <th>5</th>\n",
       "      <td>1001</td>\n",
       "      <td>12</td>\n",
       "      <td>surf</td>\n",
       "      <td>20</td>\n",
       "      <td>40.00</td>\n",
       "      <td>60.00</td>\n",
       "    </tr>\n",
       "    <tr>\n",
       "      <th>6</th>\n",
       "      <td>1002</td>\n",
       "      <td>10</td>\n",
       "      <td>surf</td>\n",
       "      <td>20</td>\n",
       "      <td>0.00</td>\n",
       "      <td>20.00</td>\n",
       "    </tr>\n",
       "    <tr>\n",
       "      <th>7</th>\n",
       "      <td>1002</td>\n",
       "      <td>11</td>\n",
       "      <td>surf</td>\n",
       "      <td>20</td>\n",
       "      <td>40.00</td>\n",
       "      <td>60.00</td>\n",
       "    </tr>\n",
       "    <tr>\n",
       "      <th>8</th>\n",
       "      <td>1002</td>\n",
       "      <td>12</td>\n",
       "      <td>surf</td>\n",
       "      <td>20</td>\n",
       "      <td>0.00</td>\n",
       "      <td>20.00</td>\n",
       "    </tr>\n",
       "    <tr>\n",
       "      <th>9</th>\n",
       "      <td>1003</td>\n",
       "      <td>12</td>\n",
       "      <td>surf</td>\n",
       "      <td>20</td>\n",
       "      <td>136.23</td>\n",
       "      <td>156.23</td>\n",
       "    </tr>\n",
       "  </tbody>\n",
       "</table>\n",
       "</div>"
      ],
      "text/plain": [
       "   user_id  month      plan  usd_monthly_pay  extra_cost  total_revenue\n",
       "0     1000     12  ultimate               70        0.00          70.00\n",
       "1     1001      8      surf               20        0.00          20.00\n",
       "2     1001      9      surf               20        0.00          20.00\n",
       "3     1001     10      surf               20       70.09          90.09\n",
       "4     1001     11      surf               20       40.00          60.00\n",
       "5     1001     12      surf               20       40.00          60.00\n",
       "6     1002     10      surf               20        0.00          20.00\n",
       "7     1002     11      surf               20       40.00          60.00\n",
       "8     1002     12      surf               20        0.00          20.00\n",
       "9     1003     12      surf               20      136.23         156.23"
      ]
     },
     "execution_count": 35,
     "metadata": {},
     "output_type": "execute_result"
    }
   ],
   "source": [
    "# Calculando exceso de uso y costos adicionales\n",
    "# Exceso de uso\n",
    "df['extra_minutes']=(df[\"min_per_month\"]-df[\"minutes_included\"]).clip(lower=0)\n",
    "df['extra_messages']=(df[\"msg_per_month\"]-df[\"messages_included\"]).clip(lower=0)\n",
    "df['extra_gb']=(df[\"gb_used\"]-(df[\"mb_per_month_included\"]/1024)).clip(lower=0).apply(np.ceil)\n",
    "# Costos adicionales\n",
    "df['extra_minutes_cost']=df[\"extra_minutes\"]*df[\"usd_per_minute\"]\n",
    "df['extra_messages_cost']=df[\"extra_messages\"]*df[\"usd_per_message\"]\n",
    "df['extra_gb_cost']=df[\"extra_gb\"]*df[\"usd_per_gb\"]\n",
    "\n",
    "# Sumando costos adicionales\n",
    "df[\"extra_cost\"]=df[\"extra_minutes_cost\"]+df[\"extra_messages_cost\"]+df[\"extra_gb_cost\"]\n",
    "\n",
    "# Extrayendo años para comparación\n",
    "df[\"year\"]=df[\"reg_date\"].dt.year\n",
    "\n",
    "# Filtrando usuarios activos\n",
    "df[\"active\"] = (df[\"month\"] >= df[\"reg_date\"].dt.month) & (df[\"year\"] >= df[\"reg_date\"].dt.year) & (\n",
    "    (df[\"churn_date\"].isna()) | ((df[\"month\"] <= df[\"churn_date\"].dt.month) & (df[\"year\"] <= df[\"churn_date\"].dt.year))\n",
    ")\n",
    "\n",
    "# Calculando ingresos mensuales\n",
    "df[\"total_revenue\"]=df[\"usd_monthly_pay\"]+df[\"extra_cost\"]\n",
    "\n",
    "df[['user_id', 'month', \"plan\",\"usd_monthly_pay\",\"extra_cost\" ,'total_revenue']].head(10)"
   ]
  },
  {
   "cell_type": "code",
   "execution_count": 36,
   "metadata": {
    "trusted": true
   },
   "outputs": [
    {
     "name": "stdout",
     "output_type": "stream",
     "text": [
      "<class 'pandas.core.frame.DataFrame'>\n",
      "RangeIndex: 1759 entries, 0 to 1758\n",
      "Data columns (total 29 columns):\n",
      " #   Column                 Non-Null Count  Dtype         \n",
      "---  ------                 --------------  -----         \n",
      " 0   user_id                1759 non-null   int64         \n",
      " 1   month                  1759 non-null   int32         \n",
      " 2   num_calls              1759 non-null   int64         \n",
      " 3   min_per_month          1759 non-null   int64         \n",
      " 4   msg_per_month          1759 non-null   int64         \n",
      " 5   gb_used                1759 non-null   int64         \n",
      " 6   plan                   1759 non-null   object        \n",
      " 7   messages_included      1759 non-null   int64         \n",
      " 8   mb_per_month_included  1759 non-null   int64         \n",
      " 9   minutes_included       1759 non-null   int64         \n",
      " 10  usd_monthly_pay        1759 non-null   int64         \n",
      " 11  usd_per_gb             1759 non-null   int64         \n",
      " 12  usd_per_message        1759 non-null   float64       \n",
      " 13  usd_per_minute         1759 non-null   float64       \n",
      " 14  plan_name              1759 non-null   object        \n",
      " 15  reg_date               1759 non-null   datetime64[ns]\n",
      " 16  churn_date             118 non-null    datetime64[ns]\n",
      " 17  reg_month              1759 non-null   int32         \n",
      " 18  churn_month            118 non-null    float64       \n",
      " 19  extra_minutes          1759 non-null   int64         \n",
      " 20  extra_messages         1759 non-null   int64         \n",
      " 21  extra_gb               1759 non-null   float64       \n",
      " 22  extra_minutes_cost     1759 non-null   float64       \n",
      " 23  extra_messages_cost    1759 non-null   float64       \n",
      " 24  extra_gb_cost          1759 non-null   float64       \n",
      " 25  extra_cost             1759 non-null   float64       \n",
      " 26  year                   1759 non-null   int32         \n",
      " 27  active                 1759 non-null   bool          \n",
      " 28  total_revenue          1759 non-null   float64       \n",
      "dtypes: bool(1), datetime64[ns](2), float64(9), int32(3), int64(12), object(2)\n",
      "memory usage: 366.0+ KB\n"
     ]
    }
   ],
   "source": [
    "df.info()"
   ]
  },
  {
   "cell_type": "markdown",
   "metadata": {
    "id": "vtW4CJEe0q1J"
   },
   "source": [
    "### **4. Estudiar el Comportamiento de Usuario por Plan**\n",
    "\n",
    "En esta sección, se analizará y visualizará el comportamiento de los usuarios en términos de llamadas, mensajes y consumo de internet, diferenciando por cada plan tarifario (Surf y Ultimate).\n",
    "\n",
    "#### **4.1. Comportamiento de Llamadas**\n",
    "Se comparará la duración promedio de llamadas por cada plan y por cada mes, visualizando los datos y calculando estadísticas clave."
   ]
  },
  {
   "cell_type": "code",
   "execution_count": 37,
   "metadata": {
    "id": "Jf5v5--k0q1J",
    "trusted": true
   },
   "outputs": [
    {
     "name": "stdout",
     "output_type": "stream",
     "text": [
      "plan         surf    ultimate\n",
      "month                        \n",
      "1      279.000000  188.000000\n",
      "2      313.800000  459.000000\n",
      "3      325.437500  390.000000\n",
      "4      346.742857  303.937500\n",
      "5      419.207547  387.904762\n",
      "6      402.000000  350.081081\n",
      "7      426.921348  416.446809\n",
      "8      404.689076  412.000000\n",
      "9      402.489796  413.591549\n",
      "10     418.132597  439.238636\n",
      "11     419.403670  438.960784\n",
      "12     467.955285  437.344000\n"
     ]
    },
    {
     "data": {
      "image/png": "[encoded data removed]",
      "text/plain": [
       "<Figure size 640x480 with 1 Axes>"
      ]
     },
     "metadata": {},
     "output_type": "display_data"
    }
   ],
   "source": [
    "# Compara la duración promedio de llamadas por cada plan y por cada mes. Traza un gráfico de barras para visualizarla.\n",
    "# Organizando información en pivot_table\n",
    "pivot_calls=df.pivot_table(index=\"month\",\n",
    "                           columns=\"plan\",\n",
    "                           values=\"min_per_month\",\n",
    "                           aggfunc=\"mean\"\n",
    "                          )\n",
    "print(pivot_calls)\n",
    "\n",
    "# Generando gráfico con información organizada\n",
    "pivot_calls.plot(kind=\"bar\",\n",
    "                 title=\"Promedio de llamadas por plan\",\n",
    "                 xlabel=\"Mes\",\n",
    "                 ylabel=\"Promedio de duración de llamadas (minutos)\"\n",
    ")\n",
    "plt.legend(['surf', 'ultimate'])\n",
    "plt.show()"
   ]
  },
  {
   "cell_type": "code",
   "execution_count": 38,
   "metadata": {
    "id": "QoLqW1S_0q1J",
    "trusted": true
   },
   "outputs": [
    {
     "data": {
      "image/png": "[encoded data removed]",
      "text/plain": [
       "<Figure size 1000x600 with 1 Axes>"
      ]
     },
     "metadata": {},
     "output_type": "display_data"
    }
   ],
   "source": [
    "# Compara el número de minutos mensuales que necesitan los usuarios de cada plan. Traza un histograma.\n",
    "# Tamaño de figura\n",
    "plt.figure(figsize=(10, 6))\n",
    "\n",
    "# Histograma de minutos usados para el plan \"surf\"\n",
    "plt.hist(df[df['plan'] == 'surf']['min_per_month'], bins=30, alpha=0.5, label='Surf', color='blue')\n",
    "\n",
    "# Histograma de minutos usados para el plan \"ultimate\"\n",
    "plt.hist(df[df['plan'] == 'ultimate']['min_per_month'], bins=30, alpha=0.8, label='Ultimate', color='orange')\n",
    "\n",
    "# Configuración del gráfico\n",
    "plt.title(\"Distribución de minutos usados por mes según el plan\")\n",
    "plt.xlabel(\"Minutos usados por mes\")\n",
    "plt.ylabel(\"Número de usuarios\")\n",
    "plt.legend()\n",
    "plt.grid(True)\n",
    "\n",
    "# Mostrar gráfico\n",
    "plt.show()"
   ]
  },
  {
   "cell_type": "code",
   "execution_count": 39,
   "metadata": {
    "id": "oSndbAnt0q1K",
    "scrolled": false,
    "trusted": true
   },
   "outputs": [
    {
     "name": "stdout",
     "output_type": "stream",
     "text": [
      "                      mean           var\n",
      "month plan                              \n",
      "1     surf      279.000000           NaN\n",
      "      ultimate  188.000000  22449.000000\n",
      "2     surf      313.800000  91044.200000\n",
      "      ultimate  459.000000  58963.500000\n",
      "3     surf      325.437500  38223.195833\n",
      "      ultimate  390.000000  53302.666667\n",
      "4     surf      346.742857  56222.490756\n",
      "      ultimate  303.937500  36327.795833\n",
      "5     surf      419.207547  55303.821480\n",
      "      ultimate  387.904762  49428.190476\n",
      "6     surf      402.000000  43175.275362\n",
      "      ultimate  350.081081  35365.409910\n",
      "7     surf      426.921348  57896.186925\n",
      "      ultimate  416.446809  72303.904718\n",
      "8     surf      404.689076  48235.809286\n",
      "      ultimate  412.000000  52799.857143\n",
      "9     surf      402.489796  41693.963936\n",
      "      ultimate  413.591549  57081.187928\n",
      "10    surf      418.132597  46581.160098\n",
      "      ultimate  439.238636  51259.884927\n",
      "11    surf      419.403670  44590.057498\n",
      "      ultimate  438.960784  58646.117259\n",
      "12    surf      467.955285  55668.785747\n",
      "      ultimate  437.344000  59430.179097\n"
     ]
    }
   ],
   "source": [
    "# Calcula la media y la varianza de la duración mensual de llamadas.\n",
    "df_statistics_calls=df.groupby(['month','plan'])['min_per_month'].agg(['mean','var'])\n",
    "print(df_statistics_calls)"
   ]
  },
  {
   "cell_type": "code",
   "execution_count": 59,
   "metadata": {
    "id": "nZzoRUKc0q1K",
    "trusted": true
   },
   "outputs": [
    {
     "data": {
      "image/png": "[encoded data removed]",
      "text/plain": [
       "<Figure size 800x800 with 1 Axes>"
      ]
     },
     "metadata": {},
     "output_type": "display_data"
    }
   ],
   "source": [
    "# Graficando distribución de duración mensual de llamadas en diagrama de caja\n",
    "plt.figure(figsize=(8,8))\n",
    "sns.boxplot(x='plan',y='min_per_month',data=df, hue='plan', palette={'surf':'blue','ultimate':'orange'})\n",
    "\n",
    "# Configurando gráfica\n",
    "plt.title(\"Distribución de minutos mensuales por plan\")\n",
    "plt.xlabel(\"Plan\")\n",
    "plt.ylabel(\"Minutos usados por mes\")\n",
    "\n",
    "\n",
    "plt.show()"
   ]
  },
  {
   "cell_type": "markdown",
   "metadata": {
    "id": "r627zBO50q1K"
   },
   "source": [
    "***Conclusiones Llamadas:***\n",
    "Al visualizar el gráfico de caja, se observa que los cuartiles del plan \"Surf\" son ligeramente superiores a los del plan \"Ultimate\", lo que indica una pequeña diferencia en el uso promedio, con los usuarios de Surf tendiendo a usar un poco más de minutos. Sin embargo, hay una mayor frecuencia de puntos atípicos (valores anómalos) en el plan \"Surf\". Dichos puntos anómalos podrían ser un objetivo para una campaña de marketing, invitándolos a considerar el plan \"Ultimate\", ya que pagarían una mejor tarifa por los minutos consumidos en exceso."
   ]
  },
  {
   "cell_type": "markdown",
   "metadata": {
    "id": "8idKy8Wh0q1L"
   },
   "source": [
    "### **4.2. Comportamiento de Mensajes**\n",
    "\n",
    "Se comparará el número promedio de mensajes enviados por cada plan y por cada mes, visualizando los datos y calculando estadísticas clave."
   ]
  },
  {
   "cell_type": "code",
   "execution_count": 41,
   "metadata": {
    "id": "NXLxiTit0q1L",
    "trusted": true
   },
   "outputs": [
    {
     "name": "stdout",
     "output_type": "stream",
     "text": [
      "plan        surf   ultimate\n",
      "month                      \n",
      "1      21.000000  20.666667\n",
      "2      21.600000  27.800000\n",
      "3      21.937500  34.714286\n",
      "4      24.685714  28.937500\n",
      "5      33.547170  44.333333\n",
      "6      32.742857  37.135135\n",
      "7      34.786517  41.212766\n",
      "8      37.302521  47.929825\n",
      "9      38.585034  45.901408\n",
      "10     41.475138  47.488636\n",
      "11     40.087156  47.656863\n",
      "12     47.686992  53.744000\n"
     ]
    },
    {
     "data": {
      "image/png": "[encoded data removed]",
      "text/plain": [
       "<Figure size 640x480 with 1 Axes>"
      ]
     },
     "metadata": {},
     "output_type": "display_data"
    }
   ],
   "source": [
    "# Compara el número promedio de mensajes que tienden a enviar cada mes los usuarios de cada plan\n",
    "# Organizando información en pivot_table\n",
    "pivot_msgs=df.pivot_table(index=\"month\",\n",
    "                           columns=\"plan\",\n",
    "                           values=\"msg_per_month\",\n",
    "                           aggfunc=\"mean\"\n",
    "                          )\n",
    "print(pivot_msgs)\n",
    "\n",
    "# Generando gráfico con información organizada\n",
    "pivot_msgs.plot(kind=\"bar\",\n",
    "                 title=\"Promedio de mensajes por plan\",\n",
    "                 xlabel=\"Mes\",\n",
    "                 ylabel=\"Promedio de mensajes enviados\"\n",
    ")\n",
    "plt.legend(['surf', 'ultimate'])\n",
    "plt.show()\n"
   ]
  },
  {
   "cell_type": "code",
   "execution_count": 42,
   "metadata": {
    "id": "GRI_R7xF0q1L",
    "trusted": true
   },
   "outputs": [
    {
     "data": {
      "image/png": "[encoded data removed]",
      "text/plain": [
       "<Figure size 1000x600 with 1 Axes>"
      ]
     },
     "metadata": {},
     "output_type": "display_data"
    }
   ],
   "source": [
    "# Compara el número de mensajes mensuales que necesitan los usuarios de cada plan. Traza un histograma.\n",
    "# Tamaño de figura\n",
    "plt.figure(figsize=(10, 6))\n",
    "\n",
    "# Histograma de minutos usados para el plan \"surf\"\n",
    "plt.hist(df[df['plan'] == 'surf']['msg_per_month'], bins=30, alpha=0.5, label='Surf', color='blue')\n",
    "\n",
    "# Histograma de minutos usados para el plan \"ultimate\"\n",
    "plt.hist(df[df['plan'] == 'ultimate']['msg_per_month'], bins=30, alpha=0.8, label='Ultimate', color='orange')\n",
    "\n",
    "# Configuración del gráfico\n",
    "plt.title(\"Distribución de mensajes enviados por mes según el plan\")\n",
    "plt.xlabel(\"Mensajes enviados por mes\")\n",
    "plt.ylabel(\"Número de usuarios\")\n",
    "plt.legend()\n",
    "plt.grid(True)\n",
    "\n",
    "# Mostrar gráfico\n",
    "plt.show()"
   ]
  },
  {
   "cell_type": "code",
   "execution_count": 43,
   "metadata": {
    "id": "dtFwCGAp0q1M",
    "trusted": true
   },
   "outputs": [
    {
     "name": "stdout",
     "output_type": "stream",
     "text": [
      "                     mean          var\n",
      "month plan                            \n",
      "1     surf      21.000000          NaN\n",
      "      ultimate  20.666667   310.333333\n",
      "2     surf      21.600000   512.800000\n",
      "      ultimate  27.800000   529.700000\n",
      "3     surf      21.937500   352.062500\n",
      "      ultimate  34.714286   613.904762\n",
      "4     surf      24.685714   539.751261\n",
      "      ultimate  28.937500   512.862500\n",
      "5     surf      33.547170   888.675617\n",
      "      ultimate  44.333333  1246.933333\n",
      "6     surf      32.742857   818.077847\n",
      "      ultimate  37.135135   801.731231\n",
      "7     surf      34.786517   786.397089\n",
      "      ultimate  41.212766   858.084181\n",
      "8     surf      37.302521   951.128044\n",
      "      ultimate  47.929825  1034.387845\n",
      "9     surf      38.585034   897.463610\n",
      "      ultimate  45.901408   903.375855\n",
      "10    surf      41.475138  1199.439656\n",
      "      ultimate  47.488636  1088.160789\n",
      "11    surf      40.087156   951.858728\n",
      "      ultimate  47.656863  1100.782081\n",
      "12    surf      47.686992  1339.971014\n",
      "      ultimate  53.744000  1380.175871\n"
     ]
    }
   ],
   "source": [
    "# Calcula la media y la varianza de los mensajes enviados.\n",
    "df_statistics_msgs=df.groupby(['month','plan'])['msg_per_month'].agg(['mean','var'])\n",
    "print(df_statistics_msgs)"
   ]
  },
  {
   "cell_type": "code",
   "execution_count": 56,
   "metadata": {
    "trusted": true
   },
   "outputs": [
    {
     "data": {
      "image/png": "[encoded data removed]",
      "text/plain": [
       "<Figure size 800x800 with 1 Axes>"
      ]
     },
     "metadata": {},
     "output_type": "display_data"
    }
   ],
   "source": [
    "# Graficando distribución de mensajes enviados de manera mensual en diagrama de caja\n",
    "plt.figure(figsize=(8,8))\n",
    "sns.boxplot(x='plan',y='msg_per_month',data=df, hue='plan', palette={'surf':'blue','ultimate':'orange'})\n",
    "\n",
    "# Configurando gráfica\n",
    "plt.title(\"Distribución de mensajes enviados por plan\")\n",
    "plt.xlabel(\"Plan\")\n",
    "plt.ylabel(\"Mensajes enviados por mes\")\n",
    "\n",
    "\n",
    "plt.show()"
   ]
  },
  {
   "cell_type": "markdown",
   "metadata": {
    "id": "390SSL480q1M"
   },
   "source": [
    "***Conclusiones Mensajes:***\n",
    "\n",
    "El comportamiento de los mensajes enviados varía conforme al plan tarifario del usuario. Se observa la tendencia de que, en el plan \"Ultimate\", los usuarios envían una mayor cantidad de mensajes que en el plan \"Surf\". El plan \"Surf\" presenta una mayor cantidad de valores atípicos (anómalos), es decir, hay una mayor cantidad de usuarios con un alto volumen de mensajes enviados, los cuales podrían ser candidatos para una invitación al plan \"Ultimate\" para beneficiarse de una mejor tarifa. Se infiere a su vez, por los valores observados, que el 75% de los usuarios del plan Surf buscan no rebasar la barrera de los 50 mensajes enviados, ya que son los incluidos en su plan tarifario. En contraste, el plan \"Ultimate\", que incluye 1,000 mensajes, no muestra un aumento considerable en los mensajes enviados a comparación del plan \"Surf\", lo que sugiere que el límite superior es raramente alcanzado."
   ]
  },
  {
   "cell_type": "markdown",
   "metadata": {
    "id": "42YSypXz0q1M"
   },
   "source": [
    "### **4.3. Comportamiento de Internet**\n",
    "Se comparará el promedio de GB usados por cada plan y por cada mes, visualizando los datos y calculando estadísticas clave."
   ]
  },
  {
   "cell_type": "code",
   "execution_count": 45,
   "metadata": {
    "id": "lSuKPtjh0q1M",
    "trusted": true
   },
   "outputs": [
    {
     "name": "stdout",
     "output_type": "stream",
     "text": [
      "plan        surf   ultimate\n",
      "month                      \n",
      "1       8.000000   7.333333\n",
      "2       9.400000  17.400000\n",
      "3      12.625000  23.857143\n",
      "4      12.085714  14.500000\n",
      "5      15.056604  17.238095\n",
      "6      15.771429  15.513514\n",
      "7      16.808989  16.638298\n",
      "8      17.252101  18.000000\n",
      "9      16.612245  16.464789\n",
      "10     17.524862  17.636364\n",
      "11     16.389908  17.401961\n",
      "12     18.089431  18.352000\n"
     ]
    },
    {
     "data": {
      "image/png": "[encoded data removed]",
      "text/plain": [
       "<Figure size 640x480 with 1 Axes>"
      ]
     },
     "metadata": {},
     "output_type": "display_data"
    }
   ],
   "source": [
    "# Compara el promedio de Gb usados que tienden consumir los usuarios de cada plan\n",
    "# Organizando información en pivot_table\n",
    "pivot_int=df.pivot_table(index=\"month\",\n",
    "                           columns=\"plan\",\n",
    "                           values=\"gb_used\",\n",
    "                           aggfunc=\"mean\"\n",
    "                          )\n",
    "print(pivot_int)\n",
    "\n",
    "# Generando gráfico con información organizada\n",
    "pivot_int.plot(kind=\"bar\",\n",
    "                 title=\"Promedio de Gb usados por plan\",\n",
    "                 xlabel=\"Mes\",\n",
    "                 ylabel=\"Promedio de Gb usados\"\n",
    ")\n",
    "plt.legend(['surf', 'ultimate'])\n",
    "plt.show()\n"
   ]
  },
  {
   "cell_type": "code",
   "execution_count": 46,
   "metadata": {
    "id": "wnh8jYXi0q1N",
    "trusted": true
   },
   "outputs": [
    {
     "data": {
      "image/png": "[encoded data removed]",
      "text/plain": [
       "<Figure size 1000x600 with 1 Axes>"
      ]
     },
     "metadata": {},
     "output_type": "display_data"
    }
   ],
   "source": [
    "# Tamaño de figura\n",
    "plt.figure(figsize=(10, 6))\n",
    "\n",
    "# Histograma de Gb usados para el plan \"surf\"\n",
    "plt.hist(df[df['plan'] == 'surf']['gb_used'], bins=30, alpha=0.5, label='Surf', color='blue')\n",
    "\n",
    "# Histograma de Gb usados para el plan \"ultimate\"\n",
    "plt.hist(df[df['plan'] == 'ultimate']['gb_used'], bins=30, alpha=0.8, label='Ultimate', color='orange')\n",
    "\n",
    "# Configuración del gráfico\n",
    "plt.title(\"Distribución de Gb usados por mes según el plan\")\n",
    "plt.xlabel(\"Gb usados por mes\")\n",
    "plt.ylabel(\"Número de usuarios\")\n",
    "plt.legend()\n",
    "plt.grid(True)\n",
    "\n",
    "# Mostrar gráfico\n",
    "plt.show()"
   ]
  },
  {
   "cell_type": "code",
   "execution_count": 47,
   "metadata": {
    "id": "5VlyJ9ry0q1N",
    "trusted": true
   },
   "outputs": [
    {
     "name": "stdout",
     "output_type": "stream",
     "text": [
      "                     mean         var\n",
      "month plan                           \n",
      "1     surf       8.000000         NaN\n",
      "      ultimate   7.333333   22.333333\n",
      "2     surf       9.400000   32.300000\n",
      "      ultimate  17.400000   48.800000\n",
      "3     surf      12.625000   51.983333\n",
      "      ultimate  23.857143  104.142857\n",
      "4     surf      12.085714   56.845378\n",
      "      ultimate  14.500000   86.266667\n",
      "5     surf      15.056604   55.285196\n",
      "      ultimate  17.238095   55.990476\n",
      "6     surf      15.771429   52.236853\n",
      "      ultimate  15.513514   71.590090\n",
      "7     surf      16.808989   63.406282\n",
      "      ultimate  16.638298   67.061980\n",
      "8     surf      17.252101   62.529127\n",
      "      ultimate  18.000000   54.035714\n",
      "9     surf      16.612245   46.088342\n",
      "      ultimate  16.464789   40.766600\n",
      "10    surf      17.524862   56.528545\n",
      "      ultimate  17.636364   52.785789\n",
      "11    surf      16.389908   49.953262\n",
      "      ultimate  17.401961   54.005145\n",
      "12    surf      18.089431   61.159316\n",
      "      ultimate  18.352000   52.520258\n"
     ]
    }
   ],
   "source": [
    "# Calcula la media y la varianza de internet consumido\n",
    "df_statistics_int=df.groupby(['month','plan'])['gb_used'].agg(['mean','var'])\n",
    "print(df_statistics_int)"
   ]
  },
  {
   "cell_type": "code",
   "execution_count": 57,
   "metadata": {
    "trusted": true
   },
   "outputs": [
    {
     "data": {
      "image/png": "[encoded data removed]",
      "text/plain": [
       "<Figure size 800x800 with 1 Axes>"
      ]
     },
     "metadata": {},
     "output_type": "display_data"
    }
   ],
   "source": [
    "# Graficando distribución de mensajes enviados de manera mensual en diagrama de caja\n",
    "plt.figure(figsize=(8,8))\n",
    "sns.boxplot(x='plan',y='gb_used',data=df, hue='plan', palette={'surf':'blue','ultimate':'orange'})\n",
    "\n",
    "# Configurando gráfica\n",
    "plt.title(\"Distribución de internet consumido por plan\")\n",
    "plt.xlabel(\"Plan\")\n",
    "plt.ylabel(\"Gb consumidos por mes\")\n",
    "\n",
    "\n",
    "plt.show()"
   ]
  },
  {
   "cell_type": "markdown",
   "metadata": {
    "id": "UN9zwuMP0q1N"
   },
   "source": [
    "***Conclusiones Internet:***\n",
    "\n",
    " Al graficar el comportamiento del consumo de internet por plan, no se observan diferencias notables a primera vista, más que en el plan \"Surf\" se presenta un valor anómalo superior al mayor valor anómalo observado en el plan \"Ultimate\". Es importante recordar que el plan \"Surf\" y \"Ultimate\" incluyen 15 y 30 GB mensuales respectivamente. Por lo que gran parte de los usuarios del plan \"Surf\" se exceden en el consumo de internet incluido en su plan, a diferencia del plan \"Ultimate\", donde solo un pequeño porcentaje sobrepasa dicho límite."
   ]
  },
  {
   "cell_type": "markdown",
   "metadata": {
    "id": "tCijq3260q1N"
   },
   "source": [
    "### **5. Análisis de Ingresos por Plan**\n",
    "\n",
    "Se analizará el ingreso total promedio por cada plan y por cada mes, y se visualizará la distribución de ingresos."
   ]
  },
  {
   "cell_type": "code",
   "execution_count": 49,
   "metadata": {
    "id": "tz-dq_V00q1O",
    "trusted": true
   },
   "outputs": [
    {
     "name": "stdout",
     "output_type": "stream",
     "text": [
      "plan        surf   ultimate\n",
      "month                      \n",
      "1      20.000000  70.000000\n",
      "2      23.668000  70.000000\n",
      "3      38.326875  78.000000\n",
      "4      40.267429  73.062500\n",
      "5      50.370943  71.000000\n",
      "6      51.754429  72.081081\n",
      "7      61.358090  72.382979\n",
      "8      64.019832  72.456140\n",
      "9      56.858299  71.380282\n",
      "10     64.982983  72.147727\n",
      "11     56.721239  72.127451\n",
      "12     68.289390  72.744000\n"
     ]
    },
    {
     "data": {
      "image/png": "[encoded data removed]",
      "text/plain": [
       "<Figure size 640x480 with 1 Axes>"
      ]
     },
     "metadata": {},
     "output_type": "display_data"
    }
   ],
   "source": [
    "# Compara el promedio de ingresos de cada plan\n",
    "# Organizando información en pivot_table\n",
    "pivot_rev=df.pivot_table(index=\"month\",\n",
    "                           columns=\"plan\",\n",
    "                           values=\"total_revenue\",\n",
    "                           aggfunc=\"mean\"\n",
    "                          )\n",
    "print(pivot_rev)\n",
    "\n",
    "# Generando gráfico con información organizada\n",
    "pivot_rev.plot(kind=\"bar\",\n",
    "                 title=\"Promedio de ingresos por plan\",\n",
    "                 xlabel=\"Mes\",\n",
    "                 ylabel=\"Promedio de ingresos\"\n",
    ")\n",
    "plt.legend(['surf', 'ultimate'])\n",
    "plt.show()\n"
   ]
  },
  {
   "cell_type": "code",
   "execution_count": 50,
   "metadata": {
    "id": "0Y1v8ZUz0q1P",
    "trusted": true
   },
   "outputs": [
    {
     "data": {
      "image/png": "[encoded data removed]",
      "text/plain": [
       "<Figure size 1000x600 with 1 Axes>"
      ]
     },
     "metadata": {},
     "output_type": "display_data"
    }
   ],
   "source": [
    "# Tamaño de figura\n",
    "plt.figure(figsize=(10, 6))\n",
    "\n",
    "# Histograma de Gb usados para el plan \"surf\"\n",
    "plt.hist(df[df['plan'] == 'surf']['total_revenue'], bins=30, alpha=0.5, label='Surf', color='blue')\n",
    "\n",
    "# Histograma de Gb usados para el plan \"ultimate\"\n",
    "plt.hist(df[df['plan'] == 'ultimate']['total_revenue'], bins=30, alpha=0.8, label='Ultimate', color='orange')\n",
    "\n",
    "# Configuración del gráfico\n",
    "plt.title(\"Distribución de ingresos por mes según el plan\")\n",
    "plt.xlabel(\"Ingresos por mes\")\n",
    "plt.ylabel(\"Número de usuarios\")\n",
    "plt.legend()\n",
    "plt.grid(True)\n",
    "\n",
    "# Mostrar gráfico\n",
    "plt.show()"
   ]
  },
  {
   "cell_type": "code",
   "execution_count": 51,
   "metadata": {
    "id": "bYmwxyVh0q1P",
    "trusted": true
   },
   "outputs": [
    {
     "name": "stdout",
     "output_type": "stream",
     "text": [
      "                     mean          var\n",
      "month plan                            \n",
      "1     surf      20.000000          NaN\n",
      "      ultimate  70.000000     0.000000\n",
      "2     surf      23.668000    25.571120\n",
      "      ultimate  70.000000     0.000000\n",
      "3     surf      38.326875   539.762356\n",
      "      ultimate  78.000000   235.666667\n",
      "4     surf      40.267429  1250.889249\n",
      "      ultimate  73.062500   150.062500\n",
      "5     surf      50.370943  2291.145093\n",
      "      ultimate  71.000000    21.000000\n",
      "6     surf      51.754429  2414.229045\n",
      "      ultimate  72.081081    94.909910\n",
      "7     surf      61.358090  3244.916613\n",
      "      ultimate  72.382979   130.545791\n",
      "8     surf      64.019832  3316.950283\n",
      "      ultimate  72.456140   126.859649\n",
      "9     surf      56.858299  2019.515020\n",
      "      ultimate  71.380282    52.667606\n",
      "10    surf      64.982983  3033.353233\n",
      "      ultimate  72.147727   178.380225\n",
      "11    surf      56.721239  2196.379701\n",
      "      ultimate  72.127451   117.201417\n",
      "12    surf      68.289390  3959.152456\n",
      "      ultimate  72.744000   147.708129\n"
     ]
    }
   ],
   "source": [
    "# Calcula la media y la varianza de ingresos por plan\n",
    "df_statistics_rev=df.groupby(['month','plan'])['total_revenue'].agg(['mean','var'])\n",
    "print(df_statistics_rev)"
   ]
  },
  {
   "cell_type": "code",
   "execution_count": 58,
   "metadata": {
    "trusted": true
   },
   "outputs": [
    {
     "data": {
      "image/png": "[encoded data removed]",
      "text/plain": [
       "<Figure size 800x800 with 1 Axes>"
      ]
     },
     "metadata": {},
     "output_type": "display_data"
    }
   ],
   "source": [
    "# Graficando distribución de mensajes enviados de manera mensual en diagrama de caja\n",
    "plt.figure(figsize=(8,8))\n",
    "sns.boxplot(x='plan',y='total_revenue',data=df, hue='plan', palette={'surf':'blue','ultimate':'orange'})\n",
    "\n",
    "# Configurando gráfica\n",
    "plt.title(\"Distribución de ingresos por plan\")\n",
    "plt.xlabel(\"Plan\")\n",
    "plt.ylabel(\"Ingresos por mes\")\n",
    "\n",
    "\n",
    "plt.show()"
   ]
  },
  {
   "cell_type": "markdown",
   "metadata": {
    "id": "KAFidcXZ0q1P"
   },
   "source": [
    "***Conclusiones Ingreso:***\n",
    "\n",
    "Al observar el gráfico de caja sobre los ingresos por plan, se observa que una gran proporción de los usuarios del plan \"Ultimate\" pagan 70 dólares mensuales, con la presencia de valores atípicos que representan usuarios con tarifas por encima de lo establecido debido al consumo extra. Mientras que en el plan \"Surf\", es común que los usuarios rebasen el límite de lo que incluye su plan tarifario, provocando costos adicionales, y el 75% de los usuarios paga por debajo de los 70 dólares al mes. Se observa también una mayor frecuencia y costo de usuarios con tarifas que exceden los 170 dólares en el plan \"Surf\". Esto indica que, a pesar de su menor costo base, el plan Surf puede generar ingresos adicionales significativos debido a los cargos por uso excedente."
   ]
  },
  {
   "cell_type": "markdown",
   "metadata": {
    "id": "IQwa_hsh0q1Q"
   },
   "source": [
    "### **6. Prueba de Hipótesis Estadística**\n",
    "\n",
    "Se realizarán pruebas de hipótesis para determinar si existen diferencias significativas en los ingresos entre los planes tarifarios y entre los usuarios de diferentes regiones.\n",
    "\n",
    "#### **6.1. Prueba de Hipótesis: Ingresos de Planes Surf y Ultimate**\n",
    "- Hipótesis Nula (`H_0`): Los ingresos promedio de los planes Surf y Ultimate son iguales.\n",
    "- Hipótesis Alternativa (`H_1`): Los ingresos promedio de los planes Surf y Ultimate son distintos.\n",
    "\n",
    "Se utilizará una `prueba t de Student` para dos muestras independientes. Primero, se evaluará la igualdad de varianzas con la `prueba de Levene`. "
   ]
  },
  {
   "cell_type": "code",
   "execution_count": 53,
   "metadata": {
    "id": "nFoPNlPq0q1R",
    "trusted": true
   },
   "outputs": [
    {
     "name": "stdout",
     "output_type": "stream",
     "text": [
      "Valor de p:  1.0606340498204233e-97\n",
      "Rechazamos la hipótesis nula, es decir, las varianzas no son iguales\n"
     ]
    }
   ],
   "source": [
    "# Agrupando ingresos por plan\n",
    "df_rev_ult=df[df['plan']=='ultimate']['total_revenue']\n",
    "df_rev_surf=df[df['plan']=='surf']['total_revenue']\n",
    " \n",
    "# Definiendo alpha\n",
    "alpha= 0.05\n",
    "\n",
    "# Determinando si las varianzas son iguales o distintas a través de st.levene()\n",
    "w_stats , p_value = levene(df_rev_ult,df_rev_surf, center='mean')\n",
    "print(\"Valor de p: \", p_value)\n",
    "if p_value > alpha:\n",
    "    print(\"No rechazamos la hipótesis nula, es decir, las varianzas son iguales\")\n",
    "else:\n",
    "    print(\"Rechazamos la hipótesis nula, es decir, las varianzas no son iguales\")"
   ]
  },
  {
   "cell_type": "code",
   "execution_count": 54,
   "metadata": {
    "trusted": true
   },
   "outputs": [
    {
     "name": "stdout",
     "output_type": "stream",
     "text": [
      "Ho= Los ingresos por plan son iguales \n",
      "H1= Los ingresos por plan son distintos\n",
      "Valor p: 8.316536255298574e-14\n",
      "Rechazamos la hipótesis nula, es decir, los ingresos por plan son distintos\n"
     ]
    }
   ],
   "source": [
    "# Realizamos planteamiento de prueba para ingresos de planes tarifarios Ultimate y Surf\n",
    "print(\"Ho= Los ingresos por plan son iguales \\nH1= Los ingresos por plan son distintos\")\n",
    "\n",
    "result_rev=st.ttest_ind(df_rev_ult, df_rev_surf, equal_var=False)\n",
    "\n",
    "# Valor p obtenido\n",
    "print(\"Valor p:\", result_rev.pvalue)\n",
    "\n",
    "# Resultado\n",
    "if result_rev.pvalue > alpha:\n",
    "    print(\"No rechazamos la hipótesis nula, es decir, los ingresos por plan son iguales\")\n",
    "else:\n",
    "    print(\"Rechazamos la hipótesis nula, es decir, los ingresos por plan son distintos\")\n"
   ]
  },
  {
   "cell_type": "markdown",
   "metadata": {
    "id": "tCcAruM60q1R"
   },
   "source": [
    "#### **6.2. Prueba de Hipótesis: Ingresos por Región (NY-NJ vs. Otras Regiones)**\n",
    "\n",
    "- Hipótesis Nula (`H_0`): El ingreso promedio de los usuarios del área NY-NJ es igual al de los usuarios de otras regiones.\n",
    "- Hipótesis Alternativa (`H_1`): El ingreso promedio de los usuarios del área NY-NJ es diferente al de los usuarios de otras regiones.\n",
    "\n",
    "Se utilizará una `prueba t de Student` para dos muestras independientes, asumiendo varianzas desiguales."
   ]
  },
  {
   "cell_type": "code",
   "execution_count": 55,
   "metadata": {
    "id": "Cqcj7wrZ0q1S",
    "trusted": true
   },
   "outputs": [
    {
     "name": "stdout",
     "output_type": "stream",
     "text": [
      "Ho= Los ingresos entre las región NY-NJ y otras regiones son iguales \n",
      "H1= Los ingresos de la región de NY-NJ y otras regiones son distintos\n",
      "Valor p: 0.004028282730393426\n",
      "Rechazamos la hipótesis nula, es decir, los ingresos entre las regiones NY-NJ y otras regiones son distintos\n"
     ]
    }
   ],
   "source": [
    "# Prueba las hipótesis\n",
    "# Combinando df con users para extraer la ciudad\n",
    "df_merge_city=df.merge(users[['user_id','city']], on=\"user_id\", how=\"left\") \n",
    "df_region= df_merge_city[df_merge_city['city']=='New York-Newark-Jersey City, NY-NJ-PA MSA']['total_revenue']\n",
    "df_other_region=df_merge_city[df_merge_city['city']!='New York-Newark-Jersey City, NY-NJ-PA MSA']['total_revenue']\n",
    "\n",
    "# Realizamos planteamiento de prueba para ingresos del área de NY-NJ en comparación con otras regiones\n",
    "print(\"Ho= Los ingresos entre las región NY-NJ y otras regiones son iguales \\nH1= Los ingresos de la región de NY-NJ y otras regiones son distintos\")\n",
    "\n",
    "result_reg_rev=st.ttest_ind(df_region, df_other_region, equal_var=False)\n",
    "\n",
    "# Valor p obtenido\n",
    "print(\"Valor p:\", result_reg_rev.pvalue)\n",
    "\n",
    "# Resultado\n",
    "if result_reg_rev.pvalue > alpha:\n",
    "    print(\"No rechazamos la hipótesis nula, es decir, los ingresos entre las regiones NY-NJ y otras regiones son iguales\")\n",
    "else:\n",
    "    print(\"Rechazamos la hipótesis nula, es decir, los ingresos entre las regiones NY-NJ y otras regiones son distintos\")\n"
   ]
  },
  {
   "cell_type": "markdown",
   "metadata": {
    "id": "bbTR8UQO0q1T"
   },
   "source": [
    "### **7. Conclusión General**\n",
    "\n",
    "En esta sección final, se enumerarán las conclusiones importantes del análisis, abarcando todas las decisiones clave y los hallazgos que determinaron la forma elegida para procesar y analizar los datos.\n",
    "\n",
    "**Conclusiones:**\n",
    "\n",
    "1. **Importancia de la Preparación de Datos:** Es fundamental relacionar correctamente las diferentes tablas y DataFrames, limpiar valores ausentes, colocar el formato correcto y filtrar los datos conforme a los intereses del análisis. Un preprocesamiento meticuloso garantiza la fiabilidad de los insights.\n",
    "\n",
    "2. **Distribuciones de Consumo e Ingresos por Plan:**\n",
    "\n",
    "    - El plan tarifario \"Surf\", al ser el más barato, es el más atractivo para un gran porcentaje de usuarios. Sin embargo, al ser más limitado en sus prestaciones (minutos, mensajes, internet), es más propenso a generar cargos extra por excedentes. Esto provoca **márgenes de ganancia significativos** para la compañía, ya que muchos usuarios superan los límites.\n",
    "    - Por el contrario, el plan \"Ultimate\", al ser más generoso en sus prestaciones a un coste mensual mayor, **desincentiva al consumidor a rebasar los límites**, lo que resulta en una menor frecuencia de costes extra. Esto sugiere que el plan Ultimate genera ingresos más predecibles y estables, pero con menor potencial de ingresos adicionales por excedentes en comparación con Surf.\n",
    "\n",
    "3. **Resultados de las Pruebas de Hipótesis:**\n",
    "\n",
    "    - **Comparación de Ingresos por Plan (Surf vs. Ultimate):** La prueba de hipótesis reveló que los planes tarifarios \"Surf\" y \"Ultimate\" **presentan un comportamiento distinto en cuanto a los ingresos que generan.** Esto significa que uno de los planes es, en promedio, más rentable que el otro, y es crucial para Megaline comprender cuál. (Se espera que el plan Surf sea más rentable debido a los excedentes, aunque esto se confirmaría con el valor p específico).\n",
    "    - **Comparación de Ingresos por Región (NY-NJ vs. Otras Regiones):**  La prueba de hipótesis sobre los ingresos entre la región de Nueva York-Nueva Jersey (NY-NJ) y otras regiones mostró un **valor p de 0.004**, lo que es menor que el nivel de significancia (0.05). Por lo tanto, **rechazamos la hipótesis nula**, concluyendo que los **ingresos promedio de los usuarios del área NY-NJ son significativamente distintos a los de los usuarios de otras regiones.**\n"
   ]
  }
 ],
 "metadata": {
  "ExecuteTimeLog": [
   {
    "duration": 828,
    "start_time": "2021-11-16T09:21:11.304Z"
   },
   {
    "duration": 893,
    "start_time": "2021-11-16T09:21:17.728Z"
   },
   {
    "duration": 1150,
    "start_time": "2021-11-16T09:21:29.568Z"
   },
   {
    "duration": 3,
    "start_time": "2021-11-16T09:24:14.495Z"
   },
   {
    "duration": 120,
    "start_time": "2021-11-16T09:24:46.630Z"
   },
   {
    "duration": 3,
    "start_time": "2021-11-16T09:28:27.882Z"
   },
   {
    "duration": 4,
    "start_time": "2021-11-16T09:29:54.281Z"
   },
   {
    "duration": 3,
    "start_time": "2021-11-16T09:30:45.936Z"
   },
   {
    "duration": 4,
    "start_time": "2021-11-16T09:31:06.300Z"
   },
   {
    "duration": 113,
    "start_time": "2021-11-16T09:31:37.208Z"
   },
   {
    "duration": 143,
    "start_time": "2021-11-16T09:31:48.656Z"
   },
   {
    "duration": 98,
    "start_time": "2021-11-16T09:31:55.678Z"
   },
   {
    "duration": 3,
    "start_time": "2021-11-16T09:32:08.535Z"
   },
   {
    "duration": 111,
    "start_time": "2021-11-16T09:32:10.120Z"
   },
   {
    "duration": 3,
    "start_time": "2021-11-16T09:32:15.732Z"
   },
   {
    "duration": 4,
    "start_time": "2021-11-16T09:32:29.423Z"
   },
   {
    "duration": 3,
    "start_time": "2021-11-16T10:03:03.074Z"
   },
   {
    "duration": 3,
    "start_time": "2021-11-16T10:10:01.288Z"
   },
   {
    "duration": 3,
    "start_time": "2021-11-16T10:10:46.923Z"
   },
   {
    "duration": 121,
    "start_time": "2021-11-16T10:37:46.494Z"
   },
   {
    "duration": 125,
    "start_time": "2021-11-16T10:38:20.632Z"
   },
   {
    "duration": 112,
    "start_time": "2021-11-16T10:46:53.001Z"
   },
   {
    "duration": 110,
    "start_time": "2021-11-16T10:48:25.775Z"
   },
   {
    "duration": 3,
    "start_time": "2021-11-16T10:50:18.720Z"
   },
   {
    "duration": 4,
    "start_time": "2021-11-16T10:50:37.649Z"
   },
   {
    "duration": 2,
    "start_time": "2021-11-16T10:50:51.884Z"
   },
   {
    "duration": 3,
    "start_time": "2021-11-16T10:51:56.237Z"
   },
   {
    "duration": 101,
    "start_time": "2021-11-16T10:53:13.791Z"
   },
   {
    "duration": 3,
    "start_time": "2021-11-16T10:55:59.186Z"
   },
   {
    "duration": 3,
    "start_time": "2021-11-16T10:56:10.751Z"
   },
   {
    "duration": 3,
    "start_time": "2021-11-16T10:56:49.038Z"
   },
   {
    "duration": 3,
    "start_time": "2021-11-16T10:56:49.174Z"
   },
   {
    "duration": 4,
    "start_time": "2021-11-16T10:56:49.414Z"
   },
   {
    "duration": 3,
    "start_time": "2021-11-16T10:56:49.680Z"
   },
   {
    "duration": 3,
    "start_time": "2021-11-16T10:56:50.370Z"
   },
   {
    "duration": 114,
    "start_time": "2021-11-16T10:59:34.518Z"
   },
   {
    "duration": 3,
    "start_time": "2021-11-16T11:01:41.201Z"
   },
   {
    "duration": 116,
    "start_time": "2021-11-16T11:01:48.754Z"
   },
   {
    "duration": 3,
    "start_time": "2021-11-16T11:02:16.685Z"
   },
   {
    "duration": 3,
    "start_time": "2021-11-16T11:02:19.479Z"
   },
   {
    "duration": 3,
    "start_time": "2021-11-16T11:02:47.067Z"
   },
   {
    "duration": 3,
    "start_time": "2021-11-16T11:02:49.353Z"
   },
   {
    "duration": 3,
    "start_time": "2021-11-16T11:03:07.835Z"
   },
   {
    "duration": 3,
    "start_time": "2021-11-16T11:03:07.953Z"
   },
   {
    "duration": 112,
    "start_time": "2021-11-16T11:07:52.072Z"
   },
   {
    "duration": 187,
    "start_time": "2021-11-16T11:09:23.468Z"
   },
   {
    "duration": 4,
    "start_time": "2021-11-16T11:10:01.455Z"
   },
   {
    "duration": 3,
    "start_time": "2021-11-16T11:10:05.069Z"
   },
   {
    "duration": 4,
    "start_time": "2021-11-16T11:10:13.376Z"
   },
   {
    "duration": 3,
    "start_time": "2021-11-16T11:10:14.434Z"
   },
   {
    "duration": 3,
    "start_time": "2021-11-16T11:10:22.853Z"
   },
   {
    "duration": 4,
    "start_time": "2021-11-16T11:27:29.279Z"
   },
   {
    "duration": 4,
    "start_time": "2021-11-16T11:29:08.919Z"
   },
   {
    "duration": 118,
    "start_time": "2021-11-16T11:29:46.703Z"
   },
   {
    "duration": 437,
    "start_time": "2021-11-16T11:36:02.181Z"
   },
   {
    "duration": 157,
    "start_time": "2021-11-16T11:36:14.388Z"
   },
   {
    "duration": 207,
    "start_time": "2021-11-16T11:47:15.898Z"
   },
   {
    "duration": 3,
    "start_time": "2021-11-16T11:53:52.092Z"
   },
   {
    "duration": 3,
    "start_time": "2021-11-16T11:53:52.236Z"
   },
   {
    "duration": 3,
    "start_time": "2021-11-16T11:59:12.005Z"
   },
   {
    "duration": 112,
    "start_time": "2021-11-16T12:00:33.446Z"
   },
   {
    "duration": 3,
    "start_time": "2021-11-16T12:02:14.453Z"
   },
   {
    "duration": 3,
    "start_time": "2021-11-16T12:02:39.512Z"
   },
   {
    "duration": 106,
    "start_time": "2021-11-16T12:03:03.460Z"
   },
   {
    "duration": 3,
    "start_time": "2021-11-17T20:37:21.139Z"
   },
   {
    "duration": 3,
    "start_time": "2021-11-17T20:37:22.229Z"
   },
   {
    "duration": 3,
    "start_time": "2021-11-17T20:38:38.806Z"
   },
   {
    "duration": 3,
    "start_time": "2021-11-17T20:38:41.958Z"
   },
   {
    "duration": 3,
    "start_time": "2021-11-17T20:43:46.551Z"
   },
   {
    "duration": 4,
    "start_time": "2021-11-17T20:58:21.835Z"
   },
   {
    "duration": 3,
    "start_time": "2021-11-17T20:59:21.872Z"
   },
   {
    "duration": 4,
    "start_time": "2021-11-17T20:59:45.352Z"
   },
   {
    "duration": 4,
    "start_time": "2021-11-17T20:59:49.646Z"
   },
   {
    "duration": 159,
    "start_time": "2021-11-17T21:02:26.949Z"
   },
   {
    "duration": 3,
    "start_time": "2021-11-17T21:03:53.461Z"
   },
   {
    "duration": 3,
    "start_time": "2021-11-17T21:03:53.694Z"
   },
   {
    "duration": 3,
    "start_time": "2021-11-17T21:05:28.145Z"
   },
   {
    "duration": 116,
    "start_time": "2021-11-17T21:05:57.787Z"
   },
   {
    "duration": 3,
    "start_time": "2021-11-17T21:06:37.993Z"
   },
   {
    "duration": 3,
    "start_time": "2021-11-17T21:06:38.261Z"
   },
   {
    "duration": 3,
    "start_time": "2021-11-17T21:11:54.358Z"
   },
   {
    "duration": 3,
    "start_time": "2021-11-17T21:12:43.846Z"
   },
   {
    "duration": 4,
    "start_time": "2021-11-17T21:13:08.773Z"
   },
   {
    "duration": 3,
    "start_time": "2021-11-17T21:14:44.441Z"
   },
   {
    "duration": 3,
    "start_time": "2021-11-17T21:15:42.059Z"
   },
   {
    "duration": 4,
    "start_time": "2021-11-17T21:15:51.995Z"
   },
   {
    "duration": 3,
    "start_time": "2021-11-17T21:15:53.923Z"
   },
   {
    "duration": 3,
    "start_time": "2021-11-17T21:15:55.282Z"
   },
   {
    "duration": 3,
    "start_time": "2021-11-17T21:16:28.492Z"
   },
   {
    "duration": 3,
    "start_time": "2021-11-17T21:16:32.603Z"
   },
   {
    "duration": 3,
    "start_time": "2021-11-17T21:17:06.941Z"
   },
   {
    "duration": 98,
    "start_time": "2021-11-17T21:18:05.733Z"
   },
   {
    "duration": 4,
    "start_time": "2021-11-17T21:21:35.255Z"
   },
   {
    "duration": 3,
    "start_time": "2021-11-17T21:21:37.804Z"
   },
   {
    "duration": 4,
    "start_time": "2021-11-17T21:23:06.071Z"
   },
   {
    "duration": 3,
    "start_time": "2021-11-17T21:23:24.799Z"
   },
   {
    "duration": 3,
    "start_time": "2021-11-17T21:23:32.591Z"
   },
   {
    "duration": 98,
    "start_time": "2021-11-17T21:28:31.559Z"
   },
   {
    "duration": 3,
    "start_time": "2021-11-17T21:28:45.448Z"
   },
   {
    "duration": 3,
    "start_time": "2021-11-17T21:29:17.303Z"
   },
   {
    "duration": 3,
    "start_time": "2021-11-17T21:29:29.617Z"
   },
   {
    "duration": 3,
    "start_time": "2021-11-17T21:29:32.681Z"
   },
   {
    "duration": 3,
    "start_time": "2021-11-17T21:36:11.474Z"
   },
   {
    "duration": 3,
    "start_time": "2021-11-17T21:36:14.791Z"
   },
   {
    "duration": 3,
    "start_time": "2021-11-17T21:36:53.943Z"
   },
   {
    "duration": 3,
    "start_time": "2021-11-17T21:36:56.165Z"
   },
   {
    "duration": 4,
    "start_time": "2021-11-17T21:37:16.590Z"
   },
   {
    "duration": 3,
    "start_time": "2021-11-17T21:37:22.702Z"
   },
   {
    "duration": 4,
    "start_time": "2021-11-17T21:38:03.479Z"
   },
   {
    "duration": 3,
    "start_time": "2021-11-17T21:38:08.601Z"
   },
   {
    "duration": 3,
    "start_time": "2021-11-17T21:38:12.928Z"
   },
   {
    "duration": 3,
    "start_time": "2021-11-17T21:38:48.896Z"
   },
   {
    "duration": 2,
    "start_time": "2021-11-17T21:38:49.171Z"
   },
   {
    "duration": 4,
    "start_time": "2021-11-17T21:39:57.889Z"
   },
   {
    "duration": 3,
    "start_time": "2021-11-17T21:39:58.057Z"
   },
   {
    "duration": 3,
    "start_time": "2021-11-17T21:41:20.108Z"
   },
   {
    "duration": 3,
    "start_time": "2021-11-17T21:41:20.629Z"
   },
   {
    "duration": 3,
    "start_time": "2021-11-17T21:42:49.136Z"
   },
   {
    "duration": 3,
    "start_time": "2021-11-17T21:43:15.137Z"
   },
   {
    "duration": 4,
    "start_time": "2021-11-17T21:43:16.766Z"
   },
   {
    "duration": 4,
    "start_time": "2021-11-17T21:43:31.711Z"
   },
   {
    "duration": 3,
    "start_time": "2021-11-17T21:43:36.312Z"
   },
   {
    "duration": 4,
    "start_time": "2021-11-17T21:45:08.825Z"
   },
   {
    "duration": 4,
    "start_time": "2021-11-17T21:45:10.119Z"
   },
   {
    "duration": 4,
    "start_time": "2021-11-17T21:45:13.748Z"
   },
   {
    "duration": 3,
    "start_time": "2021-11-17T21:45:22.219Z"
   },
   {
    "duration": 3,
    "start_time": "2021-11-17T21:45:33.412Z"
   },
   {
    "duration": 2,
    "start_time": "2021-11-17T21:46:01.885Z"
   },
   {
    "duration": 3,
    "start_time": "2021-11-17T21:46:03.628Z"
   },
   {
    "duration": 107,
    "start_time": "2021-11-17T21:47:32.512Z"
   },
   {
    "duration": 103,
    "start_time": "2021-11-17T21:50:36.243Z"
   },
   {
    "duration": 3,
    "start_time": "2021-11-18T06:28:31.440Z"
   },
   {
    "duration": 3,
    "start_time": "2021-11-18T06:29:00.168Z"
   },
   {
    "duration": 3,
    "start_time": "2021-11-18T06:31:27.008Z"
   },
   {
    "duration": 2,
    "start_time": "2021-11-18T06:35:34.288Z"
   },
   {
    "duration": 2,
    "start_time": "2021-11-18T06:38:04.527Z"
   },
   {
    "duration": 8,
    "start_time": "2025-03-10T14:05:38.740Z"
   },
   {
    "duration": 604,
    "start_time": "2025-03-10T14:05:51.198Z"
   },
   {
    "duration": 5,
    "start_time": "2025-03-10T14:05:53.928Z"
   },
   {
    "duration": 3,
    "start_time": "2025-03-10T14:05:57.762Z"
   },
   {
    "duration": 3,
    "start_time": "2025-03-10T14:06:14.078Z"
   },
   {
    "duration": 551,
    "start_time": "2025-03-10T14:06:21.355Z"
   },
   {
    "duration": 3,
    "start_time": "2025-03-10T14:11:31.381Z"
   },
   {
    "duration": 65,
    "start_time": "2025-03-10T14:13:37.652Z"
   },
   {
    "duration": 61,
    "start_time": "2025-03-10T14:14:48.480Z"
   },
   {
    "duration": 60,
    "start_time": "2025-03-10T14:14:57.037Z"
   },
   {
    "duration": 11,
    "start_time": "2025-03-10T14:15:39.797Z"
   },
   {
    "duration": 224,
    "start_time": "2025-03-10T14:21:25.734Z"
   },
   {
    "duration": 184,
    "start_time": "2025-03-10T14:21:31.841Z"
   },
   {
    "duration": 9,
    "start_time": "2025-03-10T14:25:27.625Z"
   },
   {
    "duration": 27,
    "start_time": "2025-03-10T14:25:55.342Z"
   },
   {
    "duration": 8,
    "start_time": "2025-03-10T14:27:09.253Z"
   },
   {
    "duration": 158,
    "start_time": "2025-03-11T06:14:11.397Z"
   },
   {
    "duration": 12,
    "start_time": "2025-03-11T06:14:14.972Z"
   },
   {
    "duration": 14,
    "start_time": "2025-03-11T06:14:20.380Z"
   },
   {
    "duration": 673,
    "start_time": "2025-03-11T06:14:25.883Z"
   },
   {
    "duration": 231,
    "start_time": "2025-03-11T06:14:28.559Z"
   },
   {
    "duration": 10,
    "start_time": "2025-03-11T06:14:31.060Z"
   },
   {
    "duration": 30,
    "start_time": "2025-03-11T06:14:33.972Z"
   },
   {
    "duration": 14,
    "start_time": "2025-03-11T06:19:22.323Z"
   },
   {
    "duration": 17,
    "start_time": "2025-03-11T06:19:45.452Z"
   },
   {
    "duration": 18,
    "start_time": "2025-03-11T06:20:06.247Z"
   },
   {
    "duration": 71,
    "start_time": "2025-03-11T06:20:55.440Z"
   },
   {
    "duration": 20,
    "start_time": "2025-03-11T06:22:44.999Z"
   },
   {
    "duration": 9,
    "start_time": "2025-03-11T06:22:54.005Z"
   },
   {
    "duration": 30,
    "start_time": "2025-03-11T06:23:42.041Z"
   },
   {
    "duration": 29,
    "start_time": "2025-03-11T06:26:47.990Z"
   },
   {
    "duration": 21,
    "start_time": "2025-03-11T06:28:59.444Z"
   },
   {
    "duration": 27,
    "start_time": "2025-03-11T06:30:12.688Z"
   },
   {
    "duration": 159,
    "start_time": "2025-03-12T12:46:07.340Z"
   },
   {
    "duration": 608,
    "start_time": "2025-03-12T12:46:17.985Z"
   },
   {
    "duration": 222,
    "start_time": "2025-03-12T12:46:18.596Z"
   },
   {
    "duration": 11,
    "start_time": "2025-03-12T12:46:18.820Z"
   },
   {
    "duration": 32,
    "start_time": "2025-03-12T12:46:18.833Z"
   },
   {
    "duration": 37,
    "start_time": "2025-03-12T12:46:18.866Z"
   },
   {
    "duration": 17,
    "start_time": "2025-03-12T12:46:18.905Z"
   },
   {
    "duration": 23,
    "start_time": "2025-03-12T12:46:18.923Z"
   },
   {
    "duration": 46,
    "start_time": "2025-03-12T12:46:18.948Z"
   },
   {
    "duration": 7,
    "start_time": "2025-03-12T12:46:18.995Z"
   },
   {
    "duration": 2,
    "start_time": "2025-03-12T12:46:19.006Z"
   },
   {
    "duration": 3,
    "start_time": "2025-03-12T12:46:19.009Z"
   },
   {
    "duration": 3,
    "start_time": "2025-03-12T12:46:19.013Z"
   },
   {
    "duration": 3,
    "start_time": "2025-03-12T12:46:19.018Z"
   },
   {
    "duration": 3,
    "start_time": "2025-03-12T12:46:19.023Z"
   },
   {
    "duration": 3,
    "start_time": "2025-03-12T12:46:19.028Z"
   },
   {
    "duration": 4,
    "start_time": "2025-03-12T12:46:19.033Z"
   },
   {
    "duration": 3,
    "start_time": "2025-03-12T12:46:19.039Z"
   },
   {
    "duration": 2,
    "start_time": "2025-03-12T12:46:19.044Z"
   },
   {
    "duration": 2,
    "start_time": "2025-03-12T12:46:19.086Z"
   },
   {
    "duration": 3,
    "start_time": "2025-03-12T12:46:19.090Z"
   },
   {
    "duration": 3,
    "start_time": "2025-03-12T12:46:19.095Z"
   },
   {
    "duration": 4,
    "start_time": "2025-03-12T12:46:19.099Z"
   },
   {
    "duration": 2,
    "start_time": "2025-03-12T12:46:19.106Z"
   },
   {
    "duration": 4,
    "start_time": "2025-03-12T12:46:19.109Z"
   },
   {
    "duration": 4,
    "start_time": "2025-03-12T12:46:19.114Z"
   },
   {
    "duration": 4,
    "start_time": "2025-03-12T12:46:19.119Z"
   },
   {
    "duration": 3,
    "start_time": "2025-03-12T12:46:19.124Z"
   },
   {
    "duration": 2,
    "start_time": "2025-03-12T12:46:19.131Z"
   },
   {
    "duration": 2,
    "start_time": "2025-03-12T12:46:19.135Z"
   },
   {
    "duration": 3,
    "start_time": "2025-03-12T12:46:19.139Z"
   },
   {
    "duration": 43,
    "start_time": "2025-03-12T12:46:19.143Z"
   },
   {
    "duration": 2,
    "start_time": "2025-03-12T12:46:19.188Z"
   },
   {
    "duration": 4,
    "start_time": "2025-03-12T12:46:19.191Z"
   },
   {
    "duration": 9,
    "start_time": "2025-03-12T12:48:05.959Z"
   },
   {
    "duration": 9,
    "start_time": "2025-03-12T12:48:13.362Z"
   },
   {
    "duration": 11,
    "start_time": "2025-03-12T12:48:31.231Z"
   },
   {
    "duration": 10,
    "start_time": "2025-03-12T12:48:43.935Z"
   },
   {
    "duration": 11,
    "start_time": "2025-03-12T12:49:00.785Z"
   },
   {
    "duration": 35,
    "start_time": "2025-03-12T12:49:32.051Z"
   },
   {
    "duration": 29,
    "start_time": "2025-03-12T12:49:52.799Z"
   },
   {
    "duration": 21,
    "start_time": "2025-03-12T12:50:07.314Z"
   },
   {
    "duration": 21,
    "start_time": "2025-03-12T12:50:15.265Z"
   },
   {
    "duration": 9,
    "start_time": "2025-03-12T12:55:49.190Z"
   },
   {
    "duration": 15,
    "start_time": "2025-03-12T12:56:05.276Z"
   },
   {
    "duration": 11,
    "start_time": "2025-03-12T12:57:07.066Z"
   },
   {
    "duration": 8,
    "start_time": "2025-03-12T12:57:19.437Z"
   },
   {
    "duration": 22,
    "start_time": "2025-03-12T13:12:26.648Z"
   },
   {
    "duration": 22,
    "start_time": "2025-03-12T13:12:36.288Z"
   },
   {
    "duration": 22,
    "start_time": "2025-03-12T13:12:49.508Z"
   },
   {
    "duration": 22,
    "start_time": "2025-03-12T13:13:13.570Z"
   },
   {
    "duration": 26,
    "start_time": "2025-03-12T13:13:27.689Z"
   },
   {
    "duration": 27,
    "start_time": "2025-03-12T13:13:44.129Z"
   },
   {
    "duration": 12,
    "start_time": "2025-03-12T13:14:44.445Z"
   },
   {
    "duration": 12,
    "start_time": "2025-03-12T13:15:08.012Z"
   },
   {
    "duration": 21,
    "start_time": "2025-03-12T13:15:16.716Z"
   },
   {
    "duration": 14,
    "start_time": "2025-03-12T13:15:26.483Z"
   },
   {
    "duration": 16,
    "start_time": "2025-03-12T13:20:47.415Z"
   },
   {
    "duration": 11,
    "start_time": "2025-03-12T13:20:55.211Z"
   },
   {
    "duration": 26,
    "start_time": "2025-03-12T13:20:58.686Z"
   },
   {
    "duration": 25,
    "start_time": "2025-03-12T13:22:21.952Z"
   },
   {
    "duration": 22,
    "start_time": "2025-03-12T13:22:33.296Z"
   },
   {
    "duration": 19,
    "start_time": "2025-03-12T13:22:42.252Z"
   },
   {
    "duration": 11,
    "start_time": "2025-03-12T13:22:55.107Z"
   },
   {
    "duration": 12,
    "start_time": "2025-03-12T13:24:20.771Z"
   },
   {
    "duration": 25,
    "start_time": "2025-03-12T13:24:32.596Z"
   },
   {
    "duration": 18,
    "start_time": "2025-03-12T13:24:40.455Z"
   },
   {
    "duration": 11,
    "start_time": "2025-03-12T13:24:46.974Z"
   },
   {
    "duration": 11,
    "start_time": "2025-03-12T13:25:15.399Z"
   },
   {
    "duration": 24,
    "start_time": "2025-03-12T13:25:33.753Z"
   },
   {
    "duration": 27,
    "start_time": "2025-03-12T13:25:39.017Z"
   },
   {
    "duration": 22,
    "start_time": "2025-03-12T13:25:56.173Z"
   },
   {
    "duration": 19,
    "start_time": "2025-03-12T13:26:09.024Z"
   },
   {
    "duration": 11,
    "start_time": "2025-03-12T13:26:20.981Z"
   },
   {
    "duration": 25,
    "start_time": "2025-03-12T13:26:33.696Z"
   },
   {
    "duration": 19,
    "start_time": "2025-03-12T13:26:51.267Z"
   },
   {
    "duration": 11,
    "start_time": "2025-03-12T13:27:49.763Z"
   },
   {
    "duration": 457,
    "start_time": "2025-03-12T13:28:04.603Z"
   },
   {
    "duration": 37,
    "start_time": "2025-03-12T13:30:30.497Z"
   },
   {
    "duration": 51,
    "start_time": "2025-03-12T13:30:43.182Z"
   },
   {
    "duration": 16,
    "start_time": "2025-03-12T13:30:49.487Z"
   },
   {
    "duration": 20,
    "start_time": "2025-03-12T13:31:25.596Z"
   },
   {
    "duration": 21,
    "start_time": "2025-03-12T13:31:36.221Z"
   },
   {
    "duration": 6,
    "start_time": "2025-03-12T13:43:54.703Z"
   },
   {
    "duration": 4,
    "start_time": "2025-03-12T13:44:00.689Z"
   },
   {
    "duration": 189,
    "start_time": "2025-03-12T13:44:19.688Z"
   },
   {
    "duration": 4,
    "start_time": "2025-03-12T13:48:02.309Z"
   },
   {
    "duration": 6,
    "start_time": "2025-03-12T13:49:02.680Z"
   },
   {
    "duration": 5,
    "start_time": "2025-03-12T13:49:10.462Z"
   },
   {
    "duration": 12,
    "start_time": "2025-03-12T13:49:20.252Z"
   },
   {
    "duration": 11,
    "start_time": "2025-03-12T13:52:52.712Z"
   },
   {
    "duration": 11,
    "start_time": "2025-03-12T13:53:00.991Z"
   },
   {
    "duration": 75,
    "start_time": "2025-03-12T13:54:07.349Z"
   },
   {
    "duration": 155,
    "start_time": "2025-03-12T14:20:58.747Z"
   },
   {
    "duration": 612,
    "start_time": "2025-03-12T14:21:05.952Z"
   },
   {
    "duration": 235,
    "start_time": "2025-03-12T14:21:06.566Z"
   },
   {
    "duration": 15,
    "start_time": "2025-03-12T14:21:06.803Z"
   },
   {
    "duration": 24,
    "start_time": "2025-03-12T14:21:06.820Z"
   },
   {
    "duration": 33,
    "start_time": "2025-03-12T14:21:06.846Z"
   },
   {
    "duration": 18,
    "start_time": "2025-03-12T14:21:06.882Z"
   },
   {
    "duration": 10,
    "start_time": "2025-03-12T14:21:06.902Z"
   },
   {
    "duration": 20,
    "start_time": "2025-03-12T14:21:06.914Z"
   },
   {
    "duration": 39,
    "start_time": "2025-03-12T14:21:06.936Z"
   },
   {
    "duration": 20,
    "start_time": "2025-03-12T14:21:06.979Z"
   },
   {
    "duration": 8,
    "start_time": "2025-03-12T14:21:07.001Z"
   },
   {
    "duration": 11,
    "start_time": "2025-03-12T14:21:07.010Z"
   },
   {
    "duration": 109,
    "start_time": "2025-03-12T14:21:07.023Z"
   },
   {
    "duration": 10,
    "start_time": "2025-03-12T14:21:07.134Z"
   },
   {
    "duration": 2,
    "start_time": "2025-03-12T14:21:07.145Z"
   },
   {
    "duration": 28,
    "start_time": "2025-03-12T14:21:07.149Z"
   },
   {
    "duration": 2,
    "start_time": "2025-03-12T14:21:07.183Z"
   },
   {
    "duration": 2,
    "start_time": "2025-03-12T14:21:07.187Z"
   },
   {
    "duration": 3,
    "start_time": "2025-03-12T14:21:07.191Z"
   },
   {
    "duration": 3,
    "start_time": "2025-03-12T14:21:07.195Z"
   },
   {
    "duration": 3,
    "start_time": "2025-03-12T14:21:07.200Z"
   },
   {
    "duration": 2,
    "start_time": "2025-03-12T14:21:07.205Z"
   },
   {
    "duration": 3,
    "start_time": "2025-03-12T14:21:07.209Z"
   },
   {
    "duration": 3,
    "start_time": "2025-03-12T14:21:07.213Z"
   },
   {
    "duration": 4,
    "start_time": "2025-03-12T14:21:07.217Z"
   },
   {
    "duration": 3,
    "start_time": "2025-03-12T14:21:07.222Z"
   },
   {
    "duration": 3,
    "start_time": "2025-03-12T14:21:07.227Z"
   },
   {
    "duration": 2,
    "start_time": "2025-03-12T14:21:07.234Z"
   },
   {
    "duration": 3,
    "start_time": "2025-03-12T14:21:07.269Z"
   },
   {
    "duration": 3,
    "start_time": "2025-03-12T14:21:07.274Z"
   },
   {
    "duration": 3,
    "start_time": "2025-03-12T14:21:07.278Z"
   },
   {
    "duration": 3,
    "start_time": "2025-03-12T14:21:07.283Z"
   },
   {
    "duration": 3,
    "start_time": "2025-03-12T14:21:07.288Z"
   },
   {
    "duration": 3,
    "start_time": "2025-03-12T14:21:07.292Z"
   },
   {
    "duration": 253,
    "start_time": "2025-03-12T14:21:33.441Z"
   },
   {
    "duration": 18,
    "start_time": "2025-03-12T14:21:39.713Z"
   },
   {
    "duration": 13,
    "start_time": "2025-03-12T14:29:29.444Z"
   },
   {
    "duration": 6,
    "start_time": "2025-03-12T14:29:35.659Z"
   },
   {
    "duration": 20,
    "start_time": "2025-03-12T14:29:53.591Z"
   },
   {
    "duration": 32,
    "start_time": "2025-03-12T14:31:51.523Z"
   },
   {
    "duration": 76,
    "start_time": "2025-03-12T14:33:36.345Z"
   },
   {
    "duration": 17,
    "start_time": "2025-03-12T14:33:51.972Z"
   },
   {
    "duration": 24,
    "start_time": "2025-03-12T14:33:58.459Z"
   },
   {
    "duration": 78,
    "start_time": "2025-03-12T14:34:09.866Z"
   },
   {
    "duration": 72,
    "start_time": "2025-03-12T14:34:25.247Z"
   },
   {
    "duration": 8,
    "start_time": "2025-03-12T14:35:00.924Z"
   },
   {
    "duration": 13,
    "start_time": "2025-03-12T14:36:57.799Z"
   },
   {
    "duration": 9,
    "start_time": "2025-03-12T14:37:12.779Z"
   },
   {
    "duration": 33,
    "start_time": "2025-03-12T14:48:46.321Z"
   },
   {
    "duration": 2,
    "start_time": "2025-03-12T14:49:32.456Z"
   },
   {
    "duration": 57,
    "start_time": "2025-03-12T14:50:23.650Z"
   },
   {
    "duration": 13,
    "start_time": "2025-03-12T14:50:33.599Z"
   },
   {
    "duration": 13,
    "start_time": "2025-03-12T14:53:16.529Z"
   },
   {
    "duration": 18,
    "start_time": "2025-03-12T14:54:13.904Z"
   },
   {
    "duration": 27,
    "start_time": "2025-03-12T14:55:05.293Z"
   },
   {
    "duration": 242,
    "start_time": "2025-03-12T14:55:31.634Z"
   },
   {
    "duration": 662,
    "start_time": "2025-03-12T18:16:32.896Z"
   },
   {
    "duration": 216,
    "start_time": "2025-03-12T18:16:33.560Z"
   },
   {
    "duration": 14,
    "start_time": "2025-03-12T18:16:33.777Z"
   },
   {
    "duration": 24,
    "start_time": "2025-03-12T18:16:33.793Z"
   },
   {
    "duration": 21,
    "start_time": "2025-03-12T18:16:33.819Z"
   },
   {
    "duration": 37,
    "start_time": "2025-03-12T18:16:33.841Z"
   },
   {
    "duration": 11,
    "start_time": "2025-03-12T18:16:33.880Z"
   },
   {
    "duration": 22,
    "start_time": "2025-03-12T18:16:33.892Z"
   },
   {
    "duration": 8,
    "start_time": "2025-03-12T18:16:33.915Z"
   },
   {
    "duration": 53,
    "start_time": "2025-03-12T18:16:33.924Z"
   },
   {
    "duration": 8,
    "start_time": "2025-03-12T18:16:33.979Z"
   },
   {
    "duration": 18,
    "start_time": "2025-03-12T18:16:33.989Z"
   },
   {
    "duration": 106,
    "start_time": "2025-03-12T18:16:34.009Z"
   },
   {
    "duration": 12,
    "start_time": "2025-03-12T18:16:34.119Z"
   },
   {
    "duration": 54,
    "start_time": "2025-03-12T18:16:34.133Z"
   },
   {
    "duration": 86,
    "start_time": "2025-03-12T18:16:34.189Z"
   },
   {
    "duration": 8,
    "start_time": "2025-03-12T18:16:34.277Z"
   },
   {
    "duration": 21,
    "start_time": "2025-03-12T18:16:34.286Z"
   },
   {
    "duration": 80,
    "start_time": "2025-03-12T18:16:34.309Z"
   },
   {
    "duration": 8,
    "start_time": "2025-03-12T18:16:34.391Z"
   },
   {
    "duration": 26,
    "start_time": "2025-03-12T18:16:34.401Z"
   },
   {
    "duration": 2,
    "start_time": "2025-03-12T18:16:34.430Z"
   },
   {
    "duration": 3,
    "start_time": "2025-03-12T18:16:34.434Z"
   },
   {
    "duration": 32,
    "start_time": "2025-03-12T18:16:34.438Z"
   },
   {
    "duration": 3,
    "start_time": "2025-03-12T18:16:34.471Z"
   },
   {
    "duration": 3,
    "start_time": "2025-03-12T18:16:34.476Z"
   },
   {
    "duration": 2,
    "start_time": "2025-03-12T18:16:34.481Z"
   },
   {
    "duration": 3,
    "start_time": "2025-03-12T18:16:34.485Z"
   },
   {
    "duration": 4,
    "start_time": "2025-03-12T18:16:34.489Z"
   },
   {
    "duration": 4,
    "start_time": "2025-03-12T18:16:34.494Z"
   },
   {
    "duration": 3,
    "start_time": "2025-03-12T18:16:34.499Z"
   },
   {
    "duration": 3,
    "start_time": "2025-03-12T18:16:34.504Z"
   },
   {
    "duration": 3,
    "start_time": "2025-03-12T18:16:34.508Z"
   },
   {
    "duration": 3,
    "start_time": "2025-03-12T18:16:34.513Z"
   },
   {
    "duration": 3,
    "start_time": "2025-03-12T18:16:34.517Z"
   },
   {
    "duration": 3,
    "start_time": "2025-03-12T18:16:34.522Z"
   },
   {
    "duration": 43,
    "start_time": "2025-03-12T18:16:34.527Z"
   },
   {
    "duration": 173,
    "start_time": "2025-03-12T20:30:10.003Z"
   },
   {
    "duration": 682,
    "start_time": "2025-03-12T20:30:18.526Z"
   },
   {
    "duration": 222,
    "start_time": "2025-03-12T20:30:19.212Z"
   },
   {
    "duration": 17,
    "start_time": "2025-03-12T20:30:19.436Z"
   },
   {
    "duration": 27,
    "start_time": "2025-03-12T20:30:19.456Z"
   },
   {
    "duration": 41,
    "start_time": "2025-03-12T20:30:19.485Z"
   },
   {
    "duration": 19,
    "start_time": "2025-03-12T20:30:19.528Z"
   },
   {
    "duration": 12,
    "start_time": "2025-03-12T20:30:19.549Z"
   },
   {
    "duration": 57,
    "start_time": "2025-03-12T20:30:19.563Z"
   },
   {
    "duration": 8,
    "start_time": "2025-03-12T20:30:19.622Z"
   },
   {
    "duration": 22,
    "start_time": "2025-03-12T20:30:19.633Z"
   },
   {
    "duration": 8,
    "start_time": "2025-03-12T20:30:19.658Z"
   },
   {
    "duration": 47,
    "start_time": "2025-03-12T20:30:19.668Z"
   },
   {
    "duration": 104,
    "start_time": "2025-03-12T20:30:19.717Z"
   },
   {
    "duration": 10,
    "start_time": "2025-03-12T20:30:19.823Z"
   },
   {
    "duration": 36,
    "start_time": "2025-03-12T20:30:19.835Z"
   },
   {
    "duration": 122,
    "start_time": "2025-03-12T20:30:19.872Z"
   },
   {
    "duration": 22,
    "start_time": "2025-03-12T20:30:19.996Z"
   },
   {
    "duration": 26,
    "start_time": "2025-03-12T20:30:20.020Z"
   },
   {
    "duration": 90,
    "start_time": "2025-03-12T20:30:20.048Z"
   },
   {
    "duration": 9,
    "start_time": "2025-03-12T20:30:20.140Z"
   },
   {
    "duration": 26,
    "start_time": "2025-03-12T20:30:20.151Z"
   },
   {
    "duration": 8,
    "start_time": "2025-03-12T20:30:20.179Z"
   },
   {
    "duration": 24,
    "start_time": "2025-03-12T20:30:20.188Z"
   },
   {
    "duration": 3,
    "start_time": "2025-03-12T20:30:20.214Z"
   },
   {
    "duration": 3,
    "start_time": "2025-03-12T20:30:20.219Z"
   },
   {
    "duration": 3,
    "start_time": "2025-03-12T20:30:20.223Z"
   },
   {
    "duration": 3,
    "start_time": "2025-03-12T20:30:20.228Z"
   },
   {
    "duration": 2,
    "start_time": "2025-03-12T20:30:20.235Z"
   },
   {
    "duration": 4,
    "start_time": "2025-03-12T20:30:20.238Z"
   },
   {
    "duration": 4,
    "start_time": "2025-03-12T20:30:20.243Z"
   },
   {
    "duration": 4,
    "start_time": "2025-03-12T20:30:20.248Z"
   },
   {
    "duration": 3,
    "start_time": "2025-03-12T20:30:20.253Z"
   },
   {
    "duration": 3,
    "start_time": "2025-03-12T20:30:20.258Z"
   },
   {
    "duration": 2,
    "start_time": "2025-03-12T20:30:20.263Z"
   },
   {
    "duration": 3,
    "start_time": "2025-03-12T20:30:20.312Z"
   },
   {
    "duration": 3,
    "start_time": "2025-03-12T20:30:20.317Z"
   },
   {
    "duration": 2,
    "start_time": "2025-03-12T20:30:20.322Z"
   },
   {
    "duration": 614,
    "start_time": "2025-03-12T21:10:00.558Z"
   },
   {
    "duration": 9,
    "start_time": "2025-03-12T21:10:53.926Z"
   },
   {
    "duration": 13,
    "start_time": "2025-03-12T21:11:04.217Z"
   },
   {
    "duration": 159,
    "start_time": "2025-03-12T22:38:44.063Z"
   },
   {
    "duration": 610,
    "start_time": "2025-03-12T22:39:20.136Z"
   },
   {
    "duration": 230,
    "start_time": "2025-03-12T22:39:20.748Z"
   },
   {
    "duration": 15,
    "start_time": "2025-03-12T22:39:20.979Z"
   },
   {
    "duration": 24,
    "start_time": "2025-03-12T22:39:20.996Z"
   },
   {
    "duration": 36,
    "start_time": "2025-03-12T22:39:21.021Z"
   },
   {
    "duration": 19,
    "start_time": "2025-03-12T22:39:21.059Z"
   },
   {
    "duration": 10,
    "start_time": "2025-03-12T22:39:21.080Z"
   },
   {
    "duration": 21,
    "start_time": "2025-03-12T22:39:21.091Z"
   },
   {
    "duration": 35,
    "start_time": "2025-03-12T22:39:21.114Z"
   },
   {
    "duration": 22,
    "start_time": "2025-03-12T22:39:21.152Z"
   },
   {
    "duration": 9,
    "start_time": "2025-03-12T22:39:21.175Z"
   },
   {
    "duration": 17,
    "start_time": "2025-03-12T22:39:21.185Z"
   },
   {
    "duration": 118,
    "start_time": "2025-03-12T22:39:21.203Z"
   },
   {
    "duration": 9,
    "start_time": "2025-03-12T22:39:21.323Z"
   },
   {
    "duration": 34,
    "start_time": "2025-03-12T22:39:21.343Z"
   },
   {
    "duration": 87,
    "start_time": "2025-03-12T22:39:21.379Z"
   },
   {
    "duration": 7,
    "start_time": "2025-03-12T22:39:21.468Z"
   },
   {
    "duration": 21,
    "start_time": "2025-03-12T22:39:21.477Z"
   },
   {
    "duration": 87,
    "start_time": "2025-03-12T22:39:21.500Z"
   },
   {
    "duration": 11,
    "start_time": "2025-03-12T22:39:21.588Z"
   },
   {
    "duration": 44,
    "start_time": "2025-03-12T22:39:21.600Z"
   },
   {
    "duration": 8,
    "start_time": "2025-03-12T22:39:21.646Z"
   },
   {
    "duration": 678,
    "start_time": "2025-03-12T22:39:21.656Z"
   },
   {
    "duration": 0,
    "start_time": "2025-03-12T22:39:22.336Z"
   },
   {
    "duration": 0,
    "start_time": "2025-03-12T22:39:22.342Z"
   },
   {
    "duration": 0,
    "start_time": "2025-03-12T22:39:22.343Z"
   },
   {
    "duration": 0,
    "start_time": "2025-03-12T22:39:22.344Z"
   },
   {
    "duration": 0,
    "start_time": "2025-03-12T22:39:22.345Z"
   },
   {
    "duration": 0,
    "start_time": "2025-03-12T22:39:22.346Z"
   },
   {
    "duration": 0,
    "start_time": "2025-03-12T22:39:22.347Z"
   },
   {
    "duration": 0,
    "start_time": "2025-03-12T22:39:22.348Z"
   },
   {
    "duration": 0,
    "start_time": "2025-03-12T22:39:22.349Z"
   },
   {
    "duration": 0,
    "start_time": "2025-03-12T22:39:22.350Z"
   },
   {
    "duration": 0,
    "start_time": "2025-03-12T22:39:22.351Z"
   },
   {
    "duration": 0,
    "start_time": "2025-03-12T22:39:22.352Z"
   },
   {
    "duration": 0,
    "start_time": "2025-03-12T22:39:22.354Z"
   },
   {
    "duration": 0,
    "start_time": "2025-03-12T22:39:22.355Z"
   },
   {
    "duration": 62,
    "start_time": "2025-03-12T22:39:53.152Z"
   },
   {
    "duration": 26,
    "start_time": "2025-03-12T22:40:15.709Z"
   },
   {
    "duration": 29,
    "start_time": "2025-03-12T22:40:37.028Z"
   },
   {
    "duration": 29,
    "start_time": "2025-03-12T22:42:32.029Z"
   },
   {
    "duration": 30,
    "start_time": "2025-03-12T22:43:15.183Z"
   },
   {
    "duration": 21,
    "start_time": "2025-03-12T22:46:04.359Z"
   },
   {
    "duration": 22,
    "start_time": "2025-03-12T22:51:46.300Z"
   },
   {
    "duration": 22,
    "start_time": "2025-03-12T22:51:56.940Z"
   },
   {
    "duration": 21,
    "start_time": "2025-03-12T22:52:18.931Z"
   },
   {
    "duration": 20,
    "start_time": "2025-03-12T22:58:52.689Z"
   },
   {
    "duration": 20,
    "start_time": "2025-03-12T23:06:40.179Z"
   },
   {
    "duration": 114,
    "start_time": "2025-03-12T23:07:27.941Z"
   },
   {
    "duration": 669,
    "start_time": "2025-03-12T23:07:48.666Z"
   },
   {
    "duration": 159,
    "start_time": "2025-03-12T23:07:49.338Z"
   },
   {
    "duration": 16,
    "start_time": "2025-03-12T23:07:49.499Z"
   },
   {
    "duration": 29,
    "start_time": "2025-03-12T23:07:49.516Z"
   },
   {
    "duration": 21,
    "start_time": "2025-03-12T23:07:49.548Z"
   },
   {
    "duration": 17,
    "start_time": "2025-03-12T23:07:49.571Z"
   },
   {
    "duration": 12,
    "start_time": "2025-03-12T23:07:49.589Z"
   },
   {
    "duration": 49,
    "start_time": "2025-03-12T23:07:49.602Z"
   },
   {
    "duration": 8,
    "start_time": "2025-03-12T23:07:49.653Z"
   },
   {
    "duration": 20,
    "start_time": "2025-03-12T23:07:49.663Z"
   },
   {
    "duration": 10,
    "start_time": "2025-03-12T23:07:49.684Z"
   },
   {
    "duration": 47,
    "start_time": "2025-03-12T23:07:49.696Z"
   },
   {
    "duration": 77,
    "start_time": "2025-03-12T23:07:49.745Z"
   },
   {
    "duration": 22,
    "start_time": "2025-03-12T23:07:49.825Z"
   },
   {
    "duration": 35,
    "start_time": "2025-03-12T23:07:49.848Z"
   },
   {
    "duration": 99,
    "start_time": "2025-03-12T23:07:49.885Z"
   },
   {
    "duration": 9,
    "start_time": "2025-03-12T23:07:49.986Z"
   },
   {
    "duration": 22,
    "start_time": "2025-03-12T23:07:49.996Z"
   },
   {
    "duration": 78,
    "start_time": "2025-03-12T23:07:50.020Z"
   },
   {
    "duration": 8,
    "start_time": "2025-03-12T23:07:50.100Z"
   },
   {
    "duration": 43,
    "start_time": "2025-03-12T23:07:50.110Z"
   },
   {
    "duration": 8,
    "start_time": "2025-03-12T23:07:50.154Z"
   },
   {
    "duration": 29,
    "start_time": "2025-03-12T23:07:50.164Z"
   },
   {
    "duration": 565,
    "start_time": "2025-03-12T23:07:50.195Z"
   },
   {
    "duration": 0,
    "start_time": "2025-03-12T23:07:50.762Z"
   },
   {
    "duration": 0,
    "start_time": "2025-03-12T23:07:50.764Z"
   },
   {
    "duration": 0,
    "start_time": "2025-03-12T23:07:50.765Z"
   },
   {
    "duration": 0,
    "start_time": "2025-03-12T23:07:50.766Z"
   },
   {
    "duration": 0,
    "start_time": "2025-03-12T23:07:50.768Z"
   },
   {
    "duration": 0,
    "start_time": "2025-03-12T23:07:50.769Z"
   },
   {
    "duration": 1,
    "start_time": "2025-03-12T23:07:50.769Z"
   },
   {
    "duration": 0,
    "start_time": "2025-03-12T23:07:50.771Z"
   },
   {
    "duration": 0,
    "start_time": "2025-03-12T23:07:50.773Z"
   },
   {
    "duration": 0,
    "start_time": "2025-03-12T23:07:50.773Z"
   },
   {
    "duration": 0,
    "start_time": "2025-03-12T23:07:50.775Z"
   },
   {
    "duration": 0,
    "start_time": "2025-03-12T23:07:50.776Z"
   },
   {
    "duration": 0,
    "start_time": "2025-03-12T23:07:50.777Z"
   },
   {
    "duration": 29,
    "start_time": "2025-03-12T23:08:06.903Z"
   },
   {
    "duration": 92,
    "start_time": "2025-03-12T23:08:11.133Z"
   },
   {
    "duration": 576,
    "start_time": "2025-03-12T23:08:52.345Z"
   },
   {
    "duration": 162,
    "start_time": "2025-03-12T23:08:52.923Z"
   },
   {
    "duration": 16,
    "start_time": "2025-03-12T23:08:53.086Z"
   },
   {
    "duration": 24,
    "start_time": "2025-03-12T23:08:53.104Z"
   },
   {
    "duration": 21,
    "start_time": "2025-03-12T23:08:53.143Z"
   },
   {
    "duration": 17,
    "start_time": "2025-03-12T23:08:53.166Z"
   },
   {
    "duration": 10,
    "start_time": "2025-03-12T23:08:53.184Z"
   },
   {
    "duration": 48,
    "start_time": "2025-03-12T23:08:53.196Z"
   },
   {
    "duration": 7,
    "start_time": "2025-03-12T23:08:53.246Z"
   },
   {
    "duration": 22,
    "start_time": "2025-03-12T23:08:53.256Z"
   },
   {
    "duration": 8,
    "start_time": "2025-03-12T23:08:53.280Z"
   },
   {
    "duration": 18,
    "start_time": "2025-03-12T23:08:53.290Z"
   },
   {
    "duration": 113,
    "start_time": "2025-03-12T23:08:53.309Z"
   },
   {
    "duration": 21,
    "start_time": "2025-03-12T23:08:53.424Z"
   },
   {
    "duration": 33,
    "start_time": "2025-03-12T23:08:53.447Z"
   },
   {
    "duration": 89,
    "start_time": "2025-03-12T23:08:53.482Z"
   },
   {
    "duration": 7,
    "start_time": "2025-03-12T23:08:53.572Z"
   },
   {
    "duration": 20,
    "start_time": "2025-03-12T23:08:53.581Z"
   },
   {
    "duration": 80,
    "start_time": "2025-03-12T23:08:53.603Z"
   },
   {
    "duration": 9,
    "start_time": "2025-03-12T23:08:53.684Z"
   },
   {
    "duration": 26,
    "start_time": "2025-03-12T23:08:53.694Z"
   },
   {
    "duration": 23,
    "start_time": "2025-03-12T23:08:53.723Z"
   },
   {
    "duration": 28,
    "start_time": "2025-03-12T23:08:53.748Z"
   },
   {
    "duration": 544,
    "start_time": "2025-03-12T23:08:53.777Z"
   },
   {
    "duration": 0,
    "start_time": "2025-03-12T23:08:54.323Z"
   },
   {
    "duration": 0,
    "start_time": "2025-03-12T23:08:54.324Z"
   },
   {
    "duration": 0,
    "start_time": "2025-03-12T23:08:54.326Z"
   },
   {
    "duration": 0,
    "start_time": "2025-03-12T23:08:54.327Z"
   },
   {
    "duration": 0,
    "start_time": "2025-03-12T23:08:54.328Z"
   },
   {
    "duration": 0,
    "start_time": "2025-03-12T23:08:54.343Z"
   },
   {
    "duration": 0,
    "start_time": "2025-03-12T23:08:54.345Z"
   },
   {
    "duration": 0,
    "start_time": "2025-03-12T23:08:54.346Z"
   },
   {
    "duration": 0,
    "start_time": "2025-03-12T23:08:54.348Z"
   },
   {
    "duration": 0,
    "start_time": "2025-03-12T23:08:54.349Z"
   },
   {
    "duration": 0,
    "start_time": "2025-03-12T23:08:54.350Z"
   },
   {
    "duration": 0,
    "start_time": "2025-03-12T23:08:54.352Z"
   },
   {
    "duration": 0,
    "start_time": "2025-03-12T23:08:54.354Z"
   },
   {
    "duration": 22,
    "start_time": "2025-03-12T23:09:17.548Z"
   },
   {
    "duration": 28,
    "start_time": "2025-03-12T23:09:29.238Z"
   },
   {
    "duration": 23,
    "start_time": "2025-03-12T23:25:49.922Z"
   },
   {
    "duration": 22,
    "start_time": "2025-03-12T23:35:00.157Z"
   },
   {
    "duration": 15,
    "start_time": "2025-03-12T23:35:30.830Z"
   },
   {
    "duration": 665,
    "start_time": "2025-03-13T05:32:34.500Z"
   },
   {
    "duration": 239,
    "start_time": "2025-03-13T05:32:35.168Z"
   },
   {
    "duration": 15,
    "start_time": "2025-03-13T05:32:35.409Z"
   },
   {
    "duration": 25,
    "start_time": "2025-03-13T05:32:35.427Z"
   },
   {
    "duration": 22,
    "start_time": "2025-03-13T05:32:35.453Z"
   },
   {
    "duration": 18,
    "start_time": "2025-03-13T05:32:35.487Z"
   },
   {
    "duration": 11,
    "start_time": "2025-03-13T05:32:35.506Z"
   },
   {
    "duration": 21,
    "start_time": "2025-03-13T05:32:35.518Z"
   },
   {
    "duration": 8,
    "start_time": "2025-03-13T05:32:35.541Z"
   },
   {
    "duration": 53,
    "start_time": "2025-03-13T05:32:35.552Z"
   },
   {
    "duration": 10,
    "start_time": "2025-03-13T05:32:35.606Z"
   },
   {
    "duration": 16,
    "start_time": "2025-03-13T05:32:35.618Z"
   },
   {
    "duration": 97,
    "start_time": "2025-03-13T05:32:35.636Z"
   },
   {
    "duration": 9,
    "start_time": "2025-03-13T05:32:35.735Z"
   },
   {
    "duration": 50,
    "start_time": "2025-03-13T05:32:35.745Z"
   },
   {
    "duration": 77,
    "start_time": "2025-03-13T05:32:35.797Z"
   },
   {
    "duration": 15,
    "start_time": "2025-03-13T05:32:35.875Z"
   },
   {
    "duration": 21,
    "start_time": "2025-03-13T05:32:35.892Z"
   },
   {
    "duration": 81,
    "start_time": "2025-03-13T05:32:35.914Z"
   },
   {
    "duration": 8,
    "start_time": "2025-03-13T05:32:35.996Z"
   },
   {
    "duration": 25,
    "start_time": "2025-03-13T05:32:36.007Z"
   },
   {
    "duration": 8,
    "start_time": "2025-03-13T05:32:36.034Z"
   },
   {
    "duration": 49,
    "start_time": "2025-03-13T05:32:36.043Z"
   },
   {
    "duration": 20,
    "start_time": "2025-03-13T05:32:36.094Z"
   },
   {
    "duration": 19,
    "start_time": "2025-03-13T05:32:36.115Z"
   },
   {
    "duration": 21,
    "start_time": "2025-03-13T05:32:36.135Z"
   },
   {
    "duration": 38,
    "start_time": "2025-03-13T05:32:36.157Z"
   },
   {
    "duration": 255,
    "start_time": "2025-03-13T05:32:36.199Z"
   },
   {
    "duration": 0,
    "start_time": "2025-03-13T05:32:36.456Z"
   },
   {
    "duration": 0,
    "start_time": "2025-03-13T05:32:36.457Z"
   },
   {
    "duration": 0,
    "start_time": "2025-03-13T05:32:36.459Z"
   },
   {
    "duration": 0,
    "start_time": "2025-03-13T05:32:36.460Z"
   },
   {
    "duration": 0,
    "start_time": "2025-03-13T05:32:36.461Z"
   },
   {
    "duration": 0,
    "start_time": "2025-03-13T05:32:36.463Z"
   },
   {
    "duration": 0,
    "start_time": "2025-03-13T05:32:36.465Z"
   },
   {
    "duration": 0,
    "start_time": "2025-03-13T05:32:36.467Z"
   },
   {
    "duration": 0,
    "start_time": "2025-03-13T05:32:36.487Z"
   },
   {
    "duration": 621,
    "start_time": "2025-03-13T06:27:55.775Z"
   },
   {
    "duration": 277,
    "start_time": "2025-03-13T06:27:56.399Z"
   },
   {
    "duration": 16,
    "start_time": "2025-03-13T06:27:56.679Z"
   },
   {
    "duration": 33,
    "start_time": "2025-03-13T06:27:56.697Z"
   },
   {
    "duration": 23,
    "start_time": "2025-03-13T06:27:56.733Z"
   },
   {
    "duration": 18,
    "start_time": "2025-03-13T06:27:56.758Z"
   },
   {
    "duration": 33,
    "start_time": "2025-03-13T06:27:56.778Z"
   },
   {
    "duration": 26,
    "start_time": "2025-03-13T06:27:56.813Z"
   },
   {
    "duration": 11,
    "start_time": "2025-03-13T06:27:56.841Z"
   },
   {
    "duration": 23,
    "start_time": "2025-03-13T06:27:56.854Z"
   },
   {
    "duration": 35,
    "start_time": "2025-03-13T06:27:56.879Z"
   },
   {
    "duration": 21,
    "start_time": "2025-03-13T06:27:56.915Z"
   },
   {
    "duration": 139,
    "start_time": "2025-03-13T06:27:56.938Z"
   },
   {
    "duration": 10,
    "start_time": "2025-03-13T06:27:57.082Z"
   },
   {
    "duration": 49,
    "start_time": "2025-03-13T06:27:57.104Z"
   },
   {
    "duration": 105,
    "start_time": "2025-03-13T06:27:57.155Z"
   },
   {
    "duration": 8,
    "start_time": "2025-03-13T06:27:57.262Z"
   },
   {
    "duration": 44,
    "start_time": "2025-03-13T06:27:57.272Z"
   },
   {
    "duration": 98,
    "start_time": "2025-03-13T06:27:57.325Z"
   },
   {
    "duration": 8,
    "start_time": "2025-03-13T06:27:57.425Z"
   },
   {
    "duration": 26,
    "start_time": "2025-03-13T06:27:57.436Z"
   },
   {
    "duration": 6,
    "start_time": "2025-03-13T06:27:57.464Z"
   },
   {
    "duration": 59,
    "start_time": "2025-03-13T06:27:57.472Z"
   },
   {
    "duration": 20,
    "start_time": "2025-03-13T06:27:57.533Z"
   },
   {
    "duration": 21,
    "start_time": "2025-03-13T06:27:57.555Z"
   },
   {
    "duration": 39,
    "start_time": "2025-03-13T06:27:57.577Z"
   },
   {
    "duration": 15,
    "start_time": "2025-03-13T06:27:57.618Z"
   },
   {
    "duration": 270,
    "start_time": "2025-03-13T06:27:57.635Z"
   },
   {
    "duration": 0,
    "start_time": "2025-03-13T06:27:57.907Z"
   },
   {
    "duration": 0,
    "start_time": "2025-03-13T06:27:57.908Z"
   },
   {
    "duration": 0,
    "start_time": "2025-03-13T06:27:57.909Z"
   },
   {
    "duration": 0,
    "start_time": "2025-03-13T06:27:57.910Z"
   },
   {
    "duration": 0,
    "start_time": "2025-03-13T06:27:57.911Z"
   },
   {
    "duration": 0,
    "start_time": "2025-03-13T06:27:57.912Z"
   },
   {
    "duration": 0,
    "start_time": "2025-03-13T06:27:57.913Z"
   },
   {
    "duration": 0,
    "start_time": "2025-03-13T06:27:57.914Z"
   },
   {
    "duration": 0,
    "start_time": "2025-03-13T06:27:57.915Z"
   },
   {
    "duration": 17,
    "start_time": "2025-03-13T06:29:45.376Z"
   },
   {
    "duration": 15,
    "start_time": "2025-03-13T06:30:37.297Z"
   },
   {
    "duration": 13,
    "start_time": "2025-03-13T06:30:47.990Z"
   },
   {
    "duration": 15,
    "start_time": "2025-03-13T06:30:58.714Z"
   },
   {
    "duration": 14,
    "start_time": "2025-03-13T06:33:52.339Z"
   },
   {
    "duration": 642,
    "start_time": "2025-03-13T06:34:02.377Z"
   },
   {
    "duration": 167,
    "start_time": "2025-03-13T06:34:03.026Z"
   },
   {
    "duration": 19,
    "start_time": "2025-03-13T06:34:03.194Z"
   },
   {
    "duration": 26,
    "start_time": "2025-03-13T06:34:03.215Z"
   },
   {
    "duration": 21,
    "start_time": "2025-03-13T06:34:03.244Z"
   },
   {
    "duration": 45,
    "start_time": "2025-03-13T06:34:03.266Z"
   },
   {
    "duration": 12,
    "start_time": "2025-03-13T06:34:03.312Z"
   },
   {
    "duration": 22,
    "start_time": "2025-03-13T06:34:03.325Z"
   },
   {
    "duration": 7,
    "start_time": "2025-03-13T06:34:03.349Z"
   },
   {
    "duration": 54,
    "start_time": "2025-03-13T06:34:03.357Z"
   },
   {
    "duration": 10,
    "start_time": "2025-03-13T06:34:03.412Z"
   },
   {
    "duration": 20,
    "start_time": "2025-03-13T06:34:03.424Z"
   },
   {
    "duration": 115,
    "start_time": "2025-03-13T06:34:03.446Z"
   },
   {
    "duration": 9,
    "start_time": "2025-03-13T06:34:03.565Z"
   },
   {
    "duration": 62,
    "start_time": "2025-03-13T06:34:03.576Z"
   },
   {
    "duration": 89,
    "start_time": "2025-03-13T06:34:03.640Z"
   },
   {
    "duration": 7,
    "start_time": "2025-03-13T06:34:03.731Z"
   },
   {
    "duration": 21,
    "start_time": "2025-03-13T06:34:03.740Z"
   },
   {
    "duration": 92,
    "start_time": "2025-03-13T06:34:03.763Z"
   },
   {
    "duration": 8,
    "start_time": "2025-03-13T06:34:03.856Z"
   },
   {
    "duration": 41,
    "start_time": "2025-03-13T06:34:03.866Z"
   },
   {
    "duration": 10,
    "start_time": "2025-03-13T06:34:03.908Z"
   },
   {
    "duration": 29,
    "start_time": "2025-03-13T06:34:03.919Z"
   },
   {
    "duration": 21,
    "start_time": "2025-03-13T06:34:03.950Z"
   },
   {
    "duration": 48,
    "start_time": "2025-03-13T06:34:03.972Z"
   },
   {
    "duration": 21,
    "start_time": "2025-03-13T06:34:04.022Z"
   },
   {
    "duration": 14,
    "start_time": "2025-03-13T06:34:04.045Z"
   },
   {
    "duration": 275,
    "start_time": "2025-03-13T06:34:04.061Z"
   },
   {
    "duration": 0,
    "start_time": "2025-03-13T06:34:04.338Z"
   },
   {
    "duration": 0,
    "start_time": "2025-03-13T06:34:04.339Z"
   },
   {
    "duration": 0,
    "start_time": "2025-03-13T06:34:04.341Z"
   },
   {
    "duration": 0,
    "start_time": "2025-03-13T06:34:04.341Z"
   },
   {
    "duration": 0,
    "start_time": "2025-03-13T06:34:04.343Z"
   },
   {
    "duration": 0,
    "start_time": "2025-03-13T06:34:04.344Z"
   },
   {
    "duration": 0,
    "start_time": "2025-03-13T06:34:04.345Z"
   },
   {
    "duration": 0,
    "start_time": "2025-03-13T06:34:04.346Z"
   },
   {
    "duration": 0,
    "start_time": "2025-03-13T06:34:04.346Z"
   },
   {
    "duration": 15,
    "start_time": "2025-03-13T06:34:10.535Z"
   },
   {
    "duration": 15,
    "start_time": "2025-03-13T06:34:15.440Z"
   },
   {
    "duration": 14,
    "start_time": "2025-03-13T06:34:18.845Z"
   },
   {
    "duration": 13,
    "start_time": "2025-03-13T06:34:24.838Z"
   },
   {
    "duration": 11,
    "start_time": "2025-03-13T06:34:45.974Z"
   },
   {
    "duration": 7,
    "start_time": "2025-03-13T06:35:28.570Z"
   },
   {
    "duration": 8,
    "start_time": "2025-03-13T06:35:29.704Z"
   },
   {
    "duration": 650,
    "start_time": "2025-03-13T12:43:48.923Z"
   },
   {
    "duration": 221,
    "start_time": "2025-03-13T12:43:49.576Z"
   },
   {
    "duration": 15,
    "start_time": "2025-03-13T12:43:49.798Z"
   },
   {
    "duration": 26,
    "start_time": "2025-03-13T12:43:49.815Z"
   },
   {
    "duration": 22,
    "start_time": "2025-03-13T12:43:49.845Z"
   },
   {
    "duration": 19,
    "start_time": "2025-03-13T12:43:49.886Z"
   },
   {
    "duration": 11,
    "start_time": "2025-03-13T12:43:49.907Z"
   },
   {
    "duration": 22,
    "start_time": "2025-03-13T12:43:49.920Z"
   },
   {
    "duration": 7,
    "start_time": "2025-03-13T12:43:49.944Z"
   },
   {
    "duration": 53,
    "start_time": "2025-03-13T12:43:49.953Z"
   },
   {
    "duration": 11,
    "start_time": "2025-03-13T12:43:50.007Z"
   },
   {
    "duration": 17,
    "start_time": "2025-03-13T12:43:50.020Z"
   },
   {
    "duration": 108,
    "start_time": "2025-03-13T12:43:50.039Z"
   },
   {
    "duration": 10,
    "start_time": "2025-03-13T12:43:50.151Z"
   },
   {
    "duration": 54,
    "start_time": "2025-03-13T12:43:50.163Z"
   },
   {
    "duration": 89,
    "start_time": "2025-03-13T12:43:50.219Z"
   },
   {
    "duration": 7,
    "start_time": "2025-03-13T12:43:50.310Z"
   },
   {
    "duration": 22,
    "start_time": "2025-03-13T12:43:50.319Z"
   },
   {
    "duration": 97,
    "start_time": "2025-03-13T12:43:50.343Z"
   },
   {
    "duration": 10,
    "start_time": "2025-03-13T12:43:50.441Z"
   },
   {
    "duration": 39,
    "start_time": "2025-03-13T12:43:50.453Z"
   },
   {
    "duration": 7,
    "start_time": "2025-03-13T12:43:50.494Z"
   },
   {
    "duration": 29,
    "start_time": "2025-03-13T12:43:50.503Z"
   },
   {
    "duration": 21,
    "start_time": "2025-03-13T12:43:50.534Z"
   },
   {
    "duration": 45,
    "start_time": "2025-03-13T12:43:50.557Z"
   },
   {
    "duration": 21,
    "start_time": "2025-03-13T12:43:50.604Z"
   },
   {
    "duration": 15,
    "start_time": "2025-03-13T12:43:50.628Z"
   },
   {
    "duration": 11,
    "start_time": "2025-03-13T12:43:50.644Z"
   },
   {
    "duration": 31,
    "start_time": "2025-03-13T12:43:50.656Z"
   },
   {
    "duration": 2,
    "start_time": "2025-03-13T12:43:50.689Z"
   },
   {
    "duration": 3,
    "start_time": "2025-03-13T12:43:50.693Z"
   },
   {
    "duration": 3,
    "start_time": "2025-03-13T12:43:50.697Z"
   },
   {
    "duration": 3,
    "start_time": "2025-03-13T12:43:50.702Z"
   },
   {
    "duration": 3,
    "start_time": "2025-03-13T12:43:50.706Z"
   },
   {
    "duration": 3,
    "start_time": "2025-03-13T12:43:50.711Z"
   },
   {
    "duration": 2,
    "start_time": "2025-03-13T12:43:50.716Z"
   },
   {
    "duration": 3,
    "start_time": "2025-03-13T12:43:50.720Z"
   },
   {
    "duration": 235,
    "start_time": "2025-03-13T13:06:45.654Z"
   },
   {
    "duration": 10,
    "start_time": "2025-03-13T13:07:02.956Z"
   },
   {
    "duration": 19,
    "start_time": "2025-03-13T13:10:21.899Z"
   },
   {
    "duration": 593,
    "start_time": "2025-03-13T14:22:40.100Z"
   },
   {
    "duration": 205,
    "start_time": "2025-03-13T14:22:40.695Z"
   },
   {
    "duration": 15,
    "start_time": "2025-03-13T14:22:40.902Z"
   },
   {
    "duration": 25,
    "start_time": "2025-03-13T14:22:40.919Z"
   },
   {
    "duration": 21,
    "start_time": "2025-03-13T14:22:40.946Z"
   },
   {
    "duration": 42,
    "start_time": "2025-03-13T14:22:40.968Z"
   },
   {
    "duration": 12,
    "start_time": "2025-03-13T14:22:41.012Z"
   },
   {
    "duration": 21,
    "start_time": "2025-03-13T14:22:41.025Z"
   },
   {
    "duration": 7,
    "start_time": "2025-03-13T14:22:41.047Z"
   },
   {
    "duration": 51,
    "start_time": "2025-03-13T14:22:41.058Z"
   },
   {
    "duration": 12,
    "start_time": "2025-03-13T14:22:41.110Z"
   },
   {
    "duration": 17,
    "start_time": "2025-03-13T14:22:41.123Z"
   },
   {
    "duration": 111,
    "start_time": "2025-03-13T14:22:41.143Z"
   },
   {
    "duration": 9,
    "start_time": "2025-03-13T14:22:41.256Z"
   },
   {
    "duration": 46,
    "start_time": "2025-03-13T14:22:41.267Z"
   },
   {
    "duration": 95,
    "start_time": "2025-03-13T14:22:41.315Z"
   },
   {
    "duration": 9,
    "start_time": "2025-03-13T14:22:41.413Z"
   },
   {
    "duration": 22,
    "start_time": "2025-03-13T14:22:41.424Z"
   },
   {
    "duration": 81,
    "start_time": "2025-03-13T14:22:41.448Z"
   },
   {
    "duration": 9,
    "start_time": "2025-03-13T14:22:41.531Z"
   },
   {
    "duration": 26,
    "start_time": "2025-03-13T14:22:41.541Z"
   },
   {
    "duration": 8,
    "start_time": "2025-03-13T14:22:41.569Z"
   },
   {
    "duration": 55,
    "start_time": "2025-03-13T14:22:41.579Z"
   },
   {
    "duration": 19,
    "start_time": "2025-03-13T14:22:41.636Z"
   },
   {
    "duration": 18,
    "start_time": "2025-03-13T14:22:41.657Z"
   },
   {
    "duration": 41,
    "start_time": "2025-03-13T14:22:41.678Z"
   },
   {
    "duration": 14,
    "start_time": "2025-03-13T14:22:41.721Z"
   },
   {
    "duration": 10,
    "start_time": "2025-03-13T14:22:41.738Z"
   },
   {
    "duration": 8,
    "start_time": "2025-03-13T14:22:41.749Z"
   },
   {
    "duration": 20,
    "start_time": "2025-03-13T14:22:41.759Z"
   },
   {
    "duration": 5,
    "start_time": "2025-03-13T14:22:41.809Z"
   },
   {
    "duration": 0,
    "start_time": "2025-03-13T14:22:41.815Z"
   },
   {
    "duration": 0,
    "start_time": "2025-03-13T14:22:41.817Z"
   },
   {
    "duration": 0,
    "start_time": "2025-03-13T14:22:41.818Z"
   },
   {
    "duration": 0,
    "start_time": "2025-03-13T14:22:41.819Z"
   },
   {
    "duration": 0,
    "start_time": "2025-03-13T14:22:41.820Z"
   },
   {
    "duration": 0,
    "start_time": "2025-03-13T14:22:41.821Z"
   },
   {
    "duration": 0,
    "start_time": "2025-03-13T14:22:41.822Z"
   },
   {
    "duration": 0,
    "start_time": "2025-03-13T14:22:41.823Z"
   },
   {
    "duration": 125,
    "start_time": "2025-03-13T14:23:37.353Z"
   },
   {
    "duration": 23,
    "start_time": "2025-03-13T14:23:48.356Z"
   },
   {
    "duration": 5,
    "start_time": "2025-03-13T14:27:05.387Z"
   },
   {
    "duration": 17,
    "start_time": "2025-03-13T14:27:12.377Z"
   },
   {
    "duration": 22,
    "start_time": "2025-03-13T14:28:30.629Z"
   },
   {
    "duration": 21,
    "start_time": "2025-03-13T14:31:42.111Z"
   },
   {
    "duration": 10,
    "start_time": "2025-03-13T14:32:24.278Z"
   },
   {
    "duration": 15,
    "start_time": "2025-03-13T14:32:48.948Z"
   },
   {
    "duration": 14,
    "start_time": "2025-03-13T14:33:06.671Z"
   },
   {
    "duration": 15,
    "start_time": "2025-03-13T14:33:52.967Z"
   },
   {
    "duration": 20,
    "start_time": "2025-03-13T14:41:15.150Z"
   },
   {
    "duration": 5,
    "start_time": "2025-03-13T14:45:30.792Z"
   },
   {
    "duration": 5,
    "start_time": "2025-03-13T14:46:53.037Z"
   },
   {
    "duration": 20,
    "start_time": "2025-03-13T14:49:32.935Z"
   },
   {
    "duration": 816,
    "start_time": "2025-03-14T00:48:48.072Z"
   },
   {
    "duration": 19,
    "start_time": "2025-03-14T00:49:11.098Z"
   },
   {
    "duration": 24,
    "start_time": "2025-03-14T00:49:53.075Z"
   },
   {
    "duration": 614,
    "start_time": "2025-03-14T00:51:08.429Z"
   },
   {
    "duration": 153,
    "start_time": "2025-03-14T00:51:09.047Z"
   },
   {
    "duration": 16,
    "start_time": "2025-03-14T00:51:09.202Z"
   },
   {
    "duration": 33,
    "start_time": "2025-03-14T00:51:09.219Z"
   },
   {
    "duration": 22,
    "start_time": "2025-03-14T00:51:09.256Z"
   },
   {
    "duration": 20,
    "start_time": "2025-03-14T00:51:09.280Z"
   },
   {
    "duration": 36,
    "start_time": "2025-03-14T00:51:09.302Z"
   },
   {
    "duration": 21,
    "start_time": "2025-03-14T00:51:09.340Z"
   },
   {
    "duration": 7,
    "start_time": "2025-03-14T00:51:09.363Z"
   },
   {
    "duration": 20,
    "start_time": "2025-03-14T00:51:09.372Z"
   },
   {
    "duration": 37,
    "start_time": "2025-03-14T00:51:09.394Z"
   },
   {
    "duration": 20,
    "start_time": "2025-03-14T00:51:09.434Z"
   },
   {
    "duration": 126,
    "start_time": "2025-03-14T00:51:09.455Z"
   },
   {
    "duration": 10,
    "start_time": "2025-03-14T00:51:09.586Z"
   },
   {
    "duration": 57,
    "start_time": "2025-03-14T00:51:09.598Z"
   },
   {
    "duration": 113,
    "start_time": "2025-03-14T00:51:09.657Z"
   },
   {
    "duration": 8,
    "start_time": "2025-03-14T00:51:09.772Z"
   },
   {
    "duration": 22,
    "start_time": "2025-03-14T00:51:09.782Z"
   },
   {
    "duration": 79,
    "start_time": "2025-03-14T00:51:09.806Z"
   },
   {
    "duration": 9,
    "start_time": "2025-03-14T00:51:09.887Z"
   },
   {
    "duration": 43,
    "start_time": "2025-03-14T00:51:09.897Z"
   },
   {
    "duration": 8,
    "start_time": "2025-03-14T00:51:09.942Z"
   },
   {
    "duration": 37,
    "start_time": "2025-03-14T00:51:09.952Z"
   },
   {
    "duration": 20,
    "start_time": "2025-03-14T00:51:09.991Z"
   },
   {
    "duration": 19,
    "start_time": "2025-03-14T00:51:10.032Z"
   },
   {
    "duration": 22,
    "start_time": "2025-03-14T00:51:10.054Z"
   },
   {
    "duration": 15,
    "start_time": "2025-03-14T00:51:10.077Z"
   },
   {
    "duration": 11,
    "start_time": "2025-03-14T00:51:10.093Z"
   },
   {
    "duration": 27,
    "start_time": "2025-03-14T00:51:10.106Z"
   },
   {
    "duration": 26,
    "start_time": "2025-03-14T00:51:10.135Z"
   },
   {
    "duration": 23,
    "start_time": "2025-03-14T00:51:10.163Z"
   },
   {
    "duration": 2,
    "start_time": "2025-03-14T00:51:10.188Z"
   },
   {
    "duration": 3,
    "start_time": "2025-03-14T00:51:10.192Z"
   },
   {
    "duration": 2,
    "start_time": "2025-03-14T00:51:10.197Z"
   },
   {
    "duration": 2,
    "start_time": "2025-03-14T00:51:10.232Z"
   },
   {
    "duration": 2,
    "start_time": "2025-03-14T00:51:10.236Z"
   },
   {
    "duration": 3,
    "start_time": "2025-03-14T00:51:10.240Z"
   },
   {
    "duration": 3,
    "start_time": "2025-03-14T00:51:10.244Z"
   },
   {
    "duration": 5,
    "start_time": "2025-03-14T00:51:10.249Z"
   },
   {
    "duration": 8,
    "start_time": "2025-03-14T00:51:44.922Z"
   },
   {
    "duration": 662,
    "start_time": "2025-03-14T06:14:54.824Z"
   },
   {
    "duration": 222,
    "start_time": "2025-03-14T06:14:55.488Z"
   },
   {
    "duration": 15,
    "start_time": "2025-03-14T06:14:55.712Z"
   },
   {
    "duration": 25,
    "start_time": "2025-03-14T06:14:55.730Z"
   },
   {
    "duration": 22,
    "start_time": "2025-03-14T06:14:55.756Z"
   },
   {
    "duration": 41,
    "start_time": "2025-03-14T06:14:55.779Z"
   },
   {
    "duration": 11,
    "start_time": "2025-03-14T06:14:55.821Z"
   },
   {
    "duration": 22,
    "start_time": "2025-03-14T06:14:55.834Z"
   },
   {
    "duration": 8,
    "start_time": "2025-03-14T06:14:55.858Z"
   },
   {
    "duration": 54,
    "start_time": "2025-03-14T06:14:55.870Z"
   },
   {
    "duration": 9,
    "start_time": "2025-03-14T06:14:55.926Z"
   },
   {
    "duration": 18,
    "start_time": "2025-03-14T06:14:55.937Z"
   },
   {
    "duration": 118,
    "start_time": "2025-03-14T06:14:55.957Z"
   },
   {
    "duration": 9,
    "start_time": "2025-03-14T06:14:56.077Z"
   },
   {
    "duration": 51,
    "start_time": "2025-03-14T06:14:56.088Z"
   },
   {
    "duration": 98,
    "start_time": "2025-03-14T06:14:56.140Z"
   },
   {
    "duration": 7,
    "start_time": "2025-03-14T06:14:56.240Z"
   },
   {
    "duration": 21,
    "start_time": "2025-03-14T06:14:56.249Z"
   },
   {
    "duration": 85,
    "start_time": "2025-03-14T06:14:56.271Z"
   },
   {
    "duration": 8,
    "start_time": "2025-03-14T06:14:56.358Z"
   },
   {
    "duration": 40,
    "start_time": "2025-03-14T06:14:56.367Z"
   },
   {
    "duration": 8,
    "start_time": "2025-03-14T06:14:56.409Z"
   },
   {
    "duration": 30,
    "start_time": "2025-03-14T06:14:56.419Z"
   },
   {
    "duration": 21,
    "start_time": "2025-03-14T06:14:56.451Z"
   },
   {
    "duration": 49,
    "start_time": "2025-03-14T06:14:56.473Z"
   },
   {
    "duration": 21,
    "start_time": "2025-03-14T06:14:56.524Z"
   },
   {
    "duration": 14,
    "start_time": "2025-03-14T06:14:56.547Z"
   },
   {
    "duration": 10,
    "start_time": "2025-03-14T06:14:56.565Z"
   },
   {
    "duration": 31,
    "start_time": "2025-03-14T06:14:56.576Z"
   },
   {
    "duration": 26,
    "start_time": "2025-03-14T06:14:56.609Z"
   },
   {
    "duration": 24,
    "start_time": "2025-03-14T06:14:56.637Z"
   },
   {
    "duration": 2,
    "start_time": "2025-03-14T06:14:56.664Z"
   },
   {
    "duration": 3,
    "start_time": "2025-03-14T06:14:56.668Z"
   },
   {
    "duration": 2,
    "start_time": "2025-03-14T06:14:56.705Z"
   },
   {
    "duration": 3,
    "start_time": "2025-03-14T06:14:56.709Z"
   },
   {
    "duration": 3,
    "start_time": "2025-03-14T06:14:56.714Z"
   },
   {
    "duration": 2,
    "start_time": "2025-03-14T06:14:56.719Z"
   },
   {
    "duration": 3,
    "start_time": "2025-03-14T06:14:56.723Z"
   },
   {
    "duration": 3,
    "start_time": "2025-03-14T06:14:56.728Z"
   },
   {
    "duration": 9,
    "start_time": "2025-03-14T06:15:42.660Z"
   },
   {
    "duration": 254,
    "start_time": "2025-03-14T06:18:49.739Z"
   },
   {
    "duration": 603,
    "start_time": "2025-03-14T06:19:06.583Z"
   },
   {
    "duration": 165,
    "start_time": "2025-03-14T06:19:07.188Z"
   },
   {
    "duration": 15,
    "start_time": "2025-03-14T06:19:07.354Z"
   },
   {
    "duration": 34,
    "start_time": "2025-03-14T06:19:07.372Z"
   },
   {
    "duration": 21,
    "start_time": "2025-03-14T06:19:07.409Z"
   },
   {
    "duration": 19,
    "start_time": "2025-03-14T06:19:07.432Z"
   },
   {
    "duration": 11,
    "start_time": "2025-03-14T06:19:07.452Z"
   },
   {
    "duration": 50,
    "start_time": "2025-03-14T06:19:07.465Z"
   },
   {
    "duration": 8,
    "start_time": "2025-03-14T06:19:07.517Z"
   },
   {
    "duration": 20,
    "start_time": "2025-03-14T06:19:07.527Z"
   },
   {
    "duration": 9,
    "start_time": "2025-03-14T06:19:07.549Z"
   },
   {
    "duration": 51,
    "start_time": "2025-03-14T06:19:07.560Z"
   },
   {
    "duration": 103,
    "start_time": "2025-03-14T06:19:07.613Z"
   },
   {
    "duration": 8,
    "start_time": "2025-03-14T06:19:07.720Z"
   },
   {
    "duration": 35,
    "start_time": "2025-03-14T06:19:07.730Z"
   },
   {
    "duration": 105,
    "start_time": "2025-03-14T06:19:07.767Z"
   },
   {
    "duration": 8,
    "start_time": "2025-03-14T06:19:07.874Z"
   },
   {
    "duration": 40,
    "start_time": "2025-03-14T06:19:07.883Z"
   },
   {
    "duration": 81,
    "start_time": "2025-03-14T06:19:07.925Z"
   },
   {
    "duration": 9,
    "start_time": "2025-03-14T06:19:08.008Z"
   },
   {
    "duration": 27,
    "start_time": "2025-03-14T06:19:08.019Z"
   },
   {
    "duration": 9,
    "start_time": "2025-03-14T06:19:08.047Z"
   },
   {
    "duration": 53,
    "start_time": "2025-03-14T06:19:08.058Z"
   },
   {
    "duration": 20,
    "start_time": "2025-03-14T06:19:08.113Z"
   },
   {
    "duration": 19,
    "start_time": "2025-03-14T06:19:08.135Z"
   },
   {
    "duration": 20,
    "start_time": "2025-03-14T06:19:08.156Z"
   },
   {
    "duration": 39,
    "start_time": "2025-03-14T06:19:08.178Z"
   },
   {
    "duration": 10,
    "start_time": "2025-03-14T06:19:08.221Z"
   },
   {
    "duration": 8,
    "start_time": "2025-03-14T06:19:08.232Z"
   },
   {
    "duration": 18,
    "start_time": "2025-03-14T06:19:08.242Z"
   },
   {
    "duration": 50,
    "start_time": "2025-03-14T06:19:08.262Z"
   },
   {
    "duration": 10,
    "start_time": "2025-03-14T06:19:08.313Z"
   },
   {
    "duration": 262,
    "start_time": "2025-03-14T06:19:08.325Z"
   },
   {
    "duration": 0,
    "start_time": "2025-03-14T06:19:08.588Z"
   },
   {
    "duration": 0,
    "start_time": "2025-03-14T06:19:08.589Z"
   },
   {
    "duration": 0,
    "start_time": "2025-03-14T06:19:08.590Z"
   },
   {
    "duration": 0,
    "start_time": "2025-03-14T06:19:08.591Z"
   },
   {
    "duration": 0,
    "start_time": "2025-03-14T06:19:08.605Z"
   },
   {
    "duration": 0,
    "start_time": "2025-03-14T06:19:08.606Z"
   },
   {
    "duration": 0,
    "start_time": "2025-03-14T06:19:08.607Z"
   },
   {
    "duration": 13,
    "start_time": "2025-03-14T06:19:16.189Z"
   },
   {
    "duration": 7,
    "start_time": "2025-03-14T06:19:23.411Z"
   },
   {
    "duration": 7,
    "start_time": "2025-03-14T06:20:15.145Z"
   },
   {
    "duration": 19,
    "start_time": "2025-03-14T06:20:30.888Z"
   },
   {
    "duration": 8,
    "start_time": "2025-03-14T06:20:58.506Z"
   },
   {
    "duration": 6,
    "start_time": "2025-03-14T06:21:07.390Z"
   },
   {
    "duration": 12,
    "start_time": "2025-03-14T06:24:43.180Z"
   },
   {
    "duration": 12,
    "start_time": "2025-03-14T06:24:57.688Z"
   },
   {
    "duration": 5,
    "start_time": "2025-03-14T06:25:17.068Z"
   },
   {
    "duration": 12,
    "start_time": "2025-03-14T06:25:25.272Z"
   },
   {
    "duration": 1987,
    "start_time": "2025-03-14T06:27:58.862Z"
   },
   {
    "duration": 498,
    "start_time": "2025-03-14T06:32:46.798Z"
   },
   {
    "duration": 25,
    "start_time": "2025-03-14T06:35:40.802Z"
   },
   {
    "duration": 26,
    "start_time": "2025-03-14T06:37:00.957Z"
   },
   {
    "duration": 63,
    "start_time": "2025-03-14T06:37:16.415Z"
   },
   {
    "duration": 58,
    "start_time": "2025-03-14T06:37:33.363Z"
   },
   {
    "duration": 211,
    "start_time": "2025-03-14T06:39:28.071Z"
   },
   {
    "duration": 132,
    "start_time": "2025-03-14T06:44:00.852Z"
   },
   {
    "duration": 313,
    "start_time": "2025-03-14T06:57:11.224Z"
   },
   {
    "duration": 188,
    "start_time": "2025-03-14T07:05:54.078Z"
   },
   {
    "duration": 212,
    "start_time": "2025-03-14T07:06:10.762Z"
   },
   {
    "duration": 179,
    "start_time": "2025-03-14T07:09:33.574Z"
   },
   {
    "duration": 2603,
    "start_time": "2025-03-18T02:10:20.054Z"
   },
   {
    "duration": 233,
    "start_time": "2025-03-18T02:10:22.660Z"
   },
   {
    "duration": 13,
    "start_time": "2025-03-18T02:10:22.895Z"
   },
   {
    "duration": 25,
    "start_time": "2025-03-18T02:10:22.909Z"
   },
   {
    "duration": 35,
    "start_time": "2025-03-18T02:10:22.936Z"
   },
   {
    "duration": 20,
    "start_time": "2025-03-18T02:10:22.972Z"
   },
   {
    "duration": 11,
    "start_time": "2025-03-18T02:10:22.994Z"
   },
   {
    "duration": 23,
    "start_time": "2025-03-18T02:10:23.007Z"
   },
   {
    "duration": 7,
    "start_time": "2025-03-18T02:10:23.031Z"
   },
   {
    "duration": 20,
    "start_time": "2025-03-18T02:10:23.070Z"
   },
   {
    "duration": 9,
    "start_time": "2025-03-18T02:10:23.091Z"
   },
   {
    "duration": 17,
    "start_time": "2025-03-18T02:10:23.102Z"
   },
   {
    "duration": 115,
    "start_time": "2025-03-18T02:10:23.121Z"
   },
   {
    "duration": 9,
    "start_time": "2025-03-18T02:10:23.240Z"
   },
   {
    "duration": 53,
    "start_time": "2025-03-18T02:10:23.251Z"
   },
   {
    "duration": 101,
    "start_time": "2025-03-18T02:10:23.306Z"
   },
   {
    "duration": 8,
    "start_time": "2025-03-18T02:10:23.408Z"
   },
   {
    "duration": 21,
    "start_time": "2025-03-18T02:10:23.418Z"
   },
   {
    "duration": 74,
    "start_time": "2025-03-18T02:10:23.440Z"
   },
   {
    "duration": 8,
    "start_time": "2025-03-18T02:10:23.516Z"
   },
   {
    "duration": 44,
    "start_time": "2025-03-18T02:10:23.525Z"
   },
   {
    "duration": 7,
    "start_time": "2025-03-18T02:10:23.571Z"
   },
   {
    "duration": 28,
    "start_time": "2025-03-18T02:10:23.580Z"
   },
   {
    "duration": 22,
    "start_time": "2025-03-18T02:10:23.609Z"
   },
   {
    "duration": 42,
    "start_time": "2025-03-18T02:10:23.632Z"
   },
   {
    "duration": 20,
    "start_time": "2025-03-18T02:10:23.676Z"
   },
   {
    "duration": 14,
    "start_time": "2025-03-18T02:10:23.698Z"
   },
   {
    "duration": 11,
    "start_time": "2025-03-18T02:10:23.713Z"
   },
   {
    "duration": 9,
    "start_time": "2025-03-18T02:10:23.726Z"
   },
   {
    "duration": 51,
    "start_time": "2025-03-18T02:10:23.737Z"
   },
   {
    "duration": 20,
    "start_time": "2025-03-18T02:10:23.790Z"
   },
   {
    "duration": 9,
    "start_time": "2025-03-18T02:10:23.812Z"
   },
   {
    "duration": 196,
    "start_time": "2025-03-18T02:10:23.823Z"
   },
   {
    "duration": 218,
    "start_time": "2025-03-18T02:10:24.022Z"
   },
   {
    "duration": 2,
    "start_time": "2025-03-18T02:10:24.243Z"
   },
   {
    "duration": 3,
    "start_time": "2025-03-18T02:10:24.247Z"
   },
   {
    "duration": 19,
    "start_time": "2025-03-18T02:10:24.251Z"
   },
   {
    "duration": 2,
    "start_time": "2025-03-18T02:10:24.272Z"
   },
   {
    "duration": 3,
    "start_time": "2025-03-18T02:10:24.276Z"
   },
   {
    "duration": 4,
    "start_time": "2025-03-18T02:10:24.280Z"
   },
   {
    "duration": 9,
    "start_time": "2025-03-18T02:14:10.081Z"
   },
   {
    "duration": 237,
    "start_time": "2025-03-18T02:22:15.209Z"
   },
   {
    "duration": 176,
    "start_time": "2025-03-18T02:22:26.740Z"
   },
   {
    "duration": 15,
    "start_time": "2025-03-18T02:23:57.321Z"
   },
   {
    "duration": 9,
    "start_time": "2025-03-18T02:24:08.057Z"
   },
   {
    "duration": 215,
    "start_time": "2025-03-18T02:29:33.757Z"
   },
   {
    "duration": 802,
    "start_time": "2025-03-18T02:30:07.791Z"
   },
   {
    "duration": 158,
    "start_time": "2025-03-18T02:30:08.595Z"
   },
   {
    "duration": 13,
    "start_time": "2025-03-18T02:30:08.755Z"
   },
   {
    "duration": 26,
    "start_time": "2025-03-18T02:30:08.770Z"
   },
   {
    "duration": 23,
    "start_time": "2025-03-18T02:30:08.797Z"
   },
   {
    "duration": 18,
    "start_time": "2025-03-18T02:30:08.821Z"
   },
   {
    "duration": 39,
    "start_time": "2025-03-18T02:30:08.840Z"
   },
   {
    "duration": 20,
    "start_time": "2025-03-18T02:30:08.881Z"
   },
   {
    "duration": 6,
    "start_time": "2025-03-18T02:30:08.903Z"
   },
   {
    "duration": 20,
    "start_time": "2025-03-18T02:30:08.912Z"
   },
   {
    "duration": 42,
    "start_time": "2025-03-18T02:30:08.934Z"
   },
   {
    "duration": 19,
    "start_time": "2025-03-18T02:30:08.977Z"
   },
   {
    "duration": 101,
    "start_time": "2025-03-18T02:30:08.998Z"
   },
   {
    "duration": 9,
    "start_time": "2025-03-18T02:30:09.101Z"
   },
   {
    "duration": 34,
    "start_time": "2025-03-18T02:30:09.112Z"
   },
   {
    "duration": 107,
    "start_time": "2025-03-18T02:30:09.148Z"
   },
   {
    "duration": 19,
    "start_time": "2025-03-18T02:30:09.257Z"
   },
   {
    "duration": 21,
    "start_time": "2025-03-18T02:30:09.278Z"
   },
   {
    "duration": 78,
    "start_time": "2025-03-18T02:30:09.301Z"
   },
   {
    "duration": 9,
    "start_time": "2025-03-18T02:30:09.380Z"
   },
   {
    "duration": 27,
    "start_time": "2025-03-18T02:30:09.391Z"
   },
   {
    "duration": 8,
    "start_time": "2025-03-18T02:30:09.420Z"
   },
   {
    "duration": 52,
    "start_time": "2025-03-18T02:30:09.430Z"
   },
   {
    "duration": 21,
    "start_time": "2025-03-18T02:30:09.484Z"
   },
   {
    "duration": 18,
    "start_time": "2025-03-18T02:30:09.507Z"
   },
   {
    "duration": 21,
    "start_time": "2025-03-18T02:30:09.527Z"
   },
   {
    "duration": 13,
    "start_time": "2025-03-18T02:30:09.570Z"
   },
   {
    "duration": 9,
    "start_time": "2025-03-18T02:30:09.588Z"
   },
   {
    "duration": 7,
    "start_time": "2025-03-18T02:30:09.598Z"
   },
   {
    "duration": 18,
    "start_time": "2025-03-18T02:30:09.606Z"
   },
   {
    "duration": 48,
    "start_time": "2025-03-18T02:30:09.626Z"
   },
   {
    "duration": 9,
    "start_time": "2025-03-18T02:30:09.676Z"
   },
   {
    "duration": 196,
    "start_time": "2025-03-18T02:30:09.687Z"
   },
   {
    "duration": 221,
    "start_time": "2025-03-18T02:30:09.885Z"
   },
   {
    "duration": 285,
    "start_time": "2025-03-18T02:30:10.108Z"
   },
   {
    "duration": 0,
    "start_time": "2025-03-18T02:30:10.394Z"
   },
   {
    "duration": 0,
    "start_time": "2025-03-18T02:30:10.395Z"
   },
   {
    "duration": 0,
    "start_time": "2025-03-18T02:30:10.397Z"
   },
   {
    "duration": 0,
    "start_time": "2025-03-18T02:30:10.398Z"
   },
   {
    "duration": 0,
    "start_time": "2025-03-18T02:30:10.400Z"
   },
   {
    "duration": 13,
    "start_time": "2025-03-18T02:30:14.546Z"
   },
   {
    "duration": 16,
    "start_time": "2025-03-18T02:30:56.779Z"
   },
   {
    "duration": 16,
    "start_time": "2025-03-18T02:32:10.409Z"
   },
   {
    "duration": 13,
    "start_time": "2025-03-18T02:32:23.904Z"
   },
   {
    "duration": 9,
    "start_time": "2025-03-18T02:32:32.118Z"
   },
   {
    "duration": 13,
    "start_time": "2025-03-18T02:36:42.416Z"
   },
   {
    "duration": 6,
    "start_time": "2025-03-18T02:36:58.107Z"
   },
   {
    "duration": 10,
    "start_time": "2025-03-18T02:42:54.390Z"
   },
   {
    "duration": 9,
    "start_time": "2025-03-18T02:43:15.819Z"
   },
   {
    "duration": 7,
    "start_time": "2025-03-18T02:44:03.284Z"
   },
   {
    "duration": 6,
    "start_time": "2025-03-18T02:45:56.173Z"
   },
   {
    "duration": 9,
    "start_time": "2025-03-18T02:48:08.554Z"
   },
   {
    "duration": 17,
    "start_time": "2025-03-18T02:51:18.251Z"
   },
   {
    "duration": 60,
    "start_time": "2025-03-18T02:51:27.650Z"
   },
   {
    "duration": 120,
    "start_time": "2025-03-18T02:54:08.951Z"
   },
   {
    "duration": 119,
    "start_time": "2025-03-18T02:56:45.109Z"
   },
   {
    "duration": 164,
    "start_time": "2025-03-18T03:14:54.749Z"
   },
   {
    "duration": 163,
    "start_time": "2025-03-18T03:15:20.418Z"
   },
   {
    "duration": 121,
    "start_time": "2025-03-18T03:17:55.393Z"
   },
   {
    "duration": 223,
    "start_time": "2025-03-18T03:18:19.847Z"
   },
   {
    "duration": 9,
    "start_time": "2025-03-18T03:19:47.058Z"
   },
   {
    "duration": 5,
    "start_time": "2025-03-18T03:20:56.343Z"
   },
   {
    "duration": 8,
    "start_time": "2025-03-18T03:21:07.663Z"
   },
   {
    "duration": 10,
    "start_time": "2025-03-18T03:23:14.150Z"
   },
   {
    "duration": 213,
    "start_time": "2025-03-18T03:24:37.096Z"
   },
   {
    "duration": 203,
    "start_time": "2025-03-18T03:26:03.260Z"
   },
   {
    "duration": 2,
    "start_time": "2025-03-18T03:26:08.954Z"
   },
   {
    "duration": 9,
    "start_time": "2025-03-18T03:27:32.941Z"
   },
   {
    "duration": 9,
    "start_time": "2025-03-18T03:29:54.189Z"
   },
   {
    "duration": 197,
    "start_time": "2025-03-18T03:30:08.391Z"
   },
   {
    "duration": 204,
    "start_time": "2025-03-18T03:31:03.791Z"
   },
   {
    "duration": 8,
    "start_time": "2025-03-18T03:31:46.930Z"
   },
   {
    "duration": 111,
    "start_time": "2025-03-18T03:37:38.741Z"
   },
   {
    "duration": 9,
    "start_time": "2025-03-18T03:45:42.396Z"
   },
   {
    "duration": 157,
    "start_time": "2025-03-18T03:46:23.501Z"
   },
   {
    "duration": 271,
    "start_time": "2025-03-18T03:47:52.999Z"
   },
   {
    "duration": 8,
    "start_time": "2025-03-18T03:49:13.931Z"
   },
   {
    "duration": 118,
    "start_time": "2025-03-18T03:50:17.788Z"
   },
   {
    "duration": 10,
    "start_time": "2025-03-18T03:55:26.510Z"
   },
   {
    "duration": 2567,
    "start_time": "2025-03-18T04:23:38.605Z"
   },
   {
    "duration": 215,
    "start_time": "2025-03-18T04:23:41.174Z"
   },
   {
    "duration": 13,
    "start_time": "2025-03-18T04:23:41.391Z"
   },
   {
    "duration": 25,
    "start_time": "2025-03-18T04:23:41.406Z"
   },
   {
    "duration": 23,
    "start_time": "2025-03-18T04:23:41.434Z"
   },
   {
    "duration": 25,
    "start_time": "2025-03-18T04:23:41.459Z"
   },
   {
    "duration": 13,
    "start_time": "2025-03-18T04:23:41.486Z"
   },
   {
    "duration": 47,
    "start_time": "2025-03-18T04:23:41.502Z"
   },
   {
    "duration": 7,
    "start_time": "2025-03-18T04:23:41.551Z"
   },
   {
    "duration": 20,
    "start_time": "2025-03-18T04:23:41.560Z"
   },
   {
    "duration": 8,
    "start_time": "2025-03-18T04:23:41.582Z"
   },
   {
    "duration": 48,
    "start_time": "2025-03-18T04:23:41.592Z"
   },
   {
    "duration": 98,
    "start_time": "2025-03-18T04:23:41.642Z"
   },
   {
    "duration": 9,
    "start_time": "2025-03-18T04:23:41.743Z"
   },
   {
    "duration": 35,
    "start_time": "2025-03-18T04:23:41.753Z"
   },
   {
    "duration": 105,
    "start_time": "2025-03-18T04:23:41.790Z"
   },
   {
    "duration": 8,
    "start_time": "2025-03-18T04:23:41.896Z"
   },
   {
    "duration": 34,
    "start_time": "2025-03-18T04:23:41.906Z"
   },
   {
    "duration": 75,
    "start_time": "2025-03-18T04:23:41.941Z"
   },
   {
    "duration": 9,
    "start_time": "2025-03-18T04:23:42.031Z"
   },
   {
    "duration": 28,
    "start_time": "2025-03-18T04:23:42.042Z"
   },
   {
    "duration": 8,
    "start_time": "2025-03-18T04:23:42.071Z"
   },
   {
    "duration": 52,
    "start_time": "2025-03-18T04:23:42.080Z"
   },
   {
    "duration": 20,
    "start_time": "2025-03-18T04:23:42.134Z"
   },
   {
    "duration": 19,
    "start_time": "2025-03-18T04:23:42.155Z"
   },
   {
    "duration": 21,
    "start_time": "2025-03-18T04:23:42.176Z"
   },
   {
    "duration": 40,
    "start_time": "2025-03-18T04:23:42.199Z"
   },
   {
    "duration": 10,
    "start_time": "2025-03-18T04:23:42.241Z"
   },
   {
    "duration": 8,
    "start_time": "2025-03-18T04:23:42.252Z"
   },
   {
    "duration": 18,
    "start_time": "2025-03-18T04:23:42.261Z"
   },
   {
    "duration": 21,
    "start_time": "2025-03-18T04:23:42.281Z"
   },
   {
    "duration": 36,
    "start_time": "2025-03-18T04:23:42.303Z"
   },
   {
    "duration": 185,
    "start_time": "2025-03-18T04:23:42.340Z"
   },
   {
    "duration": 220,
    "start_time": "2025-03-18T04:23:42.530Z"
   },
   {
    "duration": 8,
    "start_time": "2025-03-18T04:23:42.753Z"
   },
   {
    "duration": 139,
    "start_time": "2025-03-18T04:23:42.763Z"
   },
   {
    "duration": 173,
    "start_time": "2025-03-18T04:23:42.905Z"
   },
   {
    "duration": 278,
    "start_time": "2025-03-18T04:23:43.080Z"
   },
   {
    "duration": 8,
    "start_time": "2025-03-18T04:23:43.360Z"
   },
   {
    "duration": 127,
    "start_time": "2025-03-18T04:23:43.370Z"
   },
   {
    "duration": 165,
    "start_time": "2025-03-18T04:23:43.502Z"
   },
   {
    "duration": 208,
    "start_time": "2025-03-18T04:23:43.669Z"
   },
   {
    "duration": 8,
    "start_time": "2025-03-18T04:23:43.879Z"
   },
   {
    "duration": 135,
    "start_time": "2025-03-18T04:23:43.888Z"
   },
   {
    "duration": 11,
    "start_time": "2025-03-18T04:23:44.030Z"
   },
   {
    "duration": 2,
    "start_time": "2025-03-18T04:23:44.043Z"
   },
   {
    "duration": 2,
    "start_time": "2025-03-18T04:23:44.047Z"
   },
   {
    "duration": 116,
    "start_time": "2025-03-18T04:23:56.079Z"
   },
   {
    "duration": 167,
    "start_time": "2025-03-18T04:25:01.558Z"
   },
   {
    "duration": 196,
    "start_time": "2025-03-18T04:26:39.693Z"
   },
   {
    "duration": 257,
    "start_time": "2025-03-18T04:27:18.531Z"
   },
   {
    "duration": 196,
    "start_time": "2025-03-18T04:28:39.648Z"
   },
   {
    "duration": 218,
    "start_time": "2025-03-18T04:29:23.155Z"
   },
   {
    "duration": 6,
    "start_time": "2025-03-18T04:29:34.326Z"
   },
   {
    "duration": 9,
    "start_time": "2025-03-18T04:33:45.865Z"
   },
   {
    "duration": 8,
    "start_time": "2025-03-18T04:34:02.878Z"
   },
   {
    "duration": 112,
    "start_time": "2025-03-18T04:35:06.367Z"
   },
   {
    "duration": 7,
    "start_time": "2025-03-18T04:36:49.036Z"
   },
   {
    "duration": 5,
    "start_time": "2025-03-18T04:57:44.589Z"
   },
   {
    "duration": 819,
    "start_time": "2025-03-18T04:58:21.416Z"
   },
   {
    "duration": 158,
    "start_time": "2025-03-18T04:58:22.238Z"
   },
   {
    "duration": 12,
    "start_time": "2025-03-18T04:58:22.398Z"
   },
   {
    "duration": 29,
    "start_time": "2025-03-18T04:58:22.411Z"
   },
   {
    "duration": 21,
    "start_time": "2025-03-18T04:58:22.443Z"
   },
   {
    "duration": 17,
    "start_time": "2025-03-18T04:58:22.465Z"
   },
   {
    "duration": 11,
    "start_time": "2025-03-18T04:58:22.484Z"
   },
   {
    "duration": 50,
    "start_time": "2025-03-18T04:58:22.496Z"
   },
   {
    "duration": 7,
    "start_time": "2025-03-18T04:58:22.548Z"
   },
   {
    "duration": 19,
    "start_time": "2025-03-18T04:58:22.557Z"
   },
   {
    "duration": 9,
    "start_time": "2025-03-18T04:58:22.578Z"
   },
   {
    "duration": 45,
    "start_time": "2025-03-18T04:58:22.589Z"
   },
   {
    "duration": 95,
    "start_time": "2025-03-18T04:58:22.636Z"
   },
   {
    "duration": 8,
    "start_time": "2025-03-18T04:58:22.735Z"
   },
   {
    "duration": 34,
    "start_time": "2025-03-18T04:58:22.744Z"
   },
   {
    "duration": 93,
    "start_time": "2025-03-18T04:58:22.780Z"
   },
   {
    "duration": 7,
    "start_time": "2025-03-18T04:58:22.875Z"
   },
   {
    "duration": 26,
    "start_time": "2025-03-18T04:58:22.884Z"
   },
   {
    "duration": 63,
    "start_time": "2025-03-18T04:58:22.933Z"
   },
   {
    "duration": 10,
    "start_time": "2025-03-18T04:58:22.998Z"
   },
   {
    "duration": 43,
    "start_time": "2025-03-18T04:58:23.009Z"
   },
   {
    "duration": 7,
    "start_time": "2025-03-18T04:58:23.054Z"
   },
   {
    "duration": 28,
    "start_time": "2025-03-18T04:58:23.062Z"
   },
   {
    "duration": 41,
    "start_time": "2025-03-18T04:58:23.092Z"
   },
   {
    "duration": 19,
    "start_time": "2025-03-18T04:58:23.134Z"
   },
   {
    "duration": 20,
    "start_time": "2025-03-18T04:58:23.155Z"
   },
   {
    "duration": 14,
    "start_time": "2025-03-18T04:58:23.177Z"
   },
   {
    "duration": 10,
    "start_time": "2025-03-18T04:58:23.193Z"
   },
   {
    "duration": 31,
    "start_time": "2025-03-18T04:58:23.205Z"
   },
   {
    "duration": 18,
    "start_time": "2025-03-18T04:58:23.237Z"
   },
   {
    "duration": 21,
    "start_time": "2025-03-18T04:58:23.257Z"
   },
   {
    "duration": 10,
    "start_time": "2025-03-18T04:58:23.280Z"
   },
   {
    "duration": 207,
    "start_time": "2025-03-18T04:58:23.292Z"
   },
   {
    "duration": 279,
    "start_time": "2025-03-18T04:58:23.501Z"
   },
   {
    "duration": 8,
    "start_time": "2025-03-18T04:58:23.782Z"
   },
   {
    "duration": 129,
    "start_time": "2025-03-18T04:58:23.792Z"
   },
   {
    "duration": 181,
    "start_time": "2025-03-18T04:58:23.923Z"
   },
   {
    "duration": 213,
    "start_time": "2025-03-18T04:58:24.106Z"
   },
   {
    "duration": 13,
    "start_time": "2025-03-18T04:58:24.321Z"
   },
   {
    "duration": 118,
    "start_time": "2025-03-18T04:58:24.336Z"
   },
   {
    "duration": 181,
    "start_time": "2025-03-18T04:58:24.458Z"
   },
   {
    "duration": 209,
    "start_time": "2025-03-18T04:58:24.641Z"
   },
   {
    "duration": 9,
    "start_time": "2025-03-18T04:58:24.852Z"
   },
   {
    "duration": 136,
    "start_time": "2025-03-18T04:58:24.862Z"
   },
   {
    "duration": 262,
    "start_time": "2025-03-18T04:58:25.000Z"
   },
   {
    "duration": 210,
    "start_time": "2025-03-18T04:58:25.264Z"
   },
   {
    "duration": 8,
    "start_time": "2025-03-18T04:58:25.476Z"
   },
   {
    "duration": 126,
    "start_time": "2025-03-18T04:58:25.486Z"
   },
   {
    "duration": 4,
    "start_time": "2025-03-18T04:58:25.614Z"
   },
   {
    "duration": 0,
    "start_time": "2025-03-18T04:58:25.631Z"
   },
   {
    "duration": 3,
    "start_time": "2025-03-18T04:58:28.929Z"
   },
   {
    "duration": 3,
    "start_time": "2025-03-18T04:59:02.455Z"
   },
   {
    "duration": 7,
    "start_time": "2025-03-18T05:00:20.653Z"
   },
   {
    "duration": 6,
    "start_time": "2025-03-18T05:00:43.792Z"
   },
   {
    "duration": 220,
    "start_time": "2025-03-18T05:15:06.038Z"
   },
   {
    "duration": 15,
    "start_time": "2025-03-18T05:17:34.387Z"
   },
   {
    "duration": 863,
    "start_time": "2025-03-18T05:18:20.753Z"
   },
   {
    "duration": 178,
    "start_time": "2025-03-18T05:18:21.618Z"
   },
   {
    "duration": 12,
    "start_time": "2025-03-18T05:18:21.797Z"
   },
   {
    "duration": 25,
    "start_time": "2025-03-18T05:18:21.811Z"
   },
   {
    "duration": 21,
    "start_time": "2025-03-18T05:18:21.839Z"
   },
   {
    "duration": 18,
    "start_time": "2025-03-18T05:18:21.862Z"
   },
   {
    "duration": 11,
    "start_time": "2025-03-18T05:18:21.882Z"
   },
   {
    "duration": 54,
    "start_time": "2025-03-18T05:18:21.895Z"
   },
   {
    "duration": 9,
    "start_time": "2025-03-18T05:18:21.951Z"
   },
   {
    "duration": 21,
    "start_time": "2025-03-18T05:18:21.962Z"
   },
   {
    "duration": 8,
    "start_time": "2025-03-18T05:18:21.985Z"
   },
   {
    "duration": 49,
    "start_time": "2025-03-18T05:18:21.995Z"
   },
   {
    "duration": 98,
    "start_time": "2025-03-18T05:18:22.046Z"
   },
   {
    "duration": 9,
    "start_time": "2025-03-18T05:18:22.147Z"
   },
   {
    "duration": 34,
    "start_time": "2025-03-18T05:18:22.157Z"
   },
   {
    "duration": 102,
    "start_time": "2025-03-18T05:18:22.193Z"
   },
   {
    "duration": 7,
    "start_time": "2025-03-18T05:18:22.297Z"
   },
   {
    "duration": 34,
    "start_time": "2025-03-18T05:18:22.306Z"
   },
   {
    "duration": 61,
    "start_time": "2025-03-18T05:18:22.341Z"
   },
   {
    "duration": 27,
    "start_time": "2025-03-18T05:18:22.404Z"
   },
   {
    "duration": 27,
    "start_time": "2025-03-18T05:18:22.433Z"
   },
   {
    "duration": 7,
    "start_time": "2025-03-18T05:18:22.462Z"
   },
   {
    "duration": 28,
    "start_time": "2025-03-18T05:18:22.471Z"
   },
   {
    "duration": 43,
    "start_time": "2025-03-18T05:18:22.501Z"
   },
   {
    "duration": 19,
    "start_time": "2025-03-18T05:18:22.546Z"
   },
   {
    "duration": 22,
    "start_time": "2025-03-18T05:18:22.567Z"
   },
   {
    "duration": 14,
    "start_time": "2025-03-18T05:18:22.590Z"
   },
   {
    "duration": 10,
    "start_time": "2025-03-18T05:18:22.631Z"
   },
   {
    "duration": 7,
    "start_time": "2025-03-18T05:18:22.642Z"
   },
   {
    "duration": 19,
    "start_time": "2025-03-18T05:18:22.650Z"
   },
   {
    "duration": 21,
    "start_time": "2025-03-18T05:18:22.671Z"
   },
   {
    "duration": 40,
    "start_time": "2025-03-18T05:18:22.693Z"
   },
   {
    "duration": 180,
    "start_time": "2025-03-18T05:18:22.735Z"
   },
   {
    "duration": 266,
    "start_time": "2025-03-18T05:18:22.916Z"
   },
   {
    "duration": 9,
    "start_time": "2025-03-18T05:18:23.184Z"
   },
   {
    "duration": 135,
    "start_time": "2025-03-18T05:18:23.194Z"
   },
   {
    "duration": 172,
    "start_time": "2025-03-18T05:18:23.331Z"
   },
   {
    "duration": 214,
    "start_time": "2025-03-18T05:18:23.505Z"
   },
   {
    "duration": 15,
    "start_time": "2025-03-18T05:18:23.721Z"
   },
   {
    "duration": 127,
    "start_time": "2025-03-18T05:18:23.737Z"
   },
   {
    "duration": 166,
    "start_time": "2025-03-18T05:18:23.869Z"
   },
   {
    "duration": 207,
    "start_time": "2025-03-18T05:18:24.037Z"
   },
   {
    "duration": 8,
    "start_time": "2025-03-18T05:18:24.246Z"
   },
   {
    "duration": 128,
    "start_time": "2025-03-18T05:18:24.255Z"
   },
   {
    "duration": 252,
    "start_time": "2025-03-18T05:18:24.385Z"
   },
   {
    "duration": 208,
    "start_time": "2025-03-18T05:18:24.639Z"
   },
   {
    "duration": 11,
    "start_time": "2025-03-18T05:18:24.851Z"
   },
   {
    "duration": 133,
    "start_time": "2025-03-18T05:18:24.863Z"
   },
   {
    "duration": 7,
    "start_time": "2025-03-18T05:18:24.999Z"
   },
   {
    "duration": 234,
    "start_time": "2025-03-18T05:18:25.008Z"
   },
   {
    "duration": 0,
    "start_time": "2025-03-18T05:18:25.244Z"
   },
   {
    "duration": 14,
    "start_time": "2025-03-18T05:18:39.079Z"
   },
   {
    "duration": 20,
    "start_time": "2025-03-18T05:20:47.129Z"
   },
   {
    "duration": 3,
    "start_time": "2025-03-18T05:21:17.544Z"
   },
   {
    "duration": 6,
    "start_time": "2025-03-18T05:21:33.548Z"
   },
   {
    "duration": 4,
    "start_time": "2025-03-18T05:21:41.784Z"
   },
   {
    "duration": 4,
    "start_time": "2025-03-18T05:21:49.317Z"
   },
   {
    "duration": 4,
    "start_time": "2025-03-18T05:22:59.209Z"
   },
   {
    "duration": 4,
    "start_time": "2025-03-18T05:26:00.494Z"
   },
   {
    "duration": 4,
    "start_time": "2025-03-18T05:26:27.292Z"
   },
   {
    "duration": 4,
    "start_time": "2025-03-18T05:27:39.374Z"
   },
   {
    "duration": 4,
    "start_time": "2025-03-18T05:28:38.974Z"
   },
   {
    "duration": 4,
    "start_time": "2025-03-18T05:29:46.077Z"
   },
   {
    "duration": 6,
    "start_time": "2025-03-18T05:30:17.616Z"
   },
   {
    "duration": 7,
    "start_time": "2025-03-18T05:30:49.414Z"
   },
   {
    "duration": 9,
    "start_time": "2025-03-18T05:31:31.412Z"
   },
   {
    "duration": 3431,
    "start_time": "2025-03-18T18:09:25.006Z"
   },
   {
    "duration": 327,
    "start_time": "2025-03-18T18:09:28.440Z"
   },
   {
    "duration": 53,
    "start_time": "2025-03-18T18:09:28.769Z"
   },
   {
    "duration": 26,
    "start_time": "2025-03-18T18:09:28.826Z"
   },
   {
    "duration": 47,
    "start_time": "2025-03-18T18:09:28.854Z"
   },
   {
    "duration": 25,
    "start_time": "2025-03-18T18:09:28.914Z"
   },
   {
    "duration": 11,
    "start_time": "2025-03-18T18:09:28.941Z"
   },
   {
    "duration": 22,
    "start_time": "2025-03-18T18:09:28.954Z"
   },
   {
    "duration": 8,
    "start_time": "2025-03-18T18:09:28.978Z"
   },
   {
    "duration": 34,
    "start_time": "2025-03-18T18:09:28.988Z"
   },
   {
    "duration": 14,
    "start_time": "2025-03-18T18:09:29.027Z"
   },
   {
    "duration": 17,
    "start_time": "2025-03-18T18:09:29.043Z"
   },
   {
    "duration": 152,
    "start_time": "2025-03-18T18:09:29.074Z"
   },
   {
    "duration": 10,
    "start_time": "2025-03-18T18:09:29.230Z"
   },
   {
    "duration": 51,
    "start_time": "2025-03-18T18:09:29.242Z"
   },
   {
    "duration": 118,
    "start_time": "2025-03-18T18:09:29.306Z"
   },
   {
    "duration": 9,
    "start_time": "2025-03-18T18:09:29.426Z"
   },
   {
    "duration": 20,
    "start_time": "2025-03-18T18:09:29.437Z"
   },
   {
    "duration": 106,
    "start_time": "2025-03-18T18:09:29.459Z"
   },
   {
    "duration": 46,
    "start_time": "2025-03-18T18:09:29.567Z"
   },
   {
    "duration": 33,
    "start_time": "2025-03-18T18:09:29.622Z"
   },
   {
    "duration": 8,
    "start_time": "2025-03-18T18:09:29.658Z"
   },
   {
    "duration": 75,
    "start_time": "2025-03-18T18:09:29.668Z"
   },
   {
    "duration": 32,
    "start_time": "2025-03-18T18:09:29.745Z"
   },
   {
    "duration": 47,
    "start_time": "2025-03-18T18:09:29.778Z"
   },
   {
    "duration": 26,
    "start_time": "2025-03-18T18:09:29.829Z"
   },
   {
    "duration": 20,
    "start_time": "2025-03-18T18:09:29.857Z"
   },
   {
    "duration": 32,
    "start_time": "2025-03-18T18:09:29.881Z"
   },
   {
    "duration": 13,
    "start_time": "2025-03-18T18:09:29.915Z"
   },
   {
    "duration": 18,
    "start_time": "2025-03-18T18:09:29.930Z"
   },
   {
    "duration": 31,
    "start_time": "2025-03-18T18:09:29.950Z"
   },
   {
    "duration": 23,
    "start_time": "2025-03-18T18:09:29.998Z"
   },
   {
    "duration": 231,
    "start_time": "2025-03-18T18:09:30.023Z"
   },
   {
    "duration": 284,
    "start_time": "2025-03-18T18:09:30.256Z"
   },
   {
    "duration": 8,
    "start_time": "2025-03-18T18:09:30.542Z"
   },
   {
    "duration": 202,
    "start_time": "2025-03-18T18:09:30.551Z"
   },
   {
    "duration": 217,
    "start_time": "2025-03-18T18:09:30.755Z"
   },
   {
    "duration": 336,
    "start_time": "2025-03-18T18:09:30.973Z"
   },
   {
    "duration": 10,
    "start_time": "2025-03-18T18:09:31.318Z"
   },
   {
    "duration": 160,
    "start_time": "2025-03-18T18:09:31.329Z"
   },
   {
    "duration": 247,
    "start_time": "2025-03-18T18:09:31.494Z"
   },
   {
    "duration": 254,
    "start_time": "2025-03-18T18:09:31.743Z"
   },
   {
    "duration": 8,
    "start_time": "2025-03-18T18:09:31.998Z"
   },
   {
    "duration": 160,
    "start_time": "2025-03-18T18:09:32.008Z"
   },
   {
    "duration": 204,
    "start_time": "2025-03-18T18:09:32.177Z"
   },
   {
    "duration": 251,
    "start_time": "2025-03-18T18:09:32.382Z"
   },
   {
    "duration": 9,
    "start_time": "2025-03-18T18:09:32.635Z"
   },
   {
    "duration": 156,
    "start_time": "2025-03-18T18:09:32.645Z"
   },
   {
    "duration": 14,
    "start_time": "2025-03-18T18:09:32.803Z"
   },
   {
    "duration": 18,
    "start_time": "2025-03-18T18:09:32.819Z"
   },
   {
    "duration": 4,
    "start_time": "2025-03-18T18:09:32.840Z"
   },
   {
    "duration": 3,
    "start_time": "2025-03-18T18:09:32.846Z"
   },
   {
    "duration": 3457,
    "start_time": "2025-03-18T20:55:16.098Z"
   },
   {
    "duration": 273,
    "start_time": "2025-03-18T20:55:19.557Z"
   },
   {
    "duration": 16,
    "start_time": "2025-03-18T20:55:19.832Z"
   },
   {
    "duration": 35,
    "start_time": "2025-03-18T20:55:19.851Z"
   },
   {
    "duration": 44,
    "start_time": "2025-03-18T20:55:19.888Z"
   },
   {
    "duration": 28,
    "start_time": "2025-03-18T20:55:19.934Z"
   },
   {
    "duration": 14,
    "start_time": "2025-03-18T20:55:19.964Z"
   },
   {
    "duration": 22,
    "start_time": "2025-03-18T20:55:19.980Z"
   },
   {
    "duration": 29,
    "start_time": "2025-03-18T20:55:20.004Z"
   },
   {
    "duration": 25,
    "start_time": "2025-03-18T20:55:20.036Z"
   },
   {
    "duration": 12,
    "start_time": "2025-03-18T20:55:20.062Z"
   },
   {
    "duration": 21,
    "start_time": "2025-03-18T20:55:20.076Z"
   },
   {
    "duration": 158,
    "start_time": "2025-03-18T20:55:20.099Z"
   },
   {
    "duration": 8,
    "start_time": "2025-03-18T20:55:20.259Z"
   },
   {
    "duration": 33,
    "start_time": "2025-03-18T20:55:20.269Z"
   },
   {
    "duration": 96,
    "start_time": "2025-03-18T20:55:20.304Z"
   },
   {
    "duration": 12,
    "start_time": "2025-03-18T20:55:20.401Z"
   },
   {
    "duration": 36,
    "start_time": "2025-03-18T20:55:20.416Z"
   },
   {
    "duration": 61,
    "start_time": "2025-03-18T20:55:20.454Z"
   },
   {
    "duration": 22,
    "start_time": "2025-03-18T20:55:20.517Z"
   },
   {
    "duration": 27,
    "start_time": "2025-03-18T20:55:20.543Z"
   },
   {
    "duration": 14,
    "start_time": "2025-03-18T20:55:20.572Z"
   },
   {
    "duration": 52,
    "start_time": "2025-03-18T20:55:20.589Z"
   },
   {
    "duration": 32,
    "start_time": "2025-03-18T20:55:20.646Z"
   },
   {
    "duration": 19,
    "start_time": "2025-03-18T20:55:20.682Z"
   },
   {
    "duration": 37,
    "start_time": "2025-03-18T20:55:20.703Z"
   },
   {
    "duration": 18,
    "start_time": "2025-03-18T20:55:20.742Z"
   },
   {
    "duration": 11,
    "start_time": "2025-03-18T20:55:20.766Z"
   },
   {
    "duration": 9,
    "start_time": "2025-03-18T20:55:20.781Z"
   },
   {
    "duration": 49,
    "start_time": "2025-03-18T20:55:20.791Z"
   },
   {
    "duration": 23,
    "start_time": "2025-03-18T20:55:20.842Z"
   },
   {
    "duration": 11,
    "start_time": "2025-03-18T20:55:20.867Z"
   },
   {
    "duration": 206,
    "start_time": "2025-03-18T20:55:20.880Z"
   },
   {
    "duration": 246,
    "start_time": "2025-03-18T20:55:21.088Z"
   },
   {
    "duration": 10,
    "start_time": "2025-03-18T20:55:21.336Z"
   },
   {
    "duration": 136,
    "start_time": "2025-03-18T20:55:21.348Z"
   },
   {
    "duration": 236,
    "start_time": "2025-03-18T20:55:21.486Z"
   },
   {
    "duration": 236,
    "start_time": "2025-03-18T20:55:21.724Z"
   },
   {
    "duration": 10,
    "start_time": "2025-03-18T20:55:21.963Z"
   },
   {
    "duration": 122,
    "start_time": "2025-03-18T20:55:21.976Z"
   },
   {
    "duration": 191,
    "start_time": "2025-03-18T20:55:22.100Z"
   },
   {
    "duration": 280,
    "start_time": "2025-03-18T20:55:22.293Z"
   },
   {
    "duration": 11,
    "start_time": "2025-03-18T20:55:22.574Z"
   },
   {
    "duration": 137,
    "start_time": "2025-03-18T20:55:22.587Z"
   },
   {
    "duration": 257,
    "start_time": "2025-03-18T20:55:22.726Z"
   },
   {
    "duration": 241,
    "start_time": "2025-03-18T20:55:22.986Z"
   },
   {
    "duration": 11,
    "start_time": "2025-03-18T20:55:23.229Z"
   },
   {
    "duration": 216,
    "start_time": "2025-03-18T20:55:23.242Z"
   },
   {
    "duration": 11,
    "start_time": "2025-03-18T20:55:23.460Z"
   },
   {
    "duration": 10,
    "start_time": "2025-03-18T20:55:23.472Z"
   },
   {
    "duration": 4,
    "start_time": "2025-03-18T20:55:23.484Z"
   },
   {
    "duration": 3,
    "start_time": "2025-03-18T20:55:23.490Z"
   },
   {
    "duration": 4,
    "start_time": "2025-03-18T20:56:28.225Z"
   },
   {
    "duration": 5,
    "start_time": "2025-03-18T20:56:39.237Z"
   },
   {
    "duration": 18,
    "start_time": "2025-03-18T20:57:03.418Z"
   },
   {
    "duration": 17,
    "start_time": "2025-03-18T20:58:43.339Z"
   },
   {
    "duration": 5,
    "start_time": "2025-03-18T20:58:49.873Z"
   },
   {
    "duration": 236,
    "start_time": "2025-03-18T20:59:03.969Z"
   },
   {
    "duration": 5,
    "start_time": "2025-03-18T20:59:13.995Z"
   },
   {
    "duration": 2645,
    "start_time": "2025-03-19T00:17:09.422Z"
   },
   {
    "duration": 229,
    "start_time": "2025-03-19T00:17:12.069Z"
   },
   {
    "duration": 14,
    "start_time": "2025-03-19T00:17:12.300Z"
   },
   {
    "duration": 24,
    "start_time": "2025-03-19T00:17:12.316Z"
   },
   {
    "duration": 20,
    "start_time": "2025-03-19T00:17:12.342Z"
   },
   {
    "duration": 18,
    "start_time": "2025-03-19T00:17:12.364Z"
   },
   {
    "duration": 37,
    "start_time": "2025-03-19T00:17:12.384Z"
   },
   {
    "duration": 21,
    "start_time": "2025-03-19T00:17:12.422Z"
   },
   {
    "duration": 8,
    "start_time": "2025-03-19T00:17:12.445Z"
   },
   {
    "duration": 20,
    "start_time": "2025-03-19T00:17:12.456Z"
   },
   {
    "duration": 41,
    "start_time": "2025-03-19T00:17:12.477Z"
   },
   {
    "duration": 17,
    "start_time": "2025-03-19T00:17:12.520Z"
   },
   {
    "duration": 103,
    "start_time": "2025-03-19T00:17:12.539Z"
   },
   {
    "duration": 9,
    "start_time": "2025-03-19T00:17:12.644Z"
   },
   {
    "duration": 33,
    "start_time": "2025-03-19T00:17:12.655Z"
   },
   {
    "duration": 100,
    "start_time": "2025-03-19T00:17:12.690Z"
   },
   {
    "duration": 21,
    "start_time": "2025-03-19T00:17:12.792Z"
   },
   {
    "duration": 28,
    "start_time": "2025-03-19T00:17:12.815Z"
   },
   {
    "duration": 81,
    "start_time": "2025-03-19T00:17:12.844Z"
   },
   {
    "duration": 8,
    "start_time": "2025-03-19T00:17:12.927Z"
   },
   {
    "duration": 26,
    "start_time": "2025-03-19T00:17:12.937Z"
   },
   {
    "duration": 7,
    "start_time": "2025-03-19T00:17:12.964Z"
   },
   {
    "duration": 54,
    "start_time": "2025-03-19T00:17:12.973Z"
   },
   {
    "duration": 20,
    "start_time": "2025-03-19T00:17:13.029Z"
   },
   {
    "duration": 18,
    "start_time": "2025-03-19T00:17:13.050Z"
   },
   {
    "duration": 41,
    "start_time": "2025-03-19T00:17:13.070Z"
   },
   {
    "duration": 15,
    "start_time": "2025-03-19T00:17:13.113Z"
   },
   {
    "duration": 11,
    "start_time": "2025-03-19T00:17:13.132Z"
   },
   {
    "duration": 7,
    "start_time": "2025-03-19T00:17:13.145Z"
   },
   {
    "duration": 18,
    "start_time": "2025-03-19T00:17:13.154Z"
   },
   {
    "duration": 45,
    "start_time": "2025-03-19T00:17:13.173Z"
   },
   {
    "duration": 10,
    "start_time": "2025-03-19T00:17:13.219Z"
   },
   {
    "duration": 187,
    "start_time": "2025-03-19T00:17:13.230Z"
   },
   {
    "duration": 213,
    "start_time": "2025-03-19T00:17:13.419Z"
   },
   {
    "duration": 9,
    "start_time": "2025-03-19T00:17:13.634Z"
   },
   {
    "duration": 131,
    "start_time": "2025-03-19T00:17:13.645Z"
   },
   {
    "duration": 236,
    "start_time": "2025-03-19T00:17:13.778Z"
   },
   {
    "duration": 211,
    "start_time": "2025-03-19T00:17:14.015Z"
   },
   {
    "duration": 8,
    "start_time": "2025-03-19T00:17:14.229Z"
   },
   {
    "duration": 123,
    "start_time": "2025-03-19T00:17:14.239Z"
   },
   {
    "duration": 168,
    "start_time": "2025-03-19T00:17:14.364Z"
   },
   {
    "duration": 221,
    "start_time": "2025-03-19T00:17:14.534Z"
   },
   {
    "duration": 8,
    "start_time": "2025-03-19T00:17:14.757Z"
   },
   {
    "duration": 129,
    "start_time": "2025-03-19T00:17:14.767Z"
   },
   {
    "duration": 190,
    "start_time": "2025-03-19T00:17:14.898Z"
   },
   {
    "duration": 213,
    "start_time": "2025-03-19T00:17:15.090Z"
   },
   {
    "duration": 14,
    "start_time": "2025-03-19T00:17:15.305Z"
   },
   {
    "duration": 193,
    "start_time": "2025-03-19T00:17:15.321Z"
   },
   {
    "duration": 10,
    "start_time": "2025-03-19T00:17:15.516Z"
   },
   {
    "duration": 5,
    "start_time": "2025-03-19T00:17:15.527Z"
   },
   {
    "duration": 8,
    "start_time": "2025-03-19T00:17:15.534Z"
   },
   {
    "duration": 4,
    "start_time": "2025-03-19T00:17:15.543Z"
   },
   {
    "duration": 3,
    "start_time": "2025-03-19T00:17:15.549Z"
   },
   {
    "duration": 5,
    "start_time": "2025-03-19T00:22:54.706Z"
   },
   {
    "duration": 6,
    "start_time": "2025-03-19T00:23:19.785Z"
   },
   {
    "duration": 7,
    "start_time": "2025-03-19T00:24:38.870Z"
   },
   {
    "duration": 8,
    "start_time": "2025-03-19T00:25:27.564Z"
   },
   {
    "duration": 2,
    "start_time": "2025-03-19T00:40:24.443Z"
   },
   {
    "duration": 11,
    "start_time": "2025-03-19T00:55:54.696Z"
   },
   {
    "duration": 10,
    "start_time": "2025-03-19T01:19:26.020Z"
   },
   {
    "duration": 165,
    "start_time": "2025-03-19T01:54:45.248Z"
   },
   {
    "duration": 2600,
    "start_time": "2025-03-19T01:54:55.567Z"
   },
   {
    "duration": 235,
    "start_time": "2025-03-19T01:54:58.169Z"
   },
   {
    "duration": 15,
    "start_time": "2025-03-19T01:54:58.407Z"
   },
   {
    "duration": 27,
    "start_time": "2025-03-19T01:54:58.425Z"
   },
   {
    "duration": 21,
    "start_time": "2025-03-19T01:54:58.454Z"
   },
   {
    "duration": 17,
    "start_time": "2025-03-19T01:54:58.477Z"
   },
   {
    "duration": 10,
    "start_time": "2025-03-19T01:54:58.496Z"
   },
   {
    "duration": 48,
    "start_time": "2025-03-19T01:54:58.508Z"
   },
   {
    "duration": 7,
    "start_time": "2025-03-19T01:54:58.557Z"
   },
   {
    "duration": 21,
    "start_time": "2025-03-19T01:54:58.568Z"
   },
   {
    "duration": 8,
    "start_time": "2025-03-19T01:54:58.590Z"
   },
   {
    "duration": 46,
    "start_time": "2025-03-19T01:54:58.600Z"
   },
   {
    "duration": 78,
    "start_time": "2025-03-19T01:54:58.647Z"
   },
   {
    "duration": 23,
    "start_time": "2025-03-19T01:54:58.727Z"
   },
   {
    "duration": 35,
    "start_time": "2025-03-19T01:54:58.752Z"
   },
   {
    "duration": 95,
    "start_time": "2025-03-19T01:54:58.788Z"
   },
   {
    "duration": 8,
    "start_time": "2025-03-19T01:54:58.884Z"
   },
   {
    "duration": 21,
    "start_time": "2025-03-19T01:54:58.893Z"
   },
   {
    "duration": 81,
    "start_time": "2025-03-19T01:54:58.915Z"
   },
   {
    "duration": 7,
    "start_time": "2025-03-19T01:54:58.998Z"
   },
   {
    "duration": 42,
    "start_time": "2025-03-19T01:54:59.009Z"
   },
   {
    "duration": 11,
    "start_time": "2025-03-19T01:54:59.053Z"
   },
   {
    "duration": 28,
    "start_time": "2025-03-19T01:54:59.065Z"
   },
   {
    "duration": 22,
    "start_time": "2025-03-19T01:54:59.095Z"
   },
   {
    "duration": 35,
    "start_time": "2025-03-19T01:54:59.118Z"
   },
   {
    "duration": 21,
    "start_time": "2025-03-19T01:54:59.154Z"
   },
   {
    "duration": 13,
    "start_time": "2025-03-19T01:54:59.177Z"
   },
   {
    "duration": 10,
    "start_time": "2025-03-19T01:54:59.194Z"
   },
   {
    "duration": 6,
    "start_time": "2025-03-19T01:54:59.206Z"
   },
   {
    "duration": 21,
    "start_time": "2025-03-19T01:54:59.242Z"
   },
   {
    "duration": 20,
    "start_time": "2025-03-19T01:54:59.265Z"
   },
   {
    "duration": 10,
    "start_time": "2025-03-19T01:54:59.286Z"
   },
   {
    "duration": 206,
    "start_time": "2025-03-19T01:54:59.298Z"
   },
   {
    "duration": 220,
    "start_time": "2025-03-19T01:54:59.506Z"
   },
   {
    "duration": 17,
    "start_time": "2025-03-19T01:54:59.728Z"
   },
   {
    "duration": 126,
    "start_time": "2025-03-19T01:54:59.746Z"
   },
   {
    "duration": 177,
    "start_time": "2025-03-19T01:54:59.874Z"
   },
   {
    "duration": 268,
    "start_time": "2025-03-19T01:55:00.053Z"
   },
   {
    "duration": 8,
    "start_time": "2025-03-19T01:55:00.322Z"
   },
   {
    "duration": 116,
    "start_time": "2025-03-19T01:55:00.342Z"
   },
   {
    "duration": 203,
    "start_time": "2025-03-19T01:55:00.461Z"
   },
   {
    "duration": 215,
    "start_time": "2025-03-19T01:55:00.665Z"
   },
   {
    "duration": 8,
    "start_time": "2025-03-19T01:55:00.882Z"
   },
   {
    "duration": 133,
    "start_time": "2025-03-19T01:55:00.892Z"
   },
   {
    "duration": 189,
    "start_time": "2025-03-19T01:55:01.027Z"
   },
   {
    "duration": 216,
    "start_time": "2025-03-19T01:55:01.218Z"
   },
   {
    "duration": 13,
    "start_time": "2025-03-19T01:55:01.436Z"
   },
   {
    "duration": 130,
    "start_time": "2025-03-19T01:55:01.451Z"
   },
   {
    "duration": 8,
    "start_time": "2025-03-19T01:55:01.582Z"
   },
   {
    "duration": 4,
    "start_time": "2025-03-19T01:55:01.592Z"
   },
   {
    "duration": 9,
    "start_time": "2025-03-19T01:55:01.598Z"
   },
   {
    "duration": 129,
    "start_time": "2025-03-19T01:55:01.608Z"
   },
   {
    "duration": 10,
    "start_time": "2025-03-19T01:56:03.604Z"
   },
   {
    "duration": 221,
    "start_time": "2025-03-19T01:56:27.285Z"
   },
   {
    "duration": 20,
    "start_time": "2025-03-19T01:56:31.095Z"
   },
   {
    "duration": 10,
    "start_time": "2025-03-19T01:57:30.812Z"
   },
   {
    "duration": 17,
    "start_time": "2025-03-19T02:11:04.089Z"
   },
   {
    "duration": 14,
    "start_time": "2025-03-19T02:11:36.739Z"
   },
   {
    "duration": 15,
    "start_time": "2025-03-19T02:12:25.011Z"
   },
   {
    "duration": 2839,
    "start_time": "2025-03-19T05:56:35.306Z"
   },
   {
    "duration": 248,
    "start_time": "2025-03-19T05:56:38.147Z"
   },
   {
    "duration": 14,
    "start_time": "2025-03-19T05:56:38.397Z"
   },
   {
    "duration": 27,
    "start_time": "2025-03-19T05:56:38.413Z"
   },
   {
    "duration": 24,
    "start_time": "2025-03-19T05:56:38.443Z"
   },
   {
    "duration": 45,
    "start_time": "2025-03-19T05:56:38.469Z"
   },
   {
    "duration": 12,
    "start_time": "2025-03-19T05:56:38.516Z"
   },
   {
    "duration": 22,
    "start_time": "2025-03-19T05:56:38.530Z"
   },
   {
    "duration": 7,
    "start_time": "2025-03-19T05:56:38.554Z"
   },
   {
    "duration": 58,
    "start_time": "2025-03-19T05:56:38.563Z"
   },
   {
    "duration": 9,
    "start_time": "2025-03-19T05:56:38.622Z"
   },
   {
    "duration": 18,
    "start_time": "2025-03-19T05:56:38.633Z"
   },
   {
    "duration": 142,
    "start_time": "2025-03-19T05:56:38.653Z"
   },
   {
    "duration": 10,
    "start_time": "2025-03-19T05:56:38.808Z"
   },
   {
    "duration": 36,
    "start_time": "2025-03-19T05:56:38.820Z"
   },
   {
    "duration": 129,
    "start_time": "2025-03-19T05:56:38.858Z"
   },
   {
    "duration": 21,
    "start_time": "2025-03-19T05:56:38.989Z"
   },
   {
    "duration": 24,
    "start_time": "2025-03-19T05:56:39.012Z"
   },
   {
    "duration": 105,
    "start_time": "2025-03-19T05:56:39.038Z"
   },
   {
    "duration": 9,
    "start_time": "2025-03-19T05:56:39.146Z"
   },
   {
    "duration": 31,
    "start_time": "2025-03-19T05:56:39.157Z"
   },
   {
    "duration": 25,
    "start_time": "2025-03-19T05:56:39.190Z"
   },
   {
    "duration": 31,
    "start_time": "2025-03-19T05:56:39.216Z"
   },
   {
    "duration": 22,
    "start_time": "2025-03-19T05:56:39.249Z"
   },
   {
    "duration": 46,
    "start_time": "2025-03-19T05:56:39.273Z"
   },
   {
    "duration": 22,
    "start_time": "2025-03-19T05:56:39.322Z"
   },
   {
    "duration": 15,
    "start_time": "2025-03-19T05:56:39.346Z"
   },
   {
    "duration": 14,
    "start_time": "2025-03-19T05:56:39.363Z"
   },
   {
    "duration": 36,
    "start_time": "2025-03-19T05:56:39.379Z"
   },
   {
    "duration": 20,
    "start_time": "2025-03-19T05:56:39.417Z"
   },
   {
    "duration": 23,
    "start_time": "2025-03-19T05:56:39.438Z"
   },
   {
    "duration": 11,
    "start_time": "2025-03-19T05:56:39.462Z"
   },
   {
    "duration": 238,
    "start_time": "2025-03-19T05:56:39.475Z"
   },
   {
    "duration": 234,
    "start_time": "2025-03-19T05:56:39.714Z"
   },
   {
    "duration": 8,
    "start_time": "2025-03-19T05:56:39.950Z"
   },
   {
    "duration": 143,
    "start_time": "2025-03-19T05:56:39.960Z"
   },
   {
    "duration": 261,
    "start_time": "2025-03-19T05:56:40.109Z"
   },
   {
    "duration": 230,
    "start_time": "2025-03-19T05:56:40.373Z"
   },
   {
    "duration": 12,
    "start_time": "2025-03-19T05:56:40.606Z"
   },
   {
    "duration": 132,
    "start_time": "2025-03-19T05:56:40.620Z"
   },
   {
    "duration": 182,
    "start_time": "2025-03-19T05:56:40.758Z"
   },
   {
    "duration": 232,
    "start_time": "2025-03-19T05:56:40.942Z"
   },
   {
    "duration": 10,
    "start_time": "2025-03-19T05:56:41.176Z"
   },
   {
    "duration": 138,
    "start_time": "2025-03-19T05:56:41.187Z"
   },
   {
    "duration": 195,
    "start_time": "2025-03-19T05:56:41.327Z"
   },
   {
    "duration": 221,
    "start_time": "2025-03-19T05:56:41.524Z"
   },
   {
    "duration": 8,
    "start_time": "2025-03-19T05:56:41.747Z"
   },
   {
    "duration": 226,
    "start_time": "2025-03-19T05:56:41.757Z"
   },
   {
    "duration": 7,
    "start_time": "2025-03-19T05:56:41.985Z"
   },
   {
    "duration": 17,
    "start_time": "2025-03-19T05:56:41.993Z"
   },
   {
    "duration": 12,
    "start_time": "2025-03-19T05:56:42.012Z"
   }
  ],
  "colab": {
   "provenance": []
  },
  "kernelspec": {
   "display_name": "menv",
   "language": "python",
   "name": "python3"
  },
  "language_info": {
   "codemirror_mode": {
    "name": "ipython",
    "version": 3
   },
   "file_extension": ".py",
   "mimetype": "text/x-python",
   "name": "python",
   "nbconvert_exporter": "python",
   "pygments_lexer": "ipython3",
   "version": "3.12.10"
  },
  "toc": {
   "base_numbering": 1,
   "nav_menu": {},
   "number_sections": true,
   "sideBar": true,
   "skip_h1_title": false,
   "title_cell": "Table of Contents",
   "title_sidebar": "Contents",
   "toc_cell": false,
   "toc_position": {},
   "toc_section_display": true,
   "toc_window_display": true
  }
 },
 "nbformat": 4,
 "nbformat_minor": 1
}
